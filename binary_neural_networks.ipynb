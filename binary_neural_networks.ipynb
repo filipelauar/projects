{
  "nbformat": 4,
  "nbformat_minor": 0,
  "metadata": {
    "kernelspec": {
      "display_name": "Python 3",
      "language": "python",
      "name": "python3"
    },
    "language_info": {
      "codemirror_mode": {
        "name": "ipython",
        "version": 3
      },
      "file_extension": ".py",
      "mimetype": "text/x-python",
      "name": "python",
      "nbconvert_exporter": "python",
      "pygments_lexer": "ipython3",
      "version": "3.8.5"
    },
    "colab": {
      "name": "BNN_Podcast.ipynb",
      "provenance": [],
      "collapsed_sections": []
    }
  },
  "cells": [
    {
      "cell_type": "markdown",
      "metadata": {
        "id": "TtPolDR4F4sZ"
      },
      "source": [
        "# Binary networks experiment on toy data classification \n",
        "\n",
        "In this notebook we will play a litte with the concept of binary neural networks.\n",
        "\n",
        "For reference you can go to:\n",
        "\n",
        "https://arxiv.org/abs/1603.05279\n",
        "\n",
        "https://arxiv.org/abs/1511.00363\n",
        "\n",
        "Author: Breno Baldas Skuk\n",
        "\n"
      ]
    },
    {
      "cell_type": "markdown",
      "metadata": {
        "id": "GZm-nuelF4sg"
      },
      "source": [
        "TensorFlow is a free and open-source software library for machine learning and artificial intelligence. It is one of the many options to develop Deep Neural Networks.\n",
        "\n",
        "Larq is a library that allows us to implement binarized models using tensorflow syntax.\n",
        "\n",
        "https://github.com/larq/larq"
      ]
    },
    {
      "cell_type": "code",
      "metadata": {
        "colab": {
          "base_uri": "https://localhost:8080/"
        },
        "id": "M_-p6waKF7f4",
        "outputId": "327fdfed-0e6b-4b29-a70d-bc4906f71567"
      },
      "source": [
        "#Let's install tensorflow and larq.\n",
        "!pip install tensorflow\n",
        "!pip install larq"
      ],
      "execution_count": null,
      "outputs": [
        {
          "output_type": "stream",
          "name": "stdout",
          "text": [
            "Requirement already satisfied: tensorflow in /usr/local/lib/python3.7/dist-packages (2.6.0)\n",
            "Requirement already satisfied: tensorboard~=2.6 in /usr/local/lib/python3.7/dist-packages (from tensorflow) (2.6.0)\n",
            "Requirement already satisfied: keras-preprocessing~=1.1.2 in /usr/local/lib/python3.7/dist-packages (from tensorflow) (1.1.2)\n",
            "Requirement already satisfied: protobuf>=3.9.2 in /usr/local/lib/python3.7/dist-packages (from tensorflow) (3.17.3)\n",
            "Requirement already satisfied: wheel~=0.35 in /usr/local/lib/python3.7/dist-packages (from tensorflow) (0.37.0)\n",
            "Requirement already satisfied: termcolor~=1.1.0 in /usr/local/lib/python3.7/dist-packages (from tensorflow) (1.1.0)\n",
            "Requirement already satisfied: clang~=5.0 in /usr/local/lib/python3.7/dist-packages (from tensorflow) (5.0)\n",
            "Requirement already satisfied: six~=1.15.0 in /usr/local/lib/python3.7/dist-packages (from tensorflow) (1.15.0)\n",
            "Requirement already satisfied: typing-extensions~=3.7.4 in /usr/local/lib/python3.7/dist-packages (from tensorflow) (3.7.4.3)\n",
            "Requirement already satisfied: tensorflow-estimator~=2.6 in /usr/local/lib/python3.7/dist-packages (from tensorflow) (2.6.0)\n",
            "Requirement already satisfied: astunparse~=1.6.3 in /usr/local/lib/python3.7/dist-packages (from tensorflow) (1.6.3)\n",
            "Requirement already satisfied: opt-einsum~=3.3.0 in /usr/local/lib/python3.7/dist-packages (from tensorflow) (3.3.0)\n",
            "Requirement already satisfied: google-pasta~=0.2 in /usr/local/lib/python3.7/dist-packages (from tensorflow) (0.2.0)\n",
            "Requirement already satisfied: keras~=2.6 in /usr/local/lib/python3.7/dist-packages (from tensorflow) (2.6.0)\n",
            "Requirement already satisfied: h5py~=3.1.0 in /usr/local/lib/python3.7/dist-packages (from tensorflow) (3.1.0)\n",
            "Requirement already satisfied: numpy~=1.19.2 in /usr/local/lib/python3.7/dist-packages (from tensorflow) (1.19.5)\n",
            "Requirement already satisfied: grpcio<2.0,>=1.37.0 in /usr/local/lib/python3.7/dist-packages (from tensorflow) (1.41.0)\n",
            "Requirement already satisfied: wrapt~=1.12.1 in /usr/local/lib/python3.7/dist-packages (from tensorflow) (1.12.1)\n",
            "Requirement already satisfied: absl-py~=0.10 in /usr/local/lib/python3.7/dist-packages (from tensorflow) (0.12.0)\n",
            "Requirement already satisfied: gast==0.4.0 in /usr/local/lib/python3.7/dist-packages (from tensorflow) (0.4.0)\n",
            "Requirement already satisfied: flatbuffers~=1.12.0 in /usr/local/lib/python3.7/dist-packages (from tensorflow) (1.12)\n",
            "Requirement already satisfied: cached-property in /usr/local/lib/python3.7/dist-packages (from h5py~=3.1.0->tensorflow) (1.5.2)\n",
            "Requirement already satisfied: requests<3,>=2.21.0 in /usr/local/lib/python3.7/dist-packages (from tensorboard~=2.6->tensorflow) (2.23.0)\n",
            "Requirement already satisfied: werkzeug>=0.11.15 in /usr/local/lib/python3.7/dist-packages (from tensorboard~=2.6->tensorflow) (1.0.1)\n",
            "Requirement already satisfied: google-auth-oauthlib<0.5,>=0.4.1 in /usr/local/lib/python3.7/dist-packages (from tensorboard~=2.6->tensorflow) (0.4.6)\n",
            "Requirement already satisfied: tensorboard-data-server<0.7.0,>=0.6.0 in /usr/local/lib/python3.7/dist-packages (from tensorboard~=2.6->tensorflow) (0.6.1)\n",
            "Requirement already satisfied: tensorboard-plugin-wit>=1.6.0 in /usr/local/lib/python3.7/dist-packages (from tensorboard~=2.6->tensorflow) (1.8.0)\n",
            "Requirement already satisfied: google-auth<2,>=1.6.3 in /usr/local/lib/python3.7/dist-packages (from tensorboard~=2.6->tensorflow) (1.35.0)\n",
            "Requirement already satisfied: setuptools>=41.0.0 in /usr/local/lib/python3.7/dist-packages (from tensorboard~=2.6->tensorflow) (57.4.0)\n",
            "Requirement already satisfied: markdown>=2.6.8 in /usr/local/lib/python3.7/dist-packages (from tensorboard~=2.6->tensorflow) (3.3.4)\n",
            "Requirement already satisfied: rsa<5,>=3.1.4 in /usr/local/lib/python3.7/dist-packages (from google-auth<2,>=1.6.3->tensorboard~=2.6->tensorflow) (4.7.2)\n",
            "Requirement already satisfied: cachetools<5.0,>=2.0.0 in /usr/local/lib/python3.7/dist-packages (from google-auth<2,>=1.6.3->tensorboard~=2.6->tensorflow) (4.2.4)\n",
            "Requirement already satisfied: pyasn1-modules>=0.2.1 in /usr/local/lib/python3.7/dist-packages (from google-auth<2,>=1.6.3->tensorboard~=2.6->tensorflow) (0.2.8)\n",
            "Requirement already satisfied: requests-oauthlib>=0.7.0 in /usr/local/lib/python3.7/dist-packages (from google-auth-oauthlib<0.5,>=0.4.1->tensorboard~=2.6->tensorflow) (1.3.0)\n",
            "Requirement already satisfied: importlib-metadata in /usr/local/lib/python3.7/dist-packages (from markdown>=2.6.8->tensorboard~=2.6->tensorflow) (3.10.1)\n",
            "Requirement already satisfied: pyasn1<0.5.0,>=0.4.6 in /usr/local/lib/python3.7/dist-packages (from pyasn1-modules>=0.2.1->google-auth<2,>=1.6.3->tensorboard~=2.6->tensorflow) (0.4.8)\n",
            "Requirement already satisfied: chardet<4,>=3.0.2 in /usr/local/lib/python3.7/dist-packages (from requests<3,>=2.21.0->tensorboard~=2.6->tensorflow) (3.0.4)\n",
            "Requirement already satisfied: idna<3,>=2.5 in /usr/local/lib/python3.7/dist-packages (from requests<3,>=2.21.0->tensorboard~=2.6->tensorflow) (2.10)\n",
            "Requirement already satisfied: certifi>=2017.4.17 in /usr/local/lib/python3.7/dist-packages (from requests<3,>=2.21.0->tensorboard~=2.6->tensorflow) (2021.5.30)\n",
            "Requirement already satisfied: urllib3!=1.25.0,!=1.25.1,<1.26,>=1.21.1 in /usr/local/lib/python3.7/dist-packages (from requests<3,>=2.21.0->tensorboard~=2.6->tensorflow) (1.24.3)\n",
            "Requirement already satisfied: oauthlib>=3.0.0 in /usr/local/lib/python3.7/dist-packages (from requests-oauthlib>=0.7.0->google-auth-oauthlib<0.5,>=0.4.1->tensorboard~=2.6->tensorflow) (3.1.1)\n",
            "Requirement already satisfied: zipp>=0.5 in /usr/local/lib/python3.7/dist-packages (from importlib-metadata->markdown>=2.6.8->tensorboard~=2.6->tensorflow) (3.6.0)\n",
            "Requirement already satisfied: larq in /usr/local/lib/python3.7/dist-packages (0.12.1)\n",
            "Requirement already satisfied: importlib-metadata<4.0,>=2.0 in /usr/local/lib/python3.7/dist-packages (from larq) (3.10.1)\n",
            "Requirement already satisfied: terminaltables>=3.1.0 in /usr/local/lib/python3.7/dist-packages (from larq) (3.1.0)\n",
            "Requirement already satisfied: numpy<2.0,>=1.15.4 in /usr/local/lib/python3.7/dist-packages (from larq) (1.19.5)\n",
            "Requirement already satisfied: zipp>=0.5 in /usr/local/lib/python3.7/dist-packages (from importlib-metadata<4.0,>=2.0->larq) (3.6.0)\n",
            "Requirement already satisfied: typing-extensions>=3.6.4 in /usr/local/lib/python3.7/dist-packages (from importlib-metadata<4.0,>=2.0->larq) (3.7.4.3)\n"
          ]
        }
      ]
    },
    {
      "cell_type": "code",
      "metadata": {
        "id": "_a1RFd5qF4sh"
      },
      "source": [
        "import tensorflow as tf\n",
        "import larq as lq\n",
        "import numpy as np\n",
        "import matplotlib.pyplot as plt\n",
        "\n",
        "from sklearn.datasets import make_circles"
      ],
      "execution_count": null,
      "outputs": []
    },
    {
      "cell_type": "markdown",
      "metadata": {
        "id": "C8sgnppAF4sj"
      },
      "source": [
        "# 1. Generate the data\n",
        "\n",
        "Here we will generate two different sets of points. Once this is done we separate them in training and validation."
      ]
    },
    {
      "cell_type": "code",
      "metadata": {
        "colab": {
          "base_uri": "https://localhost:8080/",
          "height": 265
        },
        "id": "FKdFeQK4F4sk",
        "outputId": "36727a59-772c-4724-afde-3b10b8464796"
      },
      "source": [
        "n_points = 1200\n",
        "# generate training circles\n",
        "X, y = make_circles(n_samples=n_points, factor = 0.4, noise=0.1)\n",
        "# generate validation circles\n",
        "X_train, y_train = X[:1000], y[:1000]\n",
        "X_val, y_val = X[1000:1200], y[1000:1200]\n",
        "\n",
        "\n",
        "# select indices of points with each class label\n",
        "for i in range(2):\n",
        "    samples_ix = np.where(y == i)\n",
        "    plt.scatter(X[samples_ix, 0], X[samples_ix, 1], label=str(i))\n",
        "plt.legend()\n",
        "plt.show()\n",
        "\n",
        "# make labels categorical\n",
        "y_train = tf.keras.utils.to_categorical( y_train, num_classes=2)\n",
        "y_val = tf.keras.utils.to_categorical( y_val, num_classes=2)"
      ],
      "execution_count": null,
      "outputs": [
        {
          "output_type": "display_data",
          "data": {
            "image/png": "[encoded data removed]",
            "text/plain": [
              "<Figure size 432x288 with 1 Axes>"
            ]
          },
          "metadata": {
            "needs_background": "light"
          }
        }
      ]
    },
    {
      "cell_type": "markdown",
      "metadata": {
        "id": "RBMpj7SkF4sl"
      },
      "source": [
        "# 2. Defining architechture"
      ]
    },
    {
      "cell_type": "markdown",
      "metadata": {
        "id": "M-K5g7UsGaCH"
      },
      "source": [
        "## 2.1 Set binarization parameters"
      ]
    },
    {
      "cell_type": "code",
      "metadata": {
        "id": "Dgk6gBkCGeup"
      },
      "source": [
        "# All quantized layers except the first will use the same options\n",
        "kwargs = dict(input_quantizer=\"ste_sign\",\n",
        "              kernel_quantizer=\"ste_sign\",\n",
        "              kernel_constraint=\"weight_clip\",\n",
        "              use_bias=False)\n"
      ],
      "execution_count": null,
      "outputs": []
    },
    {
      "cell_type": "markdown",
      "metadata": {
        "id": "0dXH004cGiXi"
      },
      "source": [
        "# 2.2 Create sequential tensorflow model\n",
        "\n",
        "For this experiment we only quantize the weights of the input letting the input be full precision. For the other layers we impose binary inputs and weights."
      ]
    },
    {
      "cell_type": "code",
      "metadata": {
        "id": "6uuYYhuvF4sl"
      },
      "source": [
        "model = tf.keras.models.Sequential([\n",
        "    # In the first layer we only quantize the weights and not the input\n",
        "    \n",
        "    lq.layers.QuantDense(10,  kernel_quantizer=\"ste_sign\",\n",
        "                              kernel_constraint=\"weight_clip\",\n",
        "                              use_bias=False, input_dim=2),\n",
        "        \n",
        "    tf.keras.layers.BatchNormalization(momentum=0.9, scale=False),\n",
        "\n",
        "    lq.layers.QuantDense(10, **kwargs),\n",
        "    \n",
        "    tf.keras.layers.BatchNormalization(momentum=0.9, scale=False),\n",
        "\n",
        "    lq.layers.QuantDense(2, **kwargs),\n",
        "        \n",
        "    tf.keras.layers.BatchNormalization(momentum=0.9, scale=False),\n",
        "    \n",
        "    tf.keras.layers.Activation(\"softmax\")\n",
        "    \n",
        "])"
      ],
      "execution_count": null,
      "outputs": []
    },
    {
      "cell_type": "markdown",
      "metadata": {
        "id": "z5yTfnoPHKbo"
      },
      "source": [
        "# 2.3 Binarization ratio and MAC operations\n",
        "\n",
        "The larq library allows us to measure the binarization ratio and the number of mac operations. This is very important when doing binary models since we want to keep the number of MACs low (compared to a full precision model that does the same task) and the binarization ratio high (close to 1).\n"
      ]
    },
    {
      "cell_type": "code",
      "metadata": {
        "id": "H4ShCE-eF4sm",
        "outputId": "c053fd8e-076c-47de-dafb-00809da58191"
      },
      "source": [
        "lq.models.summary(model)"
      ],
      "execution_count": null,
      "outputs": [
        {
          "name": "stdout",
          "output_type": "stream",
          "text": [
            "+sequential_1 stats--------------------------------------------------------------------------------+\n",
            "| Layer                  Input prec.   Outputs  # 1-bit  # 32-bit  Memory  1-bit MACs  32-bit MACs |\n",
            "|                              (bit)                x 1       x 1    (kB)                          |\n",
            "+--------------------------------------------------------------------------------------------------+\n",
            "| quant_dense_3                    -  (-1, 10)       20         0    0.00           0           20 |\n",
            "| batch_normalization_3            -  (-1, 10)        0        20    0.08           0            0 |\n",
            "| quant_dense_4                    1  (-1, 10)      100         0    0.01         100            0 |\n",
            "| batch_normalization_4            -  (-1, 10)        0        20    0.08           0            0 |\n",
            "| quant_dense_5                    1   (-1, 2)       20         0    0.00          20            0 |\n",
            "| batch_normalization_5            -   (-1, 2)        0         4    0.02           0            0 |\n",
            "| activation_1                     -   (-1, 2)        0         0       0           ?            ? |\n",
            "+--------------------------------------------------------------------------------------------------+\n",
            "| Total                                             140        44    0.19         120           20 |\n",
            "+--------------------------------------------------------------------------------------------------+\n",
            "+sequential_1 summary------------------------+\n",
            "| Total params                      184      |\n",
            "| Trainable params                  140      |\n",
            "| Non-trainable params              44       |\n",
            "| Model size                        193.50 B |\n",
            "| Model size (8-bit FP weights)     61.50 B  |\n",
            "| Float-32 Equivalent               736.00 B |\n",
            "| Compression Ratio of Memory       0.26     |\n",
            "| Number of MACs                    140      |\n",
            "| Ratio of MACs that are binarized  0.8571   |\n",
            "+--------------------------------------------+\n"
          ]
        }
      ]
    },
    {
      "cell_type": "markdown",
      "metadata": {
        "id": "NrW6U0kFF4sm"
      },
      "source": [
        "# 3. Training the model "
      ]
    },
    {
      "cell_type": "code",
      "metadata": {
        "colab": {
          "base_uri": "https://localhost:8080/"
        },
        "id": "G5ArkyOWF4sm",
        "outputId": "b0c90269-eec2-4214-9755-052a339e655d"
      },
      "source": [
        "model.compile(\n",
        "    tf.keras.optimizers.Adam(lr=0.01, decay=0.0001),\n",
        "    loss=\"binary_crossentropy\",\n",
        "    metrics=[\"accuracy\"],\n",
        ")"
      ],
      "execution_count": null,
      "outputs": [
        {
          "output_type": "stream",
          "name": "stderr",
          "text": [
            "/usr/local/lib/python3.7/dist-packages/keras/optimizer_v2/optimizer_v2.py:356: UserWarning: The `lr` argument is deprecated, use `learning_rate` instead.\n",
            "  \"The `lr` argument is deprecated, use `learning_rate` instead.\")\n"
          ]
        }
      ]
    },
    {
      "cell_type": "code",
      "metadata": {
        "colab": {
          "base_uri": "https://localhost:8080/"
        },
        "id": "PzCuLBsUF4sn",
        "outputId": "6af25d57-def4-4b2e-98eb-12fedaea5161"
      },
      "source": [
        "trained_model = model.fit(\n",
        "    X_train, \n",
        "    y_train,\n",
        "    batch_size=50, \n",
        "    epochs=40,\n",
        "    validation_data=(X_val, y_val)\n",
        ")"
      ],
      "execution_count": null,
      "outputs": [
        {
          "output_type": "stream",
          "name": "stdout",
          "text": [
            "Epoch 1/40\n",
            "20/20 [==============================] - 2s 14ms/step - loss: 0.7845 - accuracy: 0.5270 - val_loss: 0.7573 - val_accuracy: 0.5100\n",
            "Epoch 2/40\n",
            "20/20 [==============================] - 0s 4ms/step - loss: 0.6880 - accuracy: 0.6330 - val_loss: 0.6665 - val_accuracy: 0.6500\n",
            "Epoch 3/40\n",
            "20/20 [==============================] - 0s 4ms/step - loss: 0.6281 - accuracy: 0.6670 - val_loss: 0.6070 - val_accuracy: 0.6700\n",
            "Epoch 4/40\n",
            "20/20 [==============================] - 0s 3ms/step - loss: 0.5756 - accuracy: 0.7040 - val_loss: 0.5460 - val_accuracy: 0.7500\n",
            "Epoch 5/40\n",
            "20/20 [==============================] - 0s 4ms/step - loss: 0.5436 - accuracy: 0.7050 - val_loss: 0.5077 - val_accuracy: 0.7400\n",
            "Epoch 6/40\n",
            "20/20 [==============================] - 0s 3ms/step - loss: 0.5170 - accuracy: 0.7370 - val_loss: 0.4899 - val_accuracy: 0.7750\n",
            "Epoch 7/40\n",
            "20/20 [==============================] - 0s 3ms/step - loss: 0.4790 - accuracy: 0.7620 - val_loss: 0.4127 - val_accuracy: 0.8200\n",
            "Epoch 8/40\n",
            "20/20 [==============================] - 0s 3ms/step - loss: 0.4463 - accuracy: 0.8030 - val_loss: 0.4170 - val_accuracy: 0.8400\n",
            "Epoch 9/40\n",
            "20/20 [==============================] - 0s 3ms/step - loss: 0.4608 - accuracy: 0.7930 - val_loss: 0.4195 - val_accuracy: 0.8550\n",
            "Epoch 10/40\n",
            "20/20 [==============================] - 0s 4ms/step - loss: 0.4250 - accuracy: 0.8540 - val_loss: 0.4070 - val_accuracy: 0.8750\n",
            "Epoch 11/40\n",
            "20/20 [==============================] - 0s 3ms/step - loss: 0.4405 - accuracy: 0.8320 - val_loss: 0.4062 - val_accuracy: 0.8450\n",
            "Epoch 12/40\n",
            "20/20 [==============================] - 0s 3ms/step - loss: 0.4100 - accuracy: 0.8730 - val_loss: 0.3648 - val_accuracy: 0.9250\n",
            "Epoch 13/40\n",
            "20/20 [==============================] - 0s 3ms/step - loss: 0.3952 - accuracy: 0.9060 - val_loss: 0.3795 - val_accuracy: 0.9250\n",
            "Epoch 14/40\n",
            "20/20 [==============================] - 0s 3ms/step - loss: 0.4059 - accuracy: 0.8960 - val_loss: 0.3689 - val_accuracy: 0.9350\n",
            "Epoch 15/40\n",
            "20/20 [==============================] - 0s 3ms/step - loss: 0.3938 - accuracy: 0.9070 - val_loss: 0.3595 - val_accuracy: 0.9350\n",
            "Epoch 16/40\n",
            "20/20 [==============================] - 0s 3ms/step - loss: 0.3778 - accuracy: 0.9270 - val_loss: 0.3618 - val_accuracy: 0.9400\n",
            "Epoch 17/40\n",
            "20/20 [==============================] - 0s 3ms/step - loss: 0.3761 - accuracy: 0.9310 - val_loss: 0.3613 - val_accuracy: 0.9450\n",
            "Epoch 18/40\n",
            "20/20 [==============================] - 0s 3ms/step - loss: 0.3755 - accuracy: 0.9370 - val_loss: 0.3641 - val_accuracy: 0.9550\n",
            "Epoch 19/40\n",
            "20/20 [==============================] - 0s 3ms/step - loss: 0.3686 - accuracy: 0.9440 - val_loss: 0.3582 - val_accuracy: 0.9650\n",
            "Epoch 20/40\n",
            "20/20 [==============================] - 0s 4ms/step - loss: 0.3835 - accuracy: 0.9350 - val_loss: 0.3298 - val_accuracy: 0.9700\n",
            "Epoch 21/40\n",
            "20/20 [==============================] - 0s 3ms/step - loss: 0.3755 - accuracy: 0.9400 - val_loss: 0.3414 - val_accuracy: 0.9650\n",
            "Epoch 22/40\n",
            "20/20 [==============================] - 0s 4ms/step - loss: 0.3791 - accuracy: 0.9390 - val_loss: 0.3318 - val_accuracy: 0.9750\n",
            "Epoch 23/40\n",
            "20/20 [==============================] - 0s 3ms/step - loss: 0.3598 - accuracy: 0.9480 - val_loss: 0.3206 - val_accuracy: 0.9800\n",
            "Epoch 24/40\n",
            "20/20 [==============================] - 0s 4ms/step - loss: 0.3675 - accuracy: 0.9460 - val_loss: 0.3284 - val_accuracy: 0.9800\n",
            "Epoch 25/40\n",
            "20/20 [==============================] - 0s 4ms/step - loss: 0.3785 - accuracy: 0.9410 - val_loss: 0.3160 - val_accuracy: 0.9900\n",
            "Epoch 26/40\n",
            "20/20 [==============================] - 0s 3ms/step - loss: 0.3567 - accuracy: 0.9600 - val_loss: 0.3185 - val_accuracy: 0.9800\n",
            "Epoch 27/40\n",
            "20/20 [==============================] - 0s 3ms/step - loss: 0.3620 - accuracy: 0.9540 - val_loss: 0.3427 - val_accuracy: 0.9800\n",
            "Epoch 28/40\n",
            "20/20 [==============================] - 0s 3ms/step - loss: 0.3663 - accuracy: 0.9530 - val_loss: 0.3785 - val_accuracy: 0.9900\n",
            "Epoch 29/40\n",
            "20/20 [==============================] - 0s 3ms/step - loss: 0.3585 - accuracy: 0.9560 - val_loss: 0.3509 - val_accuracy: 0.9900\n",
            "Epoch 30/40\n",
            "20/20 [==============================] - 0s 3ms/step - loss: 0.3629 - accuracy: 0.9480 - val_loss: 0.3144 - val_accuracy: 0.9900\n",
            "Epoch 31/40\n",
            "20/20 [==============================] - 0s 3ms/step - loss: 0.3526 - accuracy: 0.9610 - val_loss: 0.3212 - val_accuracy: 0.9900\n",
            "Epoch 32/40\n",
            "20/20 [==============================] - 0s 3ms/step - loss: 0.3652 - accuracy: 0.9560 - val_loss: 0.3298 - val_accuracy: 0.9800\n",
            "Epoch 33/40\n",
            "20/20 [==============================] - 0s 4ms/step - loss: 0.3566 - accuracy: 0.9560 - val_loss: 0.3003 - val_accuracy: 0.9900\n",
            "Epoch 34/40\n",
            "20/20 [==============================] - 0s 3ms/step - loss: 0.3516 - accuracy: 0.9590 - val_loss: 0.3174 - val_accuracy: 0.9800\n",
            "Epoch 35/40\n",
            "20/20 [==============================] - 0s 3ms/step - loss: 0.3539 - accuracy: 0.9600 - val_loss: 0.3322 - val_accuracy: 0.9950\n",
            "Epoch 36/40\n",
            "20/20 [==============================] - 0s 3ms/step - loss: 0.3547 - accuracy: 0.9620 - val_loss: 0.3123 - val_accuracy: 0.9950\n",
            "Epoch 37/40\n",
            "20/20 [==============================] - 0s 4ms/step - loss: 0.3719 - accuracy: 0.9430 - val_loss: 0.3136 - val_accuracy: 0.9900\n",
            "Epoch 38/40\n",
            "20/20 [==============================] - 0s 3ms/step - loss: 0.3573 - accuracy: 0.9590 - val_loss: 0.3194 - val_accuracy: 0.9900\n",
            "Epoch 39/40\n",
            "20/20 [==============================] - 0s 3ms/step - loss: 0.3410 - accuracy: 0.9740 - val_loss: 0.3164 - val_accuracy: 0.9950\n",
            "Epoch 40/40\n",
            "20/20 [==============================] - 0s 3ms/step - loss: 0.3481 - accuracy: 0.9670 - val_loss: 0.3201 - val_accuracy: 0.9900\n"
          ]
        }
      ]
    },
    {
      "cell_type": "markdown",
      "metadata": {
        "id": "6Q9RFnNNF4sn"
      },
      "source": [
        "# 4. Model analysis\n",
        "\n",
        "We notice that the binarized model seems to perform well. The binerization process can be formalized as a regularization of the network, and we can see here that the model is not overfitting. "
      ]
    },
    {
      "cell_type": "code",
      "metadata": {
        "colab": {
          "base_uri": "https://localhost:8080/",
          "height": 329
        },
        "id": "S2GddtrFF4sn",
        "outputId": "6261e56f-acfb-480e-8834-82d9b475d6de"
      },
      "source": [
        "plt.plot(trained_model.history['accuracy'])\n",
        "plt.plot(trained_model.history['val_accuracy'])\n",
        "plt.title('model accuracy')\n",
        "plt.ylabel('accuracy')\n",
        "plt.xlabel('epoch')\n",
        "plt.legend(['train', 'validation'], loc='upper left')\n",
        "\n",
        "print(np.max(trained_model.history['accuracy']))\n",
        "print(np.max(trained_model.history['val_accuracy']))"
      ],
      "execution_count": null,
      "outputs": [
        {
          "output_type": "stream",
          "name": "stdout",
          "text": [
            "0.9739999771118164\n",
            "0.9950000047683716\n"
          ]
        },
        {
          "output_type": "display_data",
          "data": {
            "image/png": "[encoded data removed]",
            "text/plain": [
              "<Figure size 432x288 with 1 Axes>"
            ]
          },
          "metadata": {
            "needs_background": "light"
          }
        }
      ]
    },
    {
      "cell_type": "code",
      "metadata": {
        "colab": {
          "base_uri": "https://localhost:8080/",
          "height": 329
        },
        "id": "QEj5QLnBF4so",
        "outputId": "f35375c4-dfd7-42f6-923b-5a47e2a45044"
      },
      "source": [
        "plt.plot(trained_model.history['loss'])\n",
        "plt.plot(trained_model.history['val_loss'])\n",
        "plt.title('model loss')\n",
        "plt.ylabel('loss')\n",
        "plt.xlabel('epoch')\n",
        "plt.legend(['train', 'val'], loc='upper left')\n",
        "\n",
        "print(np.min(trained_model.history['loss']))\n",
        "print(np.min(trained_model.history['val_loss']))"
      ],
      "execution_count": null,
      "outputs": [
        {
          "output_type": "stream",
          "name": "stdout",
          "text": [
            "0.3409940004348755\n",
            "0.30033791065216064\n"
          ]
        },
        {
          "output_type": "display_data",
          "data": {
            "image/png": "[encoded data removed]",
            "text/plain": [
              "<Figure size 432x288 with 1 Axes>"
            ]
          },
          "metadata": {
            "needs_background": "light"
          }
        }
      ]
    },
    {
      "cell_type": "markdown",
      "metadata": {
        "id": "yIHalxEEF4so"
      },
      "source": [
        "# 5. Let's remove the binarization constraint and train the same architecture!"
      ]
    },
    {
      "cell_type": "code",
      "metadata": {
        "id": "m4KSjyaXF4so"
      },
      "source": [
        "model = tf.keras.models.Sequential([\n",
        "    # In the first layer we only quantize the weights and not the input\n",
        "    \n",
        "    tf.keras.layers.Dense(10, use_bias=False, input_dim=2),\n",
        "        \n",
        "    tf.keras.layers.BatchNormalization(momentum=0.9, scale=False),\n",
        "\n",
        "    tf.keras.layers.Dense(10),\n",
        "    \n",
        "    tf.keras.layers.BatchNormalization(momentum=0.9, scale=False),\n",
        "\n",
        "    tf.keras.layers.Dense(2),\n",
        "        \n",
        "    tf.keras.layers.BatchNormalization(momentum=0.9, scale=False),\n",
        "    \n",
        "    tf.keras.layers.Activation(\"softmax\")\n",
        "    \n",
        "])"
      ],
      "execution_count": null,
      "outputs": []
    },
    {
      "cell_type": "markdown",
      "metadata": {
        "id": "Jv9WK0vXIash"
      },
      "source": [
        "## 5.1 Mac operations and binarization ratio\n",
        "\n",
        "Notice that the binarization ratio is zero and the number of MAC operations is still the zame (140)"
      ]
    },
    {
      "cell_type": "code",
      "metadata": {
        "colab": {
          "base_uri": "https://localhost:8080/"
        },
        "id": "gyAoP7XUF4sp",
        "outputId": "bb9f073f-724a-4c84-b1eb-caf3abb4fb87"
      },
      "source": [
        "lq.models.summary(model)"
      ],
      "execution_count": null,
      "outputs": [
        {
          "output_type": "stream",
          "name": "stdout",
          "text": [
            "+sequential_1 stats-----------------------------------------------------------+\n",
            "| Layer                  Input prec.   Outputs  # 32-bit  Memory  32-bit MACs |\n",
            "|                              (bit)                 x 1    (kB)              |\n",
            "+-----------------------------------------------------------------------------+\n",
            "| dense                            -  (-1, 10)        20    0.08           20 |\n",
            "| batch_normalization_4            -  (-1, 10)        20    0.08            0 |\n",
            "| dense_1                          -  (-1, 10)       110    0.43          100 |\n",
            "| batch_normalization_5            -  (-1, 10)        20    0.08            0 |\n",
            "| dense_2                          -   (-1, 2)        22    0.09           20 |\n",
            "| batch_normalization_6            -   (-1, 2)         4    0.02            0 |\n",
            "| activation_1                     -   (-1, 2)         0       0            ? |\n",
            "+-----------------------------------------------------------------------------+\n",
            "| Total                                              196    0.77          140 |\n",
            "+-----------------------------------------------------------------------------+\n",
            "+sequential_1 summary---------------------+\n",
            "| Total params                   196      |\n",
            "| Trainable params               152      |\n",
            "| Non-trainable params           44       |\n",
            "| Model size                     784.00 B |\n",
            "| Model size (8-bit FP weights)  196.00 B |\n",
            "| Float-32 Equivalent            784.00 B |\n",
            "| Compression Ratio of Memory    1.00     |\n",
            "| Number of MACs                 140      |\n",
            "+-----------------------------------------+\n"
          ]
        }
      ]
    },
    {
      "cell_type": "code",
      "metadata": {
        "colab": {
          "base_uri": "https://localhost:8080/"
        },
        "id": "HaKs3uDaF4sp",
        "outputId": "1c3100e3-f8fa-47de-e376-08b336618624"
      },
      "source": [
        "model.compile(\n",
        "    tf.keras.optimizers.Adam(lr=0.01, decay=0.0001),\n",
        "    loss=\"binary_crossentropy\",\n",
        "    metrics=[\"accuracy\"],\n",
        ")"
      ],
      "execution_count": null,
      "outputs": [
        {
          "output_type": "stream",
          "name": "stderr",
          "text": [
            "/usr/local/lib/python3.7/dist-packages/keras/optimizer_v2/optimizer_v2.py:356: UserWarning: The `lr` argument is deprecated, use `learning_rate` instead.\n",
            "  \"The `lr` argument is deprecated, use `learning_rate` instead.\")\n"
          ]
        }
      ]
    },
    {
      "cell_type": "code",
      "metadata": {
        "colab": {
          "base_uri": "https://localhost:8080/"
        },
        "id": "zYMIioDdF4sq",
        "outputId": "58705dde-e3d9-48bf-8214-2ec05bbf6046"
      },
      "source": [
        "trained_model = model.fit(\n",
        "    X_train, \n",
        "    y_train,\n",
        "    batch_size=50, \n",
        "    epochs=40,\n",
        "    validation_data=(X_val, y_val)\n",
        ")"
      ],
      "execution_count": null,
      "outputs": [
        {
          "output_type": "stream",
          "name": "stdout",
          "text": [
            "Epoch 1/40\n",
            "20/20 [==============================] - 1s 11ms/step - loss: 0.8142 - accuracy: 0.5030 - val_loss: 0.7264 - val_accuracy: 0.5300\n",
            "Epoch 2/40\n",
            "20/20 [==============================] - 0s 3ms/step - loss: 0.8130 - accuracy: 0.4840 - val_loss: 0.7690 - val_accuracy: 0.5300\n",
            "Epoch 3/40\n",
            "20/20 [==============================] - 0s 3ms/step - loss: 0.8093 - accuracy: 0.4850 - val_loss: 0.7896 - val_accuracy: 0.5200\n",
            "Epoch 4/40\n",
            "20/20 [==============================] - 0s 3ms/step - loss: 0.8099 - accuracy: 0.4900 - val_loss: 0.8015 - val_accuracy: 0.5200\n",
            "Epoch 5/40\n",
            "20/20 [==============================] - 0s 4ms/step - loss: 0.8097 - accuracy: 0.5000 - val_loss: 0.7985 - val_accuracy: 0.5000\n",
            "Epoch 6/40\n",
            "20/20 [==============================] - 0s 3ms/step - loss: 0.8100 - accuracy: 0.5010 - val_loss: 0.7998 - val_accuracy: 0.4950\n",
            "Epoch 7/40\n",
            "20/20 [==============================] - 0s 3ms/step - loss: 0.8065 - accuracy: 0.5010 - val_loss: 0.7985 - val_accuracy: 0.5000\n",
            "Epoch 8/40\n",
            "20/20 [==============================] - 0s 3ms/step - loss: 0.8104 - accuracy: 0.5110 - val_loss: 0.7954 - val_accuracy: 0.5150\n",
            "Epoch 9/40\n",
            "20/20 [==============================] - 0s 4ms/step - loss: 0.8089 - accuracy: 0.5030 - val_loss: 0.7936 - val_accuracy: 0.4900\n",
            "Epoch 10/40\n",
            "20/20 [==============================] - 0s 4ms/step - loss: 0.8093 - accuracy: 0.4940 - val_loss: 0.7997 - val_accuracy: 0.5150\n",
            "Epoch 11/40\n",
            "20/20 [==============================] - 0s 4ms/step - loss: 0.8094 - accuracy: 0.4840 - val_loss: 0.8016 - val_accuracy: 0.4950\n",
            "Epoch 12/40\n",
            "20/20 [==============================] - 0s 4ms/step - loss: 0.8104 - accuracy: 0.5050 - val_loss: 0.8060 - val_accuracy: 0.5200\n",
            "Epoch 13/40\n",
            "20/20 [==============================] - 0s 4ms/step - loss: 0.8096 - accuracy: 0.4560 - val_loss: 0.8032 - val_accuracy: 0.4950\n",
            "Epoch 14/40\n",
            "20/20 [==============================] - 0s 3ms/step - loss: 0.8089 - accuracy: 0.4840 - val_loss: 0.7968 - val_accuracy: 0.5150\n",
            "Epoch 15/40\n",
            "20/20 [==============================] - 0s 3ms/step - loss: 0.8096 - accuracy: 0.4880 - val_loss: 0.8033 - val_accuracy: 0.5000\n",
            "Epoch 16/40\n",
            "20/20 [==============================] - 0s 3ms/step - loss: 0.8093 - accuracy: 0.4770 - val_loss: 0.8036 - val_accuracy: 0.5050\n",
            "Epoch 17/40\n",
            "20/20 [==============================] - 0s 3ms/step - loss: 0.8088 - accuracy: 0.4970 - val_loss: 0.8016 - val_accuracy: 0.5300\n",
            "Epoch 18/40\n",
            "20/20 [==============================] - 0s 3ms/step - loss: 0.8080 - accuracy: 0.4700 - val_loss: 0.8014 - val_accuracy: 0.4850\n",
            "Epoch 19/40\n",
            "20/20 [==============================] - 0s 3ms/step - loss: 0.8090 - accuracy: 0.4840 - val_loss: 0.8004 - val_accuracy: 0.5050\n",
            "Epoch 20/40\n",
            "20/20 [==============================] - 0s 3ms/step - loss: 0.8086 - accuracy: 0.4640 - val_loss: 0.8043 - val_accuracy: 0.4950\n",
            "Epoch 21/40\n",
            "20/20 [==============================] - 0s 4ms/step - loss: 0.8089 - accuracy: 0.4810 - val_loss: 0.7999 - val_accuracy: 0.5200\n",
            "Epoch 22/40\n",
            "20/20 [==============================] - 0s 4ms/step - loss: 0.8082 - accuracy: 0.4480 - val_loss: 0.8018 - val_accuracy: 0.4550\n",
            "Epoch 23/40\n",
            "20/20 [==============================] - 0s 4ms/step - loss: 0.8088 - accuracy: 0.4200 - val_loss: 0.8036 - val_accuracy: 0.4550\n",
            "Epoch 24/40\n",
            "20/20 [==============================] - 0s 4ms/step - loss: 0.8085 - accuracy: 0.4430 - val_loss: 0.8046 - val_accuracy: 0.4750\n",
            "Epoch 25/40\n",
            "20/20 [==============================] - 0s 4ms/step - loss: 0.8083 - accuracy: 0.4050 - val_loss: 0.8044 - val_accuracy: 0.4650\n",
            "Epoch 26/40\n",
            "20/20 [==============================] - 0s 5ms/step - loss: 0.8086 - accuracy: 0.4720 - val_loss: 0.8030 - val_accuracy: 0.4950\n",
            "Epoch 27/40\n",
            "20/20 [==============================] - 0s 3ms/step - loss: 0.8091 - accuracy: 0.4300 - val_loss: 0.8076 - val_accuracy: 0.4850\n",
            "Epoch 28/40\n",
            "20/20 [==============================] - 0s 3ms/step - loss: 0.8086 - accuracy: 0.4400 - val_loss: 0.8044 - val_accuracy: 0.4950\n",
            "Epoch 29/40\n",
            "20/20 [==============================] - 0s 4ms/step - loss: 0.8083 - accuracy: 0.4560 - val_loss: 0.8061 - val_accuracy: 0.4650\n",
            "Epoch 30/40\n",
            "20/20 [==============================] - 0s 3ms/step - loss: 0.8087 - accuracy: 0.5360 - val_loss: 0.8006 - val_accuracy: 0.5650\n",
            "Epoch 31/40\n",
            "20/20 [==============================] - 0s 3ms/step - loss: 0.8084 - accuracy: 0.4400 - val_loss: 0.8033 - val_accuracy: 0.3750\n",
            "Epoch 32/40\n",
            "20/20 [==============================] - 0s 3ms/step - loss: 0.8083 - accuracy: 0.3910 - val_loss: 0.8035 - val_accuracy: 0.3750\n",
            "Epoch 33/40\n",
            "20/20 [==============================] - 0s 4ms/step - loss: 0.8083 - accuracy: 0.4040 - val_loss: 0.8029 - val_accuracy: 0.4000\n",
            "Epoch 34/40\n",
            "20/20 [==============================] - 0s 4ms/step - loss: 0.8084 - accuracy: 0.4180 - val_loss: 0.8020 - val_accuracy: 0.4150\n",
            "Epoch 35/40\n",
            "20/20 [==============================] - 0s 3ms/step - loss: 0.8083 - accuracy: 0.3710 - val_loss: 0.8063 - val_accuracy: 0.3450\n",
            "Epoch 36/40\n",
            "20/20 [==============================] - 0s 3ms/step - loss: 0.8082 - accuracy: 0.4120 - val_loss: 0.8054 - val_accuracy: 0.4850\n",
            "Epoch 37/40\n",
            "20/20 [==============================] - 0s 3ms/step - loss: 0.8081 - accuracy: 0.4750 - val_loss: 0.8026 - val_accuracy: 0.5000\n",
            "Epoch 38/40\n",
            "20/20 [==============================] - 0s 3ms/step - loss: 0.8081 - accuracy: 0.5000 - val_loss: 0.8017 - val_accuracy: 0.5300\n",
            "Epoch 39/40\n",
            "20/20 [==============================] - 0s 3ms/step - loss: 0.8087 - accuracy: 0.4630 - val_loss: 0.8017 - val_accuracy: 0.4800\n",
            "Epoch 40/40\n",
            "20/20 [==============================] - 0s 3ms/step - loss: 0.8085 - accuracy: 0.4210 - val_loss: 0.8036 - val_accuracy: 0.4600\n"
          ]
        }
      ]
    },
    {
      "cell_type": "markdown",
      "metadata": {
        "id": "v7_8r2ROI5Ut"
      },
      "source": [
        "## 5.2 Model analisys\n",
        "\n",
        "Accuracy is close to 0.5 but this is not good. Remember that we are classifying two classes, so this is the worst result possible.\n",
        "\n",
        "This full precision model is not working, but the model is not binarized. Can you guess why?\n"
      ]
    },
    {
      "cell_type": "code",
      "metadata": {
        "colab": {
          "base_uri": "https://localhost:8080/",
          "height": 329
        },
        "id": "OH9Ku7UrF4sq",
        "outputId": "e1af4fb6-2bf8-47aa-addc-6ae775374527"
      },
      "source": [
        "plt.plot(trained_model.history['accuracy'])\n",
        "plt.plot(trained_model.history['val_accuracy'])\n",
        "plt.title('model accuracy')\n",
        "plt.ylabel('accuracy')\n",
        "plt.xlabel('epoch')\n",
        "plt.legend(['train', 'val'], loc='upper left')\n",
        "\n",
        "print(np.max(trained_model.history['accuracy']))\n",
        "print(np.max(trained_model.history['val_accuracy']))"
      ],
      "execution_count": null,
      "outputs": [
        {
          "output_type": "stream",
          "name": "stdout",
          "text": [
            "0.5360000133514404\n",
            "0.5649999976158142\n"
          ]
        },
        {
          "output_type": "display_data",
          "data": {
            "image/png": "[encoded data removed]",
            "text/plain": [
              "<Figure size 432x288 with 1 Axes>"
            ]
          },
          "metadata": {
            "needs_background": "light"
          }
        }
      ]
    },
    {
      "cell_type": "code",
      "metadata": {
        "colab": {
          "base_uri": "https://localhost:8080/",
          "height": 329
        },
        "id": "gEI2Hi_1F4sq",
        "outputId": "78234628-a3dd-4e92-ce9e-bcb7f57e7b99"
      },
      "source": [
        "plt.plot(trained_model.history['loss'])\n",
        "plt.plot(trained_model.history['val_loss'])\n",
        "plt.title('model loss')\n",
        "plt.ylabel('loss')\n",
        "plt.xlabel('epoch')\n",
        "plt.legend(['train', 'val'], loc='upper left')\n",
        "\n",
        "print(np.min(trained_model.history['loss']))\n",
        "print(np.min(trained_model.history['val_loss']))"
      ],
      "execution_count": null,
      "outputs": [
        {
          "output_type": "stream",
          "name": "stdout",
          "text": [
            "0.8064600825309753\n",
            "0.7263796925544739\n"
          ]
        },
        {
          "output_type": "display_data",
          "data": {
            "image/png": "[encoded data removed]",
            "text/plain": [
              "<Figure size 432x288 with 1 Axes>"
            ]
          },
          "metadata": {
            "needs_background": "light"
          }
        }
      ]
    },
    {
      "cell_type": "markdown",
      "metadata": {
        "id": "4rRu74t5F4sr"
      },
      "source": [
        "# 6. Adding ReLU to full precision model\n",
        "\n",
        "The data we are classifying probably needs non linearities. \n",
        "\n",
        "Why the binary model did not need them? We model the binarization by introducing a sign function on the input of binarized layers, wich already introduces a non linearity!\n",
        "\n",
        "Let's try again...\n",
        "\n"
      ]
    },
    {
      "cell_type": "code",
      "metadata": {
        "id": "TrhTAvHjF4sr"
      },
      "source": [
        "model = tf.keras.models.Sequential([\n",
        "    # In the first layer we only quantize the weights and not the input\n",
        "    \n",
        "    tf.keras.layers.Dense(10, use_bias=False, input_dim=2),\n",
        "    \n",
        "    tf.keras.layers.ReLU(),\n",
        "    \n",
        "    tf.keras.layers.BatchNormalization(momentum=0.9, scale=False),\n",
        "    \n",
        "    tf.keras.layers.Dense(10),\n",
        "    \n",
        "    tf.keras.layers.ReLU(),\n",
        "    \n",
        "    tf.keras.layers.BatchNormalization(momentum=0.9, scale=False),\n",
        "\n",
        "    tf.keras.layers.ReLU(),\n",
        "    \n",
        "    tf.keras.layers.Dense(2),\n",
        "        \n",
        "    tf.keras.layers.BatchNormalization(momentum=0.9, scale=False),\n",
        "    \n",
        "    tf.keras.layers.Activation(\"softmax\")\n",
        "    \n",
        "])"
      ],
      "execution_count": null,
      "outputs": []
    },
    {
      "cell_type": "markdown",
      "metadata": {
        "id": "KWimfJlfJ8GQ"
      },
      "source": [
        "## 6.1 Mac operations and binarization ratio\n",
        "\n",
        "Notice that the number of MAC operations stays the same."
      ]
    },
    {
      "cell_type": "code",
      "metadata": {
        "scrolled": false,
        "colab": {
          "base_uri": "https://localhost:8080/"
        },
        "id": "xU5rMDPaF4sr",
        "outputId": "370b9234-c6d7-4dd3-c4f2-fd705c6cfb23"
      },
      "source": [
        "lq.models.summary(model)"
      ],
      "execution_count": null,
      "outputs": [
        {
          "output_type": "stream",
          "name": "stdout",
          "text": [
            "+sequential_2 stats-----------------------------------------------------------+\n",
            "| Layer                  Input prec.   Outputs  # 32-bit  Memory  32-bit MACs |\n",
            "|                              (bit)                 x 1    (kB)              |\n",
            "+-----------------------------------------------------------------------------+\n",
            "| dense_3                          -  (-1, 10)        20    0.08           20 |\n",
            "| re_lu                            -  (-1, 10)         0       0            ? |\n",
            "| batch_normalization_7            -  (-1, 10)        20    0.08            0 |\n",
            "| dense_4                          -  (-1, 10)       110    0.43          100 |\n",
            "| re_lu_1                          -  (-1, 10)         0       0            ? |\n",
            "| batch_normalization_8            -  (-1, 10)        20    0.08            0 |\n",
            "| re_lu_2                          -  (-1, 10)         0       0            ? |\n",
            "| dense_5                          -   (-1, 2)        22    0.09           20 |\n",
            "| batch_normalization_9            -   (-1, 2)         4    0.02            0 |\n",
            "| activation_2                     -   (-1, 2)         0       0            ? |\n",
            "+-----------------------------------------------------------------------------+\n",
            "| Total                                              196    0.77          140 |\n",
            "+-----------------------------------------------------------------------------+\n",
            "+sequential_2 summary---------------------+\n",
            "| Total params                   196      |\n",
            "| Trainable params               152      |\n",
            "| Non-trainable params           44       |\n",
            "| Model size                     784.00 B |\n",
            "| Model size (8-bit FP weights)  196.00 B |\n",
            "| Float-32 Equivalent            784.00 B |\n",
            "| Compression Ratio of Memory    1.00     |\n",
            "| Number of MACs                 140      |\n",
            "+-----------------------------------------+\n"
          ]
        }
      ]
    },
    {
      "cell_type": "code",
      "metadata": {
        "colab": {
          "base_uri": "https://localhost:8080/"
        },
        "id": "NkuFKAvaF4sr",
        "outputId": "c7094ad2-453c-4bdc-ca06-f3c1b5fcfab0"
      },
      "source": [
        "model.compile(\n",
        "    tf.keras.optimizers.Adam(lr=0.01, decay=0.0001),\n",
        "    loss=\"binary_crossentropy\",\n",
        "    metrics=[\"accuracy\"],\n",
        ")"
      ],
      "execution_count": null,
      "outputs": [
        {
          "output_type": "stream",
          "name": "stderr",
          "text": [
            "/usr/local/lib/python3.7/dist-packages/keras/optimizer_v2/optimizer_v2.py:356: UserWarning: The `lr` argument is deprecated, use `learning_rate` instead.\n",
            "  \"The `lr` argument is deprecated, use `learning_rate` instead.\")\n"
          ]
        }
      ]
    },
    {
      "cell_type": "code",
      "metadata": {
        "scrolled": false,
        "colab": {
          "base_uri": "https://localhost:8080/"
        },
        "id": "ksxje1gnF4sr",
        "outputId": "a4236d98-5305-4f47-e84d-c8be6258509c"
      },
      "source": [
        "trained_model = model.fit(\n",
        "    X_train, \n",
        "    y_train,\n",
        "    batch_size=50, \n",
        "    epochs=40,\n",
        "    validation_data=(X_val, y_val)\n",
        ")"
      ],
      "execution_count": null,
      "outputs": [
        {
          "output_type": "stream",
          "name": "stdout",
          "text": [
            "Epoch 1/40\n",
            "20/20 [==============================] - 1s 11ms/step - loss: 0.6128 - accuracy: 0.7040 - val_loss: 0.5457 - val_accuracy: 0.8650\n",
            "Epoch 2/40\n",
            "20/20 [==============================] - 0s 3ms/step - loss: 0.3928 - accuracy: 0.9560 - val_loss: 0.3550 - val_accuracy: 0.9850\n",
            "Epoch 3/40\n",
            "20/20 [==============================] - 0s 3ms/step - loss: 0.3570 - accuracy: 0.9930 - val_loss: 0.3274 - val_accuracy: 1.0000\n",
            "Epoch 4/40\n",
            "20/20 [==============================] - 0s 3ms/step - loss: 0.3535 - accuracy: 0.9880 - val_loss: 0.3212 - val_accuracy: 1.0000\n",
            "Epoch 5/40\n",
            "20/20 [==============================] - 0s 3ms/step - loss: 0.3471 - accuracy: 0.9870 - val_loss: 0.3168 - val_accuracy: 1.0000\n",
            "Epoch 6/40\n",
            "20/20 [==============================] - 0s 3ms/step - loss: 0.3482 - accuracy: 0.9870 - val_loss: 0.3130 - val_accuracy: 1.0000\n",
            "Epoch 7/40\n",
            "20/20 [==============================] - 0s 3ms/step - loss: 0.3440 - accuracy: 0.9830 - val_loss: 0.3217 - val_accuracy: 1.0000\n",
            "Epoch 8/40\n",
            "20/20 [==============================] - 0s 4ms/step - loss: 0.3402 - accuracy: 0.9880 - val_loss: 0.3217 - val_accuracy: 1.0000\n",
            "Epoch 9/40\n",
            "20/20 [==============================] - 0s 4ms/step - loss: 0.3387 - accuracy: 0.9940 - val_loss: 0.3225 - val_accuracy: 1.0000\n",
            "Epoch 10/40\n",
            "20/20 [==============================] - 0s 4ms/step - loss: 0.3377 - accuracy: 0.9870 - val_loss: 0.3211 - val_accuracy: 1.0000\n",
            "Epoch 11/40\n",
            "20/20 [==============================] - 0s 4ms/step - loss: 0.3421 - accuracy: 0.9850 - val_loss: 0.3202 - val_accuracy: 1.0000\n",
            "Epoch 12/40\n",
            "20/20 [==============================] - 0s 3ms/step - loss: 0.3401 - accuracy: 0.9870 - val_loss: 0.3192 - val_accuracy: 1.0000\n",
            "Epoch 13/40\n",
            "20/20 [==============================] - 0s 3ms/step - loss: 0.3348 - accuracy: 0.9950 - val_loss: 0.3211 - val_accuracy: 1.0000\n",
            "Epoch 14/40\n",
            "20/20 [==============================] - 0s 4ms/step - loss: 0.3392 - accuracy: 0.9890 - val_loss: 0.3191 - val_accuracy: 1.0000\n",
            "Epoch 15/40\n",
            "20/20 [==============================] - 0s 4ms/step - loss: 0.3351 - accuracy: 0.9910 - val_loss: 0.3217 - val_accuracy: 1.0000\n",
            "Epoch 16/40\n",
            "20/20 [==============================] - 0s 3ms/step - loss: 0.3426 - accuracy: 0.9880 - val_loss: 0.3175 - val_accuracy: 1.0000\n",
            "Epoch 17/40\n",
            "20/20 [==============================] - 0s 3ms/step - loss: 0.3362 - accuracy: 0.9930 - val_loss: 0.3178 - val_accuracy: 1.0000\n",
            "Epoch 18/40\n",
            "20/20 [==============================] - 0s 3ms/step - loss: 0.3353 - accuracy: 0.9950 - val_loss: 0.3204 - val_accuracy: 1.0000\n",
            "Epoch 19/40\n",
            "20/20 [==============================] - 0s 3ms/step - loss: 0.3385 - accuracy: 0.9900 - val_loss: 0.3142 - val_accuracy: 1.0000\n",
            "Epoch 20/40\n",
            "20/20 [==============================] - 0s 4ms/step - loss: 0.3359 - accuracy: 0.9920 - val_loss: 0.3207 - val_accuracy: 1.0000\n",
            "Epoch 21/40\n",
            "20/20 [==============================] - 0s 3ms/step - loss: 0.3376 - accuracy: 0.9900 - val_loss: 0.3171 - val_accuracy: 1.0000\n",
            "Epoch 22/40\n",
            "20/20 [==============================] - 0s 3ms/step - loss: 0.3368 - accuracy: 0.9910 - val_loss: 0.3195 - val_accuracy: 1.0000\n",
            "Epoch 23/40\n",
            "20/20 [==============================] - 0s 3ms/step - loss: 0.3345 - accuracy: 0.9930 - val_loss: 0.3202 - val_accuracy: 1.0000\n",
            "Epoch 24/40\n",
            "20/20 [==============================] - 0s 4ms/step - loss: 0.3392 - accuracy: 0.9860 - val_loss: 0.3197 - val_accuracy: 1.0000\n",
            "Epoch 25/40\n",
            "20/20 [==============================] - 0s 3ms/step - loss: 0.3420 - accuracy: 0.9820 - val_loss: 0.3135 - val_accuracy: 1.0000\n",
            "Epoch 26/40\n",
            "20/20 [==============================] - 0s 3ms/step - loss: 0.3359 - accuracy: 0.9900 - val_loss: 0.3189 - val_accuracy: 1.0000\n",
            "Epoch 27/40\n",
            "20/20 [==============================] - 0s 3ms/step - loss: 0.3390 - accuracy: 0.9830 - val_loss: 0.3167 - val_accuracy: 1.0000\n",
            "Epoch 28/40\n",
            "20/20 [==============================] - 0s 3ms/step - loss: 0.3408 - accuracy: 0.9900 - val_loss: 0.3188 - val_accuracy: 1.0000\n",
            "Epoch 29/40\n",
            "20/20 [==============================] - 0s 3ms/step - loss: 0.3334 - accuracy: 0.9920 - val_loss: 0.3182 - val_accuracy: 1.0000\n",
            "Epoch 30/40\n",
            "20/20 [==============================] - 0s 4ms/step - loss: 0.3396 - accuracy: 0.9900 - val_loss: 0.3199 - val_accuracy: 1.0000\n",
            "Epoch 31/40\n",
            "20/20 [==============================] - 0s 3ms/step - loss: 0.3364 - accuracy: 0.9890 - val_loss: 0.3150 - val_accuracy: 1.0000\n",
            "Epoch 32/40\n",
            "20/20 [==============================] - 0s 3ms/step - loss: 0.3343 - accuracy: 0.9890 - val_loss: 0.3126 - val_accuracy: 1.0000\n",
            "Epoch 33/40\n",
            "20/20 [==============================] - 0s 3ms/step - loss: 0.3347 - accuracy: 0.9860 - val_loss: 0.3038 - val_accuracy: 1.0000\n",
            "Epoch 34/40\n",
            "20/20 [==============================] - 0s 3ms/step - loss: 0.3297 - accuracy: 0.9940 - val_loss: 0.3224 - val_accuracy: 1.0000\n",
            "Epoch 35/40\n",
            "20/20 [==============================] - 0s 4ms/step - loss: 0.3288 - accuracy: 0.9940 - val_loss: 0.3376 - val_accuracy: 1.0000\n",
            "Epoch 36/40\n",
            "20/20 [==============================] - 0s 3ms/step - loss: 0.3286 - accuracy: 0.9930 - val_loss: 0.3325 - val_accuracy: 1.0000\n",
            "Epoch 37/40\n",
            "20/20 [==============================] - 0s 3ms/step - loss: 0.3267 - accuracy: 0.9910 - val_loss: 0.3190 - val_accuracy: 1.0000\n",
            "Epoch 38/40\n",
            "20/20 [==============================] - 0s 3ms/step - loss: 0.3230 - accuracy: 0.9950 - val_loss: 0.3273 - val_accuracy: 1.0000\n",
            "Epoch 39/40\n",
            "20/20 [==============================] - 0s 3ms/step - loss: 0.3245 - accuracy: 0.9960 - val_loss: 0.3294 - val_accuracy: 1.0000\n",
            "Epoch 40/40\n",
            "20/20 [==============================] - 0s 3ms/step - loss: 0.3249 - accuracy: 0.9910 - val_loss: 0.3168 - val_accuracy: 1.0000\n"
          ]
        }
      ]
    },
    {
      "cell_type": "code",
      "metadata": {
        "colab": {
          "base_uri": "https://localhost:8080/",
          "height": 329
        },
        "id": "NKKPElsiF4ss",
        "outputId": "0b6834ff-3a0c-4065-8da1-333397a621bb"
      },
      "source": [
        "plt.plot(trained_model.history['accuracy'])\n",
        "plt.plot(trained_model.history['val_accuracy'])\n",
        "plt.title('model accuracy')\n",
        "plt.ylabel('accuracy')\n",
        "plt.xlabel('epoch')\n",
        "plt.legend(['train', 'val'], loc='upper left')\n",
        "\n",
        "print(np.max(trained_model.history['accuracy']))\n",
        "print(np.max(trained_model.history['val_accuracy']))"
      ],
      "execution_count": null,
      "outputs": [
        {
          "output_type": "stream",
          "name": "stdout",
          "text": [
            "0.9959999918937683\n",
            "1.0\n"
          ]
        },
        {
          "output_type": "display_data",
          "data": {
            "image/png": "[encoded data removed]",
            "text/plain": [
              "<Figure size 432x288 with 1 Axes>"
            ]
          },
          "metadata": {
            "needs_background": "light"
          }
        }
      ]
    },
    {
      "cell_type": "code",
      "metadata": {
        "colab": {
          "base_uri": "https://localhost:8080/",
          "height": 329
        },
        "id": "n6uzCy8xF4ss",
        "outputId": "df1ce6f3-a71f-46cb-a6f9-9d6d70cde0da"
      },
      "source": [
        "plt.plot(trained_model.history['loss'])\n",
        "plt.plot(trained_model.history['val_loss'])\n",
        "plt.title('model loss')\n",
        "plt.ylabel('loss')\n",
        "plt.xlabel('epoch')\n",
        "plt.legend(['train', 'val'], loc='upper left')\n",
        "\n",
        "print(np.min(trained_model.history['loss']))\n",
        "print(np.min(trained_model.history['val_loss']))"
      ],
      "execution_count": null,
      "outputs": [
        {
          "output_type": "stream",
          "name": "stdout",
          "text": [
            "0.3229571580886841\n",
            "0.303761750459671\n"
          ]
        },
        {
          "output_type": "display_data",
          "data": {
            "image/png": "[encoded data removed]",
            "text/plain": [
              "<Figure size 432x288 with 1 Axes>"
            ]
          },
          "metadata": {
            "needs_background": "light"
          }
        }
      ]
    },
    {
      "cell_type": "markdown",
      "metadata": {
        "id": "Yax5LGkOF4ss"
      },
      "source": [
        "# Conclusion:\n",
        "\n",
        "Our full precision model works! \n",
        "\n",
        "We can observe that the binarization process accounts for non linearities without the need to add ReLU activations.\n",
        "\n",
        "Furthermore it separates data better than the binarized one.\n",
        "\n",
        "Now it is your turn to play. Can you reduce the gap between binary and full precision models?\n",
        "\n",
        "If you want to discuss more you can contact breno.skuk@gmail.com"
      ]
    },
    {
      "cell_type": "code",
      "metadata": {
        "id": "jTG7vhtgKrhA"
      },
      "source": [
        ""
      ],
      "execution_count": null,
      "outputs": []
    }
  ]
}