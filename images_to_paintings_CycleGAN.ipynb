{
  "nbformat": 4,
  "nbformat_minor": 0,
  "metadata": {
    "colab": {
      "name": "Cópia de CycleGAN",
      "provenance": [],
      "collapsed_sections": []
    },
    "kernelspec": {
      "name": "python3",
      "display_name": "Python 3"
    },
    "accelerator": "GPU"
  },
  "cells": [
    {
      "cell_type": "markdown",
      "metadata": {
        "id": "r_42Ar8j568A"
      },
      "source": [
        "# Transforming images into paintings\n",
        "\n",
        "By Filipe Lauar from podcast Life with AI"
      ]
    },
    {
      "cell_type": "markdown",
      "metadata": {
        "id": "5VIGyIus8Vr7"
      },
      "source": [
        "You should run this code on google colab. You will just need to choose the files you want to upload and the results will be downloaded to your computer in a zip file.\n",
        "\n",
        "The explanation of the network achitecture and other application are in my podcast:\n",
        "\n",
        "- Life with AI (In english)\n",
        "- Vida com IA (Em portugues)"
      ]
    },
    {
      "cell_type": "markdown",
      "metadata": {
        "id": "wBE0NDSD7aMs"
      },
      "source": [
        "\n",
        "Take a look at the [repository](https://github.com/junyanz/pytorch-CycleGAN-and-pix2pix) for more information\n",
        "\n",
        "Code modified from this [notebook](https://colab.research.google.com/github/junyanz/pytorch-CycleGAN-and-pix2pix/blob/master/CycleGAN.ipynb)"
      ]
    },
    {
      "cell_type": "markdown",
      "metadata": {
        "id": "7wNjDKdQy35h"
      },
      "source": [
        "# Install"
      ]
    },
    {
      "cell_type": "code",
      "metadata": {
        "id": "TRm-USlsHgEV",
        "colab": {
          "base_uri": "https://localhost:8080/"
        },
        "outputId": "253dc58d-e734-46ee-cc98-a116a8db8477"
      },
      "source": [
        "!git clone https://github.com/junyanz/pytorch-CycleGAN-and-pix2pix"
      ],
      "execution_count": 1,
      "outputs": [
        {
          "output_type": "stream",
          "text": [
            "Cloning into 'pytorch-CycleGAN-and-pix2pix'...\n",
            "remote: Enumerating objects: 2340, done.\u001b[K\n",
            "remote: Total 2340 (delta 0), reused 0 (delta 0), pack-reused 2340\u001b[K\n",
            "Receiving objects: 100% (2340/2340), 8.09 MiB | 18.34 MiB/s, done.\n",
            "Resolving deltas: 100% (1501/1501), done.\n"
          ],
          "name": "stdout"
        }
      ]
    },
    {
      "cell_type": "code",
      "metadata": {
        "id": "Pt3igws3eiVp"
      },
      "source": [
        "import os\n",
        "from google.colab import files\n",
        "\n",
        "os.chdir('pytorch-CycleGAN-and-pix2pix/')"
      ],
      "execution_count": 2,
      "outputs": []
    },
    {
      "cell_type": "code",
      "metadata": {
        "id": "z1EySlOXwwoa",
        "colab": {
          "base_uri": "https://localhost:8080/"
        },
        "outputId": "b1361c64-3b23-40ec-8415-b42bc39e61db"
      },
      "source": [
        "!pip install -r requirements.txt"
      ],
      "execution_count": 3,
      "outputs": [
        {
          "output_type": "stream",
          "text": [
            "Requirement already satisfied: torch>=1.4.0 in /usr/local/lib/python3.7/dist-packages (from -r requirements.txt (line 1)) (1.9.0+cu102)\n",
            "Requirement already satisfied: torchvision>=0.5.0 in /usr/local/lib/python3.7/dist-packages (from -r requirements.txt (line 2)) (0.10.0+cu102)\n",
            "Collecting dominate>=2.4.0\n",
            "  Downloading dominate-2.6.0-py2.py3-none-any.whl (29 kB)\n",
            "Collecting visdom>=0.1.8.8\n",
            "  Downloading visdom-0.1.8.9.tar.gz (676 kB)\n",
            "\u001b[K     |████████████████████████████████| 676 kB 7.0 MB/s \n",
            "\u001b[?25hRequirement already satisfied: typing-extensions in /usr/local/lib/python3.7/dist-packages (from torch>=1.4.0->-r requirements.txt (line 1)) (3.7.4.3)\n",
            "Requirement already satisfied: numpy in /usr/local/lib/python3.7/dist-packages (from torchvision>=0.5.0->-r requirements.txt (line 2)) (1.19.5)\n",
            "Requirement already satisfied: pillow>=5.3.0 in /usr/local/lib/python3.7/dist-packages (from torchvision>=0.5.0->-r requirements.txt (line 2)) (7.1.2)\n",
            "Requirement already satisfied: scipy in /usr/local/lib/python3.7/dist-packages (from visdom>=0.1.8.8->-r requirements.txt (line 4)) (1.4.1)\n",
            "Requirement already satisfied: requests in /usr/local/lib/python3.7/dist-packages (from visdom>=0.1.8.8->-r requirements.txt (line 4)) (2.23.0)\n",
            "Requirement already satisfied: tornado in /usr/local/lib/python3.7/dist-packages (from visdom>=0.1.8.8->-r requirements.txt (line 4)) (5.1.1)\n",
            "Requirement already satisfied: pyzmq in /usr/local/lib/python3.7/dist-packages (from visdom>=0.1.8.8->-r requirements.txt (line 4)) (22.2.1)\n",
            "Requirement already satisfied: six in /usr/local/lib/python3.7/dist-packages (from visdom>=0.1.8.8->-r requirements.txt (line 4)) (1.15.0)\n",
            "Collecting jsonpatch\n",
            "  Downloading jsonpatch-1.32-py2.py3-none-any.whl (12 kB)\n",
            "Collecting torchfile\n",
            "  Downloading torchfile-0.1.0.tar.gz (5.2 kB)\n",
            "Collecting websocket-client\n",
            "  Downloading websocket_client-1.2.1-py2.py3-none-any.whl (52 kB)\n",
            "\u001b[K     |████████████████████████████████| 52 kB 1.3 MB/s \n",
            "\u001b[?25hCollecting jsonpointer>=1.9\n",
            "  Downloading jsonpointer-2.1-py2.py3-none-any.whl (7.4 kB)\n",
            "Requirement already satisfied: certifi>=2017.4.17 in /usr/local/lib/python3.7/dist-packages (from requests->visdom>=0.1.8.8->-r requirements.txt (line 4)) (2021.5.30)\n",
            "Requirement already satisfied: urllib3!=1.25.0,!=1.25.1,<1.26,>=1.21.1 in /usr/local/lib/python3.7/dist-packages (from requests->visdom>=0.1.8.8->-r requirements.txt (line 4)) (1.24.3)\n",
            "Requirement already satisfied: chardet<4,>=3.0.2 in /usr/local/lib/python3.7/dist-packages (from requests->visdom>=0.1.8.8->-r requirements.txt (line 4)) (3.0.4)\n",
            "Requirement already satisfied: idna<3,>=2.5 in /usr/local/lib/python3.7/dist-packages (from requests->visdom>=0.1.8.8->-r requirements.txt (line 4)) (2.10)\n",
            "Building wheels for collected packages: visdom, torchfile\n",
            "  Building wheel for visdom (setup.py) ... \u001b[?25l\u001b[?25hdone\n",
            "  Created wheel for visdom: filename=visdom-0.1.8.9-py3-none-any.whl size=655250 sha256=476927e8631601ead6271baa9e2b6aa449e89301a58ea34bd9ef883eccad53c1\n",
            "  Stored in directory: /root/.cache/pip/wheels/2d/d1/9b/cde923274eac9cbb6ff0d8c7c72fe30a3da9095a38fd50bbf1\n",
            "  Building wheel for torchfile (setup.py) ... \u001b[?25l\u001b[?25hdone\n",
            "  Created wheel for torchfile: filename=torchfile-0.1.0-py3-none-any.whl size=5710 sha256=5d9a4b3509842ad333effe31a0476a6edc1de1c46659ce1ff12bf14e9fa15a0b\n",
            "  Stored in directory: /root/.cache/pip/wheels/ac/5c/3a/a80e1c65880945c71fd833408cd1e9a8cb7e2f8f37620bb75b\n",
            "Successfully built visdom torchfile\n",
            "Installing collected packages: jsonpointer, websocket-client, torchfile, jsonpatch, visdom, dominate\n",
            "Successfully installed dominate-2.6.0 jsonpatch-1.32 jsonpointer-2.1 torchfile-0.1.0 visdom-0.1.8.9 websocket-client-1.2.1\n"
          ],
          "name": "stdout"
        }
      ]
    },
    {
      "cell_type": "code",
      "metadata": {
        "id": "5SedKMY_zAu5"
      },
      "source": [
        "#Change system path to upload the images\n",
        "path = \"datasets/photos\"\n",
        "os.mkdir(path)\n",
        "os.chdir('datasets/photos/')"
      ],
      "execution_count": 4,
      "outputs": []
    },
    {
      "cell_type": "code",
      "metadata": {
        "colab": {
          "resources": {
            "http://localhost:8080/nbextensions/google.colab/files.js": {
              "data": "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",
              "ok": true,
              "headers": [
                [
                  "content-type",
                  "application/javascript"
                ]
              ],
              "status": 200,
              "status_text": ""
            }
          },
          "base_uri": "https://localhost:8080/",
          "height": 409
        },
        "id": "CgCC-a152lBY",
        "outputId": "805435b5-26bd-47d6-8c77-4c4789a4da7d"
      },
      "source": [
        "uploaded = files.upload()"
      ],
      "execution_count": 5,
      "outputs": [
        {
          "output_type": "display_data",
          "data": {
            "text/html": [
              "\n",
              "     <input type=\"file\" id=\"files-31e718ca-c873-494c-aa6d-e78b1214a383\" name=\"files[]\" multiple disabled\n",
              "        style=\"border:none\" />\n",
              "     <output id=\"result-31e718ca-c873-494c-aa6d-e78b1214a383\">\n",
              "      Upload widget is only available when the cell has been executed in the\n",
              "      current browser session. Please rerun this cell to enable.\n",
              "      </output>\n",
              "      <script src=\"/nbextensions/google.colab/files.js\"></script> "
            ],
            "text/plain": [
              "<IPython.core.display.HTML object>"
            ]
          },
          "metadata": {}
        },
        {
          "output_type": "stream",
          "text": [
            "Saving cachorro_bimbim.jpeg to cachorro_bimbim.jpeg\n",
            "Saving cachorro_gabriel_oliva.jpeg to cachorro_gabriel_oliva.jpeg\n",
            "Saving cachorro_giovanni_enegsys.jpeg to cachorro_giovanni_enegsys.jpeg\n",
            "Saving cachorro_igor.jpeg to cachorro_igor.jpeg\n",
            "Saving calcadao_luan.jpeg to calcadao_luan.jpeg\n",
            "Saving carro_luan.jpeg to carro_luan.jpeg\n",
            "Saving chien_nico.jpeg to chien_nico.jpeg\n",
            "Saving gato_ketlen.jpeg to gato_ketlen.jpeg\n",
            "Saving paisagem_luan.jpeg to paisagem_luan.jpeg\n",
            "Saving pessoa_ana.jpeg to pessoa_ana.jpeg\n",
            "Saving ponto_bus_terro.jpeg to ponto_bus_terro.jpeg\n"
          ],
          "name": "stdout"
        }
      ]
    },
    {
      "cell_type": "code",
      "metadata": {
        "id": "h_H8B2Tu4OJQ"
      },
      "source": [
        "#Change back the system path\n",
        "os.chdir('/content/pytorch-CycleGAN-and-pix2pix/')"
      ],
      "execution_count": 6,
      "outputs": []
    },
    {
      "cell_type": "markdown",
      "metadata": {
        "id": "gdUz4116xhpm"
      },
      "source": [
        "# Pretrained models\n",
        "\n",
        "Download one of the official pretrained models with:\n",
        "\n",
        "-   `bash ./scripts/download_cyclegan_model.sh [apple2orange, orange2apple, summer2winter_yosemite, winter2summer_yosemite, horse2zebra, zebra2horse, monet2photo, style_monet, style_cezanne, style_ukiyoe, style_vangogh, sat2map, map2sat, cityscapes_photo2label, cityscapes_label2photo, facades_photo2label, facades_label2photo, iphone2dslr_flower]`\n",
        "\n",
        "Or add your own pretrained model to `./checkpoints/{NAME}_pretrained/latest_net_G.pt`"
      ]
    },
    {
      "cell_type": "code",
      "metadata": {
        "colab": {
          "base_uri": "https://localhost:8080/"
        },
        "id": "dsSYSb9_u7GX",
        "outputId": "4346a28b-e84e-44dc-cfd7-497b70bd8ca1"
      },
      "source": [
        "!bash ./scripts/download_cyclegan_model.sh horse2zebra"
      ],
      "execution_count": 7,
      "outputs": [
        {
          "output_type": "stream",
          "text": [
            "Note: available models are apple2orange, orange2apple, summer2winter_yosemite, winter2summer_yosemite, horse2zebra, zebra2horse, monet2photo, style_monet, style_cezanne, style_ukiyoe, style_vangogh, sat2map, map2sat, cityscapes_photo2label, cityscapes_label2photo, facades_photo2label, facades_label2photo, iphone2dslr_flower\n",
            "Specified [horse2zebra]\n",
            "WARNING: timestamping does nothing in combination with -O. See the manual\n",
            "for details.\n",
            "\n",
            "--2021-08-27 09:17:49--  http://efrosgans.eecs.berkeley.edu/cyclegan/pretrained_models/horse2zebra.pth\n",
            "Resolving efrosgans.eecs.berkeley.edu (efrosgans.eecs.berkeley.edu)... 128.32.244.190\n",
            "Connecting to efrosgans.eecs.berkeley.edu (efrosgans.eecs.berkeley.edu)|128.32.244.190|:80... connected.\n",
            "HTTP request sent, awaiting response... 200 OK\n",
            "Length: 45575747 (43M)\n",
            "Saving to: ‘./checkpoints/horse2zebra_pretrained/latest_net_G.pth’\n",
            "\n",
            "./checkpoints/horse 100%[===================>]  43.46M  3.59MB/s    in 12s     \n",
            "\n",
            "2021-08-27 09:18:01 (3.73 MB/s) - ‘./checkpoints/horse2zebra_pretrained/latest_net_G.pth’ saved [45575747/45575747]\n",
            "\n"
          ],
          "name": "stdout"
        }
      ]
    },
    {
      "cell_type": "code",
      "metadata": {
        "id": "B75UqtKhxznS",
        "colab": {
          "base_uri": "https://localhost:8080/"
        },
        "outputId": "e21c3139-2a33-40c8-a342-911aa9cdd154"
      },
      "source": [
        "!bash ./scripts/download_cyclegan_model.sh style_vangogh"
      ],
      "execution_count": 8,
      "outputs": [
        {
          "output_type": "stream",
          "text": [
            "Note: available models are apple2orange, orange2apple, summer2winter_yosemite, winter2summer_yosemite, horse2zebra, zebra2horse, monet2photo, style_monet, style_cezanne, style_ukiyoe, style_vangogh, sat2map, map2sat, cityscapes_photo2label, cityscapes_label2photo, facades_photo2label, facades_label2photo, iphone2dslr_flower\n",
            "Specified [style_vangogh]\n",
            "WARNING: timestamping does nothing in combination with -O. See the manual\n",
            "for details.\n",
            "\n",
            "--2021-08-27 09:18:01--  http://efrosgans.eecs.berkeley.edu/cyclegan/pretrained_models/style_vangogh.pth\n",
            "Resolving efrosgans.eecs.berkeley.edu (efrosgans.eecs.berkeley.edu)... 128.32.244.190\n",
            "Connecting to efrosgans.eecs.berkeley.edu (efrosgans.eecs.berkeley.edu)|128.32.244.190|:80... connected.\n",
            "HTTP request sent, awaiting response... 200 OK\n",
            "Length: 45575747 (43M)\n",
            "Saving to: ‘./checkpoints/style_vangogh_pretrained/latest_net_G.pth’\n",
            "\n",
            "./checkpoints/style 100%[===================>]  43.46M  2.62MB/s    in 17s     \n",
            "\n",
            "2021-08-27 09:18:19 (2.50 MB/s) - ‘./checkpoints/style_vangogh_pretrained/latest_net_G.pth’ saved [45575747/45575747]\n",
            "\n"
          ],
          "name": "stdout"
        }
      ]
    },
    {
      "cell_type": "code",
      "metadata": {
        "colab": {
          "base_uri": "https://localhost:8080/"
        },
        "id": "KKuxTzJ-uwwP",
        "outputId": "b5ef134d-634b-4f9c-f4ae-def460cc9bef"
      },
      "source": [
        "!bash ./scripts/download_cyclegan_model.sh style_ukiyoe"
      ],
      "execution_count": 9,
      "outputs": [
        {
          "output_type": "stream",
          "text": [
            "Note: available models are apple2orange, orange2apple, summer2winter_yosemite, winter2summer_yosemite, horse2zebra, zebra2horse, monet2photo, style_monet, style_cezanne, style_ukiyoe, style_vangogh, sat2map, map2sat, cityscapes_photo2label, cityscapes_label2photo, facades_photo2label, facades_label2photo, iphone2dslr_flower\n",
            "Specified [style_ukiyoe]\n",
            "WARNING: timestamping does nothing in combination with -O. See the manual\n",
            "for details.\n",
            "\n",
            "--2021-08-27 09:18:19--  http://efrosgans.eecs.berkeley.edu/cyclegan/pretrained_models/style_ukiyoe.pth\n",
            "Resolving efrosgans.eecs.berkeley.edu (efrosgans.eecs.berkeley.edu)... 128.32.244.190\n",
            "Connecting to efrosgans.eecs.berkeley.edu (efrosgans.eecs.berkeley.edu)|128.32.244.190|:80... connected.\n",
            "HTTP request sent, awaiting response... 200 OK\n",
            "Length: 45575747 (43M)\n",
            "Saving to: ‘./checkpoints/style_ukiyoe_pretrained/latest_net_G.pth’\n",
            "\n",
            "./checkpoints/style 100%[===================>]  43.46M  2.86MB/s    in 14s     \n",
            "\n",
            "2021-08-27 09:18:33 (3.18 MB/s) - ‘./checkpoints/style_ukiyoe_pretrained/latest_net_G.pth’ saved [45575747/45575747]\n",
            "\n"
          ],
          "name": "stdout"
        }
      ]
    },
    {
      "cell_type": "code",
      "metadata": {
        "colab": {
          "base_uri": "https://localhost:8080/"
        },
        "id": "wqar0fUTuw6E",
        "outputId": "a41c8dd1-e9c3-4c36-81e2-524eeb026e59"
      },
      "source": [
        "!bash ./scripts/download_cyclegan_model.sh style_cezanne"
      ],
      "execution_count": 10,
      "outputs": [
        {
          "output_type": "stream",
          "text": [
            "Note: available models are apple2orange, orange2apple, summer2winter_yosemite, winter2summer_yosemite, horse2zebra, zebra2horse, monet2photo, style_monet, style_cezanne, style_ukiyoe, style_vangogh, sat2map, map2sat, cityscapes_photo2label, cityscapes_label2photo, facades_photo2label, facades_label2photo, iphone2dslr_flower\n",
            "Specified [style_cezanne]\n",
            "WARNING: timestamping does nothing in combination with -O. See the manual\n",
            "for details.\n",
            "\n",
            "--2021-08-27 09:18:33--  http://efrosgans.eecs.berkeley.edu/cyclegan/pretrained_models/style_cezanne.pth\n",
            "Resolving efrosgans.eecs.berkeley.edu (efrosgans.eecs.berkeley.edu)... 128.32.244.190\n",
            "Connecting to efrosgans.eecs.berkeley.edu (efrosgans.eecs.berkeley.edu)|128.32.244.190|:80... connected.\n",
            "HTTP request sent, awaiting response... 200 OK\n",
            "Length: 45575747 (43M)\n",
            "Saving to: ‘./checkpoints/style_cezanne_pretrained/latest_net_G.pth’\n",
            "\n",
            "./checkpoints/style 100%[===================>]  43.46M  2.65MB/s    in 13s     \n",
            "\n",
            "2021-08-27 09:18:46 (3.30 MB/s) - ‘./checkpoints/style_cezanne_pretrained/latest_net_G.pth’ saved [45575747/45575747]\n",
            "\n"
          ],
          "name": "stdout"
        }
      ]
    },
    {
      "cell_type": "code",
      "metadata": {
        "colab": {
          "base_uri": "https://localhost:8080/"
        },
        "id": "WQ7tcTkLuxBt",
        "outputId": "6ba7a634-5516-4ba2-947f-d0f432577822"
      },
      "source": [
        "!bash ./scripts/download_cyclegan_model.sh style_monet"
      ],
      "execution_count": 11,
      "outputs": [
        {
          "output_type": "stream",
          "text": [
            "Note: available models are apple2orange, orange2apple, summer2winter_yosemite, winter2summer_yosemite, horse2zebra, zebra2horse, monet2photo, style_monet, style_cezanne, style_ukiyoe, style_vangogh, sat2map, map2sat, cityscapes_photo2label, cityscapes_label2photo, facades_photo2label, facades_label2photo, iphone2dslr_flower\n",
            "Specified [style_monet]\n",
            "WARNING: timestamping does nothing in combination with -O. See the manual\n",
            "for details.\n",
            "\n",
            "--2021-08-27 09:18:46--  http://efrosgans.eecs.berkeley.edu/cyclegan/pretrained_models/style_monet.pth\n",
            "Resolving efrosgans.eecs.berkeley.edu (efrosgans.eecs.berkeley.edu)... 128.32.244.190\n",
            "Connecting to efrosgans.eecs.berkeley.edu (efrosgans.eecs.berkeley.edu)|128.32.244.190|:80... connected.\n",
            "HTTP request sent, awaiting response... 200 OK\n",
            "Length: 45575747 (43M)\n",
            "Saving to: ‘./checkpoints/style_monet_pretrained/latest_net_G.pth’\n",
            "\n",
            "./checkpoints/style 100%[===================>]  43.46M  2.53MB/s    in 16s     \n",
            "\n",
            "2021-08-27 09:19:03 (2.70 MB/s) - ‘./checkpoints/style_monet_pretrained/latest_net_G.pth’ saved [45575747/45575747]\n",
            "\n"
          ],
          "name": "stdout"
        }
      ]
    },
    {
      "cell_type": "markdown",
      "metadata": {
        "id": "9UkcaFZiyASl"
      },
      "source": [
        "# Testing\n",
        "\n",
        "-   `python test.py --dataroot datasets/horse2zebra/testA --name horse2zebra_pretrained --model test --no_dropout`\n",
        "\n",
        "Change the `--dataroot` and `--name` to be consistent with your trained model's configuration.\n",
        "\n",
        "> from https://github.com/junyanz/pytorch-CycleGAN-and-pix2pix:\n",
        "> The option --model test is used for generating results of CycleGAN only for one side. This option will automatically set --dataset_mode single, which only loads the images from one set. On the contrary, using --model cycle_gan requires loading and generating results in both directions, which is sometimes unnecessary. The results will be saved at ./results/. Use --results_dir {directory_path_to_save_result} to specify the results directory.\n",
        "\n",
        "> For your own experiments, you might want to specify --netG, --norm, --no_dropout to match the generator architecture of the trained model."
      ]
    },
    {
      "cell_type": "code",
      "metadata": {
        "id": "uCsKkEq0yGh0",
        "colab": {
          "base_uri": "https://localhost:8080/"
        },
        "outputId": "70dae90e-48b7-47d9-b7c7-5de990d4f4d6"
      },
      "source": [
        "!python test.py --dataroot datasets/photos --name style_vangogh_pretrained --model test --no_dropout --load_size 512 --crop_size 512"
      ],
      "execution_count": 13,
      "outputs": [
        {
          "output_type": "stream",
          "text": [
            "----------------- Options ---------------\n",
            "             aspect_ratio: 1.0                           \n",
            "               batch_size: 1                             \n",
            "          checkpoints_dir: ./checkpoints                 \n",
            "                crop_size: 512                           \t[default: 256]\n",
            "                 dataroot: datasets/photos               \t[default: None]\n",
            "             dataset_mode: single                        \n",
            "                direction: AtoB                          \n",
            "          display_winsize: 256                           \n",
            "                    epoch: latest                        \n",
            "                     eval: False                         \n",
            "                  gpu_ids: 0                             \n",
            "                init_gain: 0.02                          \n",
            "                init_type: normal                        \n",
            "                 input_nc: 3                             \n",
            "                  isTrain: False                         \t[default: None]\n",
            "                load_iter: 0                             \t[default: 0]\n",
            "                load_size: 512                           \t[default: 256]\n",
            "         max_dataset_size: inf                           \n",
            "                    model: test                          \n",
            "             model_suffix:                               \n",
            "               n_layers_D: 3                             \n",
            "                     name: style_vangogh_pretrained      \t[default: experiment_name]\n",
            "                      ndf: 64                            \n",
            "                     netD: basic                         \n",
            "                     netG: resnet_9blocks                \n",
            "                      ngf: 64                            \n",
            "               no_dropout: True                          \t[default: False]\n",
            "                  no_flip: False                         \n",
            "                     norm: instance                      \n",
            "                 num_test: 50                            \n",
            "              num_threads: 4                             \n",
            "                output_nc: 3                             \n",
            "                    phase: test                          \n",
            "               preprocess: resize_and_crop               \n",
            "              results_dir: ./results/                    \n",
            "           serial_batches: False                         \n",
            "                   suffix:                               \n",
            "                  verbose: False                         \n",
            "----------------- End -------------------\n",
            "/usr/local/lib/python3.7/dist-packages/torchvision/transforms/transforms.py:281: UserWarning: Argument interpolation should be of type InterpolationMode instead of int. Please, use InterpolationMode enum.\n",
            "  \"Argument interpolation should be of type InterpolationMode instead of int. \"\n",
            "dataset [SingleDataset] was created\n",
            "initialize network with normal\n",
            "model [TestModel] was created\n",
            "loading the model from ./checkpoints/style_vangogh_pretrained/latest_net_G.pth\n",
            "---------- Networks initialized -------------\n",
            "[Network G] Total number of parameters : 11.378 M\n",
            "-----------------------------------------------\n",
            "creating web directory ./results/style_vangogh_pretrained/test_latest\n",
            "processing (0000)-th image... ['datasets/photos/cachorro_bimbim.jpeg']\n",
            "processing (0005)-th image... ['datasets/photos/carro_luan.jpeg']\n",
            "processing (0010)-th image... ['datasets/photos/ponto_bus_terro.jpeg']\n"
          ],
          "name": "stdout"
        }
      ]
    },
    {
      "cell_type": "code",
      "metadata": {
        "colab": {
          "base_uri": "https://localhost:8080/"
        },
        "id": "dlpJOryrSpmo",
        "outputId": "567cac03-f3e3-4344-aba6-96cb88052fad"
      },
      "source": [
        "!python test.py --dataroot datasets/photos --name style_monet_pretrained --model test --no_dropout --load_size 512 --crop_size 512"
      ],
      "execution_count": 14,
      "outputs": [
        {
          "output_type": "stream",
          "text": [
            "----------------- Options ---------------\n",
            "             aspect_ratio: 1.0                           \n",
            "               batch_size: 1                             \n",
            "          checkpoints_dir: ./checkpoints                 \n",
            "                crop_size: 512                           \t[default: 256]\n",
            "                 dataroot: datasets/photos               \t[default: None]\n",
            "             dataset_mode: single                        \n",
            "                direction: AtoB                          \n",
            "          display_winsize: 256                           \n",
            "                    epoch: latest                        \n",
            "                     eval: False                         \n",
            "                  gpu_ids: 0                             \n",
            "                init_gain: 0.02                          \n",
            "                init_type: normal                        \n",
            "                 input_nc: 3                             \n",
            "                  isTrain: False                         \t[default: None]\n",
            "                load_iter: 0                             \t[default: 0]\n",
            "                load_size: 512                           \t[default: 256]\n",
            "         max_dataset_size: inf                           \n",
            "                    model: test                          \n",
            "             model_suffix:                               \n",
            "               n_layers_D: 3                             \n",
            "                     name: style_monet_pretrained        \t[default: experiment_name]\n",
            "                      ndf: 64                            \n",
            "                     netD: basic                         \n",
            "                     netG: resnet_9blocks                \n",
            "                      ngf: 64                            \n",
            "               no_dropout: True                          \t[default: False]\n",
            "                  no_flip: False                         \n",
            "                     norm: instance                      \n",
            "                 num_test: 50                            \n",
            "              num_threads: 4                             \n",
            "                output_nc: 3                             \n",
            "                    phase: test                          \n",
            "               preprocess: resize_and_crop               \n",
            "              results_dir: ./results/                    \n",
            "           serial_batches: False                         \n",
            "                   suffix:                               \n",
            "                  verbose: False                         \n",
            "----------------- End -------------------\n",
            "/usr/local/lib/python3.7/dist-packages/torchvision/transforms/transforms.py:281: UserWarning: Argument interpolation should be of type InterpolationMode instead of int. Please, use InterpolationMode enum.\n",
            "  \"Argument interpolation should be of type InterpolationMode instead of int. \"\n",
            "dataset [SingleDataset] was created\n",
            "initialize network with normal\n",
            "model [TestModel] was created\n",
            "loading the model from ./checkpoints/style_monet_pretrained/latest_net_G.pth\n",
            "---------- Networks initialized -------------\n",
            "[Network G] Total number of parameters : 11.378 M\n",
            "-----------------------------------------------\n",
            "creating web directory ./results/style_monet_pretrained/test_latest\n",
            "processing (0000)-th image... ['datasets/photos/cachorro_bimbim.jpeg']\n",
            "processing (0005)-th image... ['datasets/photos/carro_luan.jpeg']\n",
            "processing (0010)-th image... ['datasets/photos/ponto_bus_terro.jpeg']\n"
          ],
          "name": "stdout"
        }
      ]
    },
    {
      "cell_type": "code",
      "metadata": {
        "colab": {
          "base_uri": "https://localhost:8080/"
        },
        "id": "sMrkU2ABSpr5",
        "outputId": "9ac1e342-3f54-490b-f8c6-52464b499b6a"
      },
      "source": [
        "!python test.py --dataroot datasets/photos --name style_cezanne_pretrained --model test --no_dropout --load_size 512 --crop_size 512"
      ],
      "execution_count": 15,
      "outputs": [
        {
          "output_type": "stream",
          "text": [
            "----------------- Options ---------------\n",
            "             aspect_ratio: 1.0                           \n",
            "               batch_size: 1                             \n",
            "          checkpoints_dir: ./checkpoints                 \n",
            "                crop_size: 512                           \t[default: 256]\n",
            "                 dataroot: datasets/photos               \t[default: None]\n",
            "             dataset_mode: single                        \n",
            "                direction: AtoB                          \n",
            "          display_winsize: 256                           \n",
            "                    epoch: latest                        \n",
            "                     eval: False                         \n",
            "                  gpu_ids: 0                             \n",
            "                init_gain: 0.02                          \n",
            "                init_type: normal                        \n",
            "                 input_nc: 3                             \n",
            "                  isTrain: False                         \t[default: None]\n",
            "                load_iter: 0                             \t[default: 0]\n",
            "                load_size: 512                           \t[default: 256]\n",
            "         max_dataset_size: inf                           \n",
            "                    model: test                          \n",
            "             model_suffix:                               \n",
            "               n_layers_D: 3                             \n",
            "                     name: style_cezanne_pretrained      \t[default: experiment_name]\n",
            "                      ndf: 64                            \n",
            "                     netD: basic                         \n",
            "                     netG: resnet_9blocks                \n",
            "                      ngf: 64                            \n",
            "               no_dropout: True                          \t[default: False]\n",
            "                  no_flip: False                         \n",
            "                     norm: instance                      \n",
            "                 num_test: 50                            \n",
            "              num_threads: 4                             \n",
            "                output_nc: 3                             \n",
            "                    phase: test                          \n",
            "               preprocess: resize_and_crop               \n",
            "              results_dir: ./results/                    \n",
            "           serial_batches: False                         \n",
            "                   suffix:                               \n",
            "                  verbose: False                         \n",
            "----------------- End -------------------\n",
            "/usr/local/lib/python3.7/dist-packages/torchvision/transforms/transforms.py:281: UserWarning: Argument interpolation should be of type InterpolationMode instead of int. Please, use InterpolationMode enum.\n",
            "  \"Argument interpolation should be of type InterpolationMode instead of int. \"\n",
            "dataset [SingleDataset] was created\n",
            "initialize network with normal\n",
            "model [TestModel] was created\n",
            "loading the model from ./checkpoints/style_cezanne_pretrained/latest_net_G.pth\n",
            "---------- Networks initialized -------------\n",
            "[Network G] Total number of parameters : 11.378 M\n",
            "-----------------------------------------------\n",
            "creating web directory ./results/style_cezanne_pretrained/test_latest\n",
            "processing (0000)-th image... ['datasets/photos/cachorro_bimbim.jpeg']\n",
            "processing (0005)-th image... ['datasets/photos/carro_luan.jpeg']\n",
            "processing (0010)-th image... ['datasets/photos/ponto_bus_terro.jpeg']\n"
          ],
          "name": "stdout"
        }
      ]
    },
    {
      "cell_type": "code",
      "metadata": {
        "colab": {
          "base_uri": "https://localhost:8080/"
        },
        "id": "W3GxQWKFSpyy",
        "outputId": "0d472b5d-8e03-43f6-a7d0-88c5a185109e"
      },
      "source": [
        "!python test.py --dataroot datasets/photos --name style_ukiyoe_pretrained --model test --no_dropout --load_size 512 --crop_size 512"
      ],
      "execution_count": 16,
      "outputs": [
        {
          "output_type": "stream",
          "text": [
            "----------------- Options ---------------\n",
            "             aspect_ratio: 1.0                           \n",
            "               batch_size: 1                             \n",
            "          checkpoints_dir: ./checkpoints                 \n",
            "                crop_size: 512                           \t[default: 256]\n",
            "                 dataroot: datasets/photos               \t[default: None]\n",
            "             dataset_mode: single                        \n",
            "                direction: AtoB                          \n",
            "          display_winsize: 256                           \n",
            "                    epoch: latest                        \n",
            "                     eval: False                         \n",
            "                  gpu_ids: 0                             \n",
            "                init_gain: 0.02                          \n",
            "                init_type: normal                        \n",
            "                 input_nc: 3                             \n",
            "                  isTrain: False                         \t[default: None]\n",
            "                load_iter: 0                             \t[default: 0]\n",
            "                load_size: 512                           \t[default: 256]\n",
            "         max_dataset_size: inf                           \n",
            "                    model: test                          \n",
            "             model_suffix:                               \n",
            "               n_layers_D: 3                             \n",
            "                     name: style_ukiyoe_pretrained       \t[default: experiment_name]\n",
            "                      ndf: 64                            \n",
            "                     netD: basic                         \n",
            "                     netG: resnet_9blocks                \n",
            "                      ngf: 64                            \n",
            "               no_dropout: True                          \t[default: False]\n",
            "                  no_flip: False                         \n",
            "                     norm: instance                      \n",
            "                 num_test: 50                            \n",
            "              num_threads: 4                             \n",
            "                output_nc: 3                             \n",
            "                    phase: test                          \n",
            "               preprocess: resize_and_crop               \n",
            "              results_dir: ./results/                    \n",
            "           serial_batches: False                         \n",
            "                   suffix:                               \n",
            "                  verbose: False                         \n",
            "----------------- End -------------------\n",
            "/usr/local/lib/python3.7/dist-packages/torchvision/transforms/transforms.py:281: UserWarning: Argument interpolation should be of type InterpolationMode instead of int. Please, use InterpolationMode enum.\n",
            "  \"Argument interpolation should be of type InterpolationMode instead of int. \"\n",
            "dataset [SingleDataset] was created\n",
            "initialize network with normal\n",
            "model [TestModel] was created\n",
            "loading the model from ./checkpoints/style_ukiyoe_pretrained/latest_net_G.pth\n",
            "---------- Networks initialized -------------\n",
            "[Network G] Total number of parameters : 11.378 M\n",
            "-----------------------------------------------\n",
            "creating web directory ./results/style_ukiyoe_pretrained/test_latest\n",
            "processing (0000)-th image... ['datasets/photos/cachorro_bimbim.jpeg']\n",
            "processing (0005)-th image... ['datasets/photos/carro_luan.jpeg']\n",
            "processing (0010)-th image... ['datasets/photos/ponto_bus_terro.jpeg']\n"
          ],
          "name": "stdout"
        }
      ]
    },
    {
      "cell_type": "markdown",
      "metadata": {
        "id": "0l9_sMbazgcD"
      },
      "source": [
        "# Download the results"
      ]
    },
    {
      "cell_type": "code",
      "metadata": {
        "id": "KHqddUrHWBPL",
        "colab": {
          "base_uri": "https://localhost:8080/"
        },
        "outputId": "20184640-6e1c-4729-ecc8-526408ab8b9b"
      },
      "source": [
        "!zip -r /content/pytorch-CycleGAN-and-pix2pix/resultados.zip /content/pytorch-CycleGAN-and-pix2pix/results"
      ],
      "execution_count": 17,
      "outputs": [
        {
          "output_type": "stream",
          "text": [
            "  adding: content/pytorch-CycleGAN-and-pix2pix/results/ (stored 0%)\n",
            "  adding: content/pytorch-CycleGAN-and-pix2pix/results/style_monet_pretrained/ (stored 0%)\n",
            "  adding: content/pytorch-CycleGAN-and-pix2pix/results/style_monet_pretrained/test_latest/ (stored 0%)\n",
            "  adding: content/pytorch-CycleGAN-and-pix2pix/results/style_monet_pretrained/test_latest/index.html (deflated 92%)\n",
            "  adding: content/pytorch-CycleGAN-and-pix2pix/results/style_monet_pretrained/test_latest/images/ (stored 0%)\n",
            "  adding: content/pytorch-CycleGAN-and-pix2pix/results/style_monet_pretrained/test_latest/images/calcadao_luan_real.png (deflated 0%)\n",
            "  adding: content/pytorch-CycleGAN-and-pix2pix/results/style_monet_pretrained/test_latest/images/carro_luan_real.png (deflated 0%)\n",
            "  adding: content/pytorch-CycleGAN-and-pix2pix/results/style_monet_pretrained/test_latest/images/pessoa_ana_real.png (deflated 0%)\n",
            "  adding: content/pytorch-CycleGAN-and-pix2pix/results/style_monet_pretrained/test_latest/images/cachorro_igor_real.png (deflated 1%)\n",
            "  adding: content/pytorch-CycleGAN-and-pix2pix/results/style_monet_pretrained/test_latest/images/ponto_bus_terro_real.png (deflated 0%)\n",
            "  adding: content/pytorch-CycleGAN-and-pix2pix/results/style_monet_pretrained/test_latest/images/pessoa_ana_fake.png (deflated 0%)\n",
            "  adding: content/pytorch-CycleGAN-and-pix2pix/results/style_monet_pretrained/test_latest/images/paisagem_luan_fake.png (deflated 0%)\n",
            "  adding: content/pytorch-CycleGAN-and-pix2pix/results/style_monet_pretrained/test_latest/images/cachorro_giovanni_enegsys_real.png (deflated 0%)\n",
            "  adding: content/pytorch-CycleGAN-and-pix2pix/results/style_monet_pretrained/test_latest/images/gato_ketlen_real.png (deflated 0%)\n",
            "  adding: content/pytorch-CycleGAN-and-pix2pix/results/style_monet_pretrained/test_latest/images/cachorro_bimbim_real.png (deflated 0%)\n",
            "  adding: content/pytorch-CycleGAN-and-pix2pix/results/style_monet_pretrained/test_latest/images/gato_ketlen_fake.png (deflated 0%)\n",
            "  adding: content/pytorch-CycleGAN-and-pix2pix/results/style_monet_pretrained/test_latest/images/carro_luan_fake.png (deflated 0%)\n",
            "  adding: content/pytorch-CycleGAN-and-pix2pix/results/style_monet_pretrained/test_latest/images/chien_nico_fake.png (deflated 0%)\n",
            "  adding: content/pytorch-CycleGAN-and-pix2pix/results/style_monet_pretrained/test_latest/images/chien_nico_real.png (deflated 0%)\n",
            "  adding: content/pytorch-CycleGAN-and-pix2pix/results/style_monet_pretrained/test_latest/images/cachorro_igor_fake.png (deflated 0%)\n",
            "  adding: content/pytorch-CycleGAN-and-pix2pix/results/style_monet_pretrained/test_latest/images/paisagem_luan_real.png (deflated 0%)\n",
            "  adding: content/pytorch-CycleGAN-and-pix2pix/results/style_monet_pretrained/test_latest/images/calcadao_luan_fake.png (deflated 0%)\n",
            "  adding: content/pytorch-CycleGAN-and-pix2pix/results/style_monet_pretrained/test_latest/images/cachorro_bimbim_fake.png (deflated 0%)\n",
            "  adding: content/pytorch-CycleGAN-and-pix2pix/results/style_monet_pretrained/test_latest/images/cachorro_gabriel_oliva_real.png (deflated 0%)\n",
            "  adding: content/pytorch-CycleGAN-and-pix2pix/results/style_monet_pretrained/test_latest/images/cachorro_giovanni_enegsys_fake.png (deflated 0%)\n",
            "  adding: content/pytorch-CycleGAN-and-pix2pix/results/style_monet_pretrained/test_latest/images/cachorro_gabriel_oliva_fake.png (deflated 0%)\n",
            "  adding: content/pytorch-CycleGAN-and-pix2pix/results/style_monet_pretrained/test_latest/images/ponto_bus_terro_fake.png (deflated 0%)\n",
            "  adding: content/pytorch-CycleGAN-and-pix2pix/results/style_cezanne_pretrained/ (stored 0%)\n",
            "  adding: content/pytorch-CycleGAN-and-pix2pix/results/style_cezanne_pretrained/test_latest/ (stored 0%)\n",
            "  adding: content/pytorch-CycleGAN-and-pix2pix/results/style_cezanne_pretrained/test_latest/index.html (deflated 92%)\n",
            "  adding: content/pytorch-CycleGAN-and-pix2pix/results/style_cezanne_pretrained/test_latest/images/ (stored 0%)\n",
            "  adding: content/pytorch-CycleGAN-and-pix2pix/results/style_cezanne_pretrained/test_latest/images/calcadao_luan_real.png (deflated 0%)\n",
            "  adding: content/pytorch-CycleGAN-and-pix2pix/results/style_cezanne_pretrained/test_latest/images/carro_luan_real.png (deflated 0%)\n",
            "  adding: content/pytorch-CycleGAN-and-pix2pix/results/style_cezanne_pretrained/test_latest/images/pessoa_ana_real.png (deflated 0%)\n",
            "  adding: content/pytorch-CycleGAN-and-pix2pix/results/style_cezanne_pretrained/test_latest/images/cachorro_igor_real.png (deflated 1%)\n",
            "  adding: content/pytorch-CycleGAN-and-pix2pix/results/style_cezanne_pretrained/test_latest/images/ponto_bus_terro_real.png (deflated 0%)\n",
            "  adding: content/pytorch-CycleGAN-and-pix2pix/results/style_cezanne_pretrained/test_latest/images/pessoa_ana_fake.png (deflated 0%)\n",
            "  adding: content/pytorch-CycleGAN-and-pix2pix/results/style_cezanne_pretrained/test_latest/images/paisagem_luan_fake.png (deflated 0%)\n",
            "  adding: content/pytorch-CycleGAN-and-pix2pix/results/style_cezanne_pretrained/test_latest/images/cachorro_giovanni_enegsys_real.png (deflated 0%)\n",
            "  adding: content/pytorch-CycleGAN-and-pix2pix/results/style_cezanne_pretrained/test_latest/images/gato_ketlen_real.png (deflated 0%)\n",
            "  adding: content/pytorch-CycleGAN-and-pix2pix/results/style_cezanne_pretrained/test_latest/images/cachorro_bimbim_real.png (deflated 0%)\n",
            "  adding: content/pytorch-CycleGAN-and-pix2pix/results/style_cezanne_pretrained/test_latest/images/gato_ketlen_fake.png (deflated 0%)\n",
            "  adding: content/pytorch-CycleGAN-and-pix2pix/results/style_cezanne_pretrained/test_latest/images/carro_luan_fake.png (deflated 0%)\n",
            "  adding: content/pytorch-CycleGAN-and-pix2pix/results/style_cezanne_pretrained/test_latest/images/chien_nico_fake.png (deflated 0%)\n",
            "  adding: content/pytorch-CycleGAN-and-pix2pix/results/style_cezanne_pretrained/test_latest/images/chien_nico_real.png (deflated 0%)\n",
            "  adding: content/pytorch-CycleGAN-and-pix2pix/results/style_cezanne_pretrained/test_latest/images/cachorro_igor_fake.png (deflated 0%)\n",
            "  adding: content/pytorch-CycleGAN-and-pix2pix/results/style_cezanne_pretrained/test_latest/images/paisagem_luan_real.png (deflated 0%)\n",
            "  adding: content/pytorch-CycleGAN-and-pix2pix/results/style_cezanne_pretrained/test_latest/images/calcadao_luan_fake.png (deflated 0%)\n",
            "  adding: content/pytorch-CycleGAN-and-pix2pix/results/style_cezanne_pretrained/test_latest/images/cachorro_bimbim_fake.png (deflated 0%)\n",
            "  adding: content/pytorch-CycleGAN-and-pix2pix/results/style_cezanne_pretrained/test_latest/images/cachorro_gabriel_oliva_real.png (deflated 0%)\n",
            "  adding: content/pytorch-CycleGAN-and-pix2pix/results/style_cezanne_pretrained/test_latest/images/cachorro_giovanni_enegsys_fake.png (deflated 0%)\n",
            "  adding: content/pytorch-CycleGAN-and-pix2pix/results/style_cezanne_pretrained/test_latest/images/cachorro_gabriel_oliva_fake.png (deflated 0%)\n",
            "  adding: content/pytorch-CycleGAN-and-pix2pix/results/style_cezanne_pretrained/test_latest/images/ponto_bus_terro_fake.png (deflated 0%)\n",
            "  adding: content/pytorch-CycleGAN-and-pix2pix/results/style_vangogh_pretrained/ (stored 0%)\n",
            "  adding: content/pytorch-CycleGAN-and-pix2pix/results/style_vangogh_pretrained/test_latest/ (stored 0%)\n",
            "  adding: content/pytorch-CycleGAN-and-pix2pix/results/style_vangogh_pretrained/test_latest/index.html (deflated 92%)\n",
            "  adding: content/pytorch-CycleGAN-and-pix2pix/results/style_vangogh_pretrained/test_latest/images/ (stored 0%)\n",
            "  adding: content/pytorch-CycleGAN-and-pix2pix/results/style_vangogh_pretrained/test_latest/images/calcadao_luan_real.png (deflated 0%)\n",
            "  adding: content/pytorch-CycleGAN-and-pix2pix/results/style_vangogh_pretrained/test_latest/images/carro_luan_real.png (deflated 0%)\n",
            "  adding: content/pytorch-CycleGAN-and-pix2pix/results/style_vangogh_pretrained/test_latest/images/pessoa_ana_real.png (deflated 0%)\n",
            "  adding: content/pytorch-CycleGAN-and-pix2pix/results/style_vangogh_pretrained/test_latest/images/cachorro_igor_real.png (deflated 1%)\n",
            "  adding: content/pytorch-CycleGAN-and-pix2pix/results/style_vangogh_pretrained/test_latest/images/ponto_bus_terro_real.png (deflated 0%)\n",
            "  adding: content/pytorch-CycleGAN-and-pix2pix/results/style_vangogh_pretrained/test_latest/images/pessoa_ana_fake.png (deflated 0%)\n",
            "  adding: content/pytorch-CycleGAN-and-pix2pix/results/style_vangogh_pretrained/test_latest/images/paisagem_luan_fake.png (deflated 0%)\n",
            "  adding: content/pytorch-CycleGAN-and-pix2pix/results/style_vangogh_pretrained/test_latest/images/cachorro_giovanni_enegsys_real.png (deflated 0%)\n",
            "  adding: content/pytorch-CycleGAN-and-pix2pix/results/style_vangogh_pretrained/test_latest/images/gato_ketlen_real.png (deflated 0%)\n",
            "  adding: content/pytorch-CycleGAN-and-pix2pix/results/style_vangogh_pretrained/test_latest/images/cachorro_bimbim_real.png (deflated 0%)\n",
            "  adding: content/pytorch-CycleGAN-and-pix2pix/results/style_vangogh_pretrained/test_latest/images/gato_ketlen_fake.png (deflated 0%)\n",
            "  adding: content/pytorch-CycleGAN-and-pix2pix/results/style_vangogh_pretrained/test_latest/images/carro_luan_fake.png (deflated 0%)\n",
            "  adding: content/pytorch-CycleGAN-and-pix2pix/results/style_vangogh_pretrained/test_latest/images/chien_nico_fake.png (deflated 0%)\n",
            "  adding: content/pytorch-CycleGAN-and-pix2pix/results/style_vangogh_pretrained/test_latest/images/chien_nico_real.png (deflated 0%)\n",
            "  adding: content/pytorch-CycleGAN-and-pix2pix/results/style_vangogh_pretrained/test_latest/images/cachorro_igor_fake.png (deflated 0%)\n",
            "  adding: content/pytorch-CycleGAN-and-pix2pix/results/style_vangogh_pretrained/test_latest/images/paisagem_luan_real.png (deflated 0%)\n",
            "  adding: content/pytorch-CycleGAN-and-pix2pix/results/style_vangogh_pretrained/test_latest/images/calcadao_luan_fake.png (deflated 0%)\n",
            "  adding: content/pytorch-CycleGAN-and-pix2pix/results/style_vangogh_pretrained/test_latest/images/cachorro_bimbim_fake.png (deflated 0%)\n",
            "  adding: content/pytorch-CycleGAN-and-pix2pix/results/style_vangogh_pretrained/test_latest/images/cachorro_gabriel_oliva_real.png (deflated 0%)\n",
            "  adding: content/pytorch-CycleGAN-and-pix2pix/results/style_vangogh_pretrained/test_latest/images/cachorro_giovanni_enegsys_fake.png (deflated 0%)\n",
            "  adding: content/pytorch-CycleGAN-and-pix2pix/results/style_vangogh_pretrained/test_latest/images/cachorro_gabriel_oliva_fake.png (deflated 0%)\n",
            "  adding: content/pytorch-CycleGAN-and-pix2pix/results/style_vangogh_pretrained/test_latest/images/ponto_bus_terro_fake.png (deflated 0%)\n",
            "  adding: content/pytorch-CycleGAN-and-pix2pix/results/style_ukiyoe_pretrained/ (stored 0%)\n",
            "  adding: content/pytorch-CycleGAN-and-pix2pix/results/style_ukiyoe_pretrained/test_latest/ (stored 0%)\n",
            "  adding: content/pytorch-CycleGAN-and-pix2pix/results/style_ukiyoe_pretrained/test_latest/index.html (deflated 92%)\n",
            "  adding: content/pytorch-CycleGAN-and-pix2pix/results/style_ukiyoe_pretrained/test_latest/images/ (stored 0%)\n",
            "  adding: content/pytorch-CycleGAN-and-pix2pix/results/style_ukiyoe_pretrained/test_latest/images/calcadao_luan_real.png (deflated 0%)\n",
            "  adding: content/pytorch-CycleGAN-and-pix2pix/results/style_ukiyoe_pretrained/test_latest/images/carro_luan_real.png (deflated 0%)\n",
            "  adding: content/pytorch-CycleGAN-and-pix2pix/results/style_ukiyoe_pretrained/test_latest/images/pessoa_ana_real.png (deflated 0%)\n",
            "  adding: content/pytorch-CycleGAN-and-pix2pix/results/style_ukiyoe_pretrained/test_latest/images/cachorro_igor_real.png (deflated 1%)\n",
            "  adding: content/pytorch-CycleGAN-and-pix2pix/results/style_ukiyoe_pretrained/test_latest/images/ponto_bus_terro_real.png (deflated 0%)\n",
            "  adding: content/pytorch-CycleGAN-and-pix2pix/results/style_ukiyoe_pretrained/test_latest/images/pessoa_ana_fake.png (deflated 0%)\n",
            "  adding: content/pytorch-CycleGAN-and-pix2pix/results/style_ukiyoe_pretrained/test_latest/images/paisagem_luan_fake.png (deflated 0%)\n",
            "  adding: content/pytorch-CycleGAN-and-pix2pix/results/style_ukiyoe_pretrained/test_latest/images/cachorro_giovanni_enegsys_real.png (deflated 0%)\n",
            "  adding: content/pytorch-CycleGAN-and-pix2pix/results/style_ukiyoe_pretrained/test_latest/images/gato_ketlen_real.png (deflated 0%)\n",
            "  adding: content/pytorch-CycleGAN-and-pix2pix/results/style_ukiyoe_pretrained/test_latest/images/cachorro_bimbim_real.png (deflated 0%)\n",
            "  adding: content/pytorch-CycleGAN-and-pix2pix/results/style_ukiyoe_pretrained/test_latest/images/gato_ketlen_fake.png (deflated 0%)\n",
            "  adding: content/pytorch-CycleGAN-and-pix2pix/results/style_ukiyoe_pretrained/test_latest/images/carro_luan_fake.png (deflated 0%)\n",
            "  adding: content/pytorch-CycleGAN-and-pix2pix/results/style_ukiyoe_pretrained/test_latest/images/chien_nico_fake.png (deflated 0%)\n",
            "  adding: content/pytorch-CycleGAN-and-pix2pix/results/style_ukiyoe_pretrained/test_latest/images/chien_nico_real.png (deflated 0%)\n",
            "  adding: content/pytorch-CycleGAN-and-pix2pix/results/style_ukiyoe_pretrained/test_latest/images/cachorro_igor_fake.png (deflated 0%)\n",
            "  adding: content/pytorch-CycleGAN-and-pix2pix/results/style_ukiyoe_pretrained/test_latest/images/paisagem_luan_real.png (deflated 0%)\n",
            "  adding: content/pytorch-CycleGAN-and-pix2pix/results/style_ukiyoe_pretrained/test_latest/images/calcadao_luan_fake.png (deflated 0%)\n",
            "  adding: content/pytorch-CycleGAN-and-pix2pix/results/style_ukiyoe_pretrained/test_latest/images/cachorro_bimbim_fake.png (deflated 0%)\n",
            "  adding: content/pytorch-CycleGAN-and-pix2pix/results/style_ukiyoe_pretrained/test_latest/images/cachorro_gabriel_oliva_real.png (deflated 0%)\n",
            "  adding: content/pytorch-CycleGAN-and-pix2pix/results/style_ukiyoe_pretrained/test_latest/images/cachorro_giovanni_enegsys_fake.png (deflated 0%)\n",
            "  adding: content/pytorch-CycleGAN-and-pix2pix/results/style_ukiyoe_pretrained/test_latest/images/cachorro_gabriel_oliva_fake.png (deflated 0%)\n",
            "  adding: content/pytorch-CycleGAN-and-pix2pix/results/style_ukiyoe_pretrained/test_latest/images/ponto_bus_terro_fake.png (deflated 0%)\n"
          ],
          "name": "stdout"
        }
      ]
    },
    {
      "cell_type": "code",
      "metadata": {
        "id": "urWFF0P_WCcj",
        "colab": {
          "base_uri": "https://localhost:8080/",
          "height": 17
        },
        "outputId": "ad1127f9-959b-41e1-af6a-152c61cf3c30"
      },
      "source": [
        "files.download(\"/content/pytorch-CycleGAN-and-pix2pix/resultados.zip\")"
      ],
      "execution_count": 18,
      "outputs": [
        {
          "output_type": "display_data",
          "data": {
            "application/javascript": [
              "\n",
              "    async function download(id, filename, size) {\n",
              "      if (!google.colab.kernel.accessAllowed) {\n",
              "        return;\n",
              "      }\n",
              "      const div = document.createElement('div');\n",
              "      const label = document.createElement('label');\n",
              "      label.textContent = `Downloading \"${filename}\": `;\n",
              "      div.appendChild(label);\n",
              "      const progress = document.createElement('progress');\n",
              "      progress.max = size;\n",
              "      div.appendChild(progress);\n",
              "      document.body.appendChild(div);\n",
              "\n",
              "      const buffers = [];\n",
              "      let downloaded = 0;\n",
              "\n",
              "      const channel = await google.colab.kernel.comms.open(id);\n",
              "      // Send a message to notify the kernel that we're ready.\n",
              "      channel.send({})\n",
              "\n",
              "      for await (const message of channel.messages) {\n",
              "        // Send a message to notify the kernel that we're ready.\n",
              "        channel.send({})\n",
              "        if (message.buffers) {\n",
              "          for (const buffer of message.buffers) {\n",
              "            buffers.push(buffer);\n",
              "            downloaded += buffer.byteLength;\n",
              "            progress.value = downloaded;\n",
              "          }\n",
              "        }\n",
              "      }\n",
              "      const blob = new Blob(buffers, {type: 'application/binary'});\n",
              "      const a = document.createElement('a');\n",
              "      a.href = window.URL.createObjectURL(blob);\n",
              "      a.download = filename;\n",
              "      div.appendChild(a);\n",
              "      a.click();\n",
              "      div.remove();\n",
              "    }\n",
              "  "
            ],
            "text/plain": [
              "<IPython.core.display.Javascript object>"
            ]
          },
          "metadata": {}
        },
        {
          "output_type": "display_data",
          "data": {
            "application/javascript": [
              "download(\"download_66d0be9c-11c2-4ada-affc-afca6d2bdaa6\", \"resultados.zip\", 35834704)"
            ],
            "text/plain": [
              "<IPython.core.display.Javascript object>"
            ]
          },
          "metadata": {}
        }
      ]
    },
    {
      "cell_type": "markdown",
      "metadata": {
        "id": "OzSKIPUByfiN"
      },
      "source": [
        "# Visualize"
      ]
    },
    {
      "cell_type": "code",
      "metadata": {
        "id": "9Mgg8raPyizq"
      },
      "source": [
        "import matplotlib.pyplot as plt\n",
        "\n",
        "#Change the result_path and img_name\n",
        "result_path = './results/style_vangogh_pretrained/test_latest/images/'\n",
        "img_name = 'Include here your image name'\n",
        "\n",
        "# Uncomment to plot the images\n",
        "#img = plt.imread(result_path + img_name)\n",
        "#plt.imshow(img)"
      ],
      "execution_count": 19,
      "outputs": []
    }
  ]
}