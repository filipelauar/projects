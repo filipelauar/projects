{
 "cells": [
  {
   "cell_type": "markdown",
   "metadata": {
    "colab_type": "text",
    "id": "Ed03SC1Jm9Yy"
   },
   "source": [
    "## Aprendizado Profundo - UFMG\n",
    "\n",
    "## Problemas\n",
    "\n",
    "Como vimos acima, há muitos passos na criação e definição de uma nova rede neural.\n",
    "A grande parte desses ajustes dependem diretamente do problemas.\n",
    "\n",
    "Abaixo, listamos alguns problemas. Todos os problemas e datasets usados vem do [Center for Machine Learning and Intelligent Systems](http://archive.ics.uci.edu/ml/datasets.php).\n",
    "\n",
    "\n",
    "**Seu objetivo é determinar e implementar um modelo para cada problema.**\n",
    "\n",
    "Isso inclui definir uma arquitetura (por enquanto usando somente camadas [Densas](https://mxnet.incubator.apache.org/api/python/gluon/nn.html#mxnet.gluon.nn.Dense), porém podemos variar as ativações -- [Sigmoid](https://mxnet.incubator.apache.org/api/python/symbol/symbol.html#mxnet.symbol.Symbol.sigmoid), [Tanh](https://mxnet.incubator.apache.org/api/python/symbol/symbol.html#mxnet.symbol.Symbol.tanh), [ReLU](https://mxnet.incubator.apache.org/api/python/symbol/symbol.html#mxnet.symbol.Symbol.relu), [LeakyReLU, ELU, SeLU, PReLU, RReLU](https://mxnet.incubator.apache.org/api/python/symbol/symbol.html#mxnet.symbol.LeakyReLU)), uma função de custo ( [L1](https://mxnet.incubator.apache.org/api/python/gluon/loss.html#mxnet.gluon.loss.L2Loss), [L2](https://mxnet.incubator.apache.org/api/python/gluon/loss.html#mxnet.gluon.loss.L1Loss),[ Huber](https://mxnet.incubator.apache.org/api/python/gluon/loss.html#mxnet.gluon.loss.HuberLoss), [*Cross-Entropy*](https://mxnet.incubator.apache.org/api/python/gluon/loss.html#mxnet.gluon.loss.SoftmaxCrossEntropyLoss), [Hinge](https://mxnet.incubator.apache.org/api/python/gluon/loss.html#mxnet.gluon.loss.HingeLoss)), e um algoritmo de otimização ([SGD](https://mxnet.incubator.apache.org/api/python/optimization/optimization.html#mxnet.optimizer.SGD), [Momentum](https://mxnet.incubator.apache.org/api/python/optimization/optimization.html#mxnet.optimizer.SGD), [RMSProp](https://mxnet.incubator.apache.org/api/python/optimization/optimization.html#mxnet.optimizer.RMSProp), [Adam](https://mxnet.incubator.apache.org/api/python/optimization/optimization.html#mxnet.optimizer.Adam)).\n",
    "\n",
    "A leitura do dado assim como a função de treinamento já estão implementados."
   ]
  },
  {
   "cell_type": "markdown",
   "metadata": {
    "colab_type": "text",
    "id": "Gp6CwWnFnTwb"
   },
   "source": [
    "Esse pequeno bloco de código abaixo é usado somente para instalar o MXNet para CUDA 10. Execute esse bloco somente uma vez e ignore possíveis erros levantados durante a instalação.\n",
    "\n",
    "**ATENÇÃO: a alteração deste bloco pode implicar em problemas na execução dos blocos restantes!**"
   ]
  },
  {
   "cell_type": "code",
   "execution_count": 1,
   "metadata": {
    "colab": {
     "base_uri": "https://localhost:8080/",
     "height": 306
    },
    "colab_type": "code",
    "executionInfo": {
     "elapsed": 47582,
     "status": "ok",
     "timestamp": 1567018902132,
     "user": {
      "displayName": "Filipe Lauar",
      "photoUrl": "",
      "userId": "12635237392329795619"
     },
     "user_tz": 180
    },
    "id": "Bl9aQWnbmZ_P",
    "outputId": "52cbb60c-4721-4009-db1e-ad50a5de8736"
   },
   "outputs": [
    {
     "name": "stdout",
     "output_type": "stream",
     "text": [
      "Collecting mxnet-cu100\n",
      "\u001b[?25l  Downloading https://files.pythonhosted.org/packages/56/d3/e939814957c2f09ecdd22daa166898889d54e5981e356832425d514edfb6/mxnet_cu100-1.5.0-py2.py3-none-manylinux1_x86_64.whl (540.1MB)\n",
      "\u001b[K     |████████████████████████████████| 540.1MB 27kB/s \n",
      "\u001b[?25hRequirement already satisfied: numpy<2.0.0,>1.16.0 in /usr/local/lib/python3.6/dist-packages (from mxnet-cu100) (1.16.4)\n",
      "Collecting graphviz<0.9.0,>=0.8.1 (from mxnet-cu100)\n",
      "  Downloading https://files.pythonhosted.org/packages/53/39/4ab213673844e0c004bed8a0781a0721a3f6bb23eb8854ee75c236428892/graphviz-0.8.4-py2.py3-none-any.whl\n",
      "Requirement already satisfied: requests<3,>=2.20.0 in /usr/local/lib/python3.6/dist-packages (from mxnet-cu100) (2.21.0)\n",
      "Requirement already satisfied: idna<2.9,>=2.5 in /usr/local/lib/python3.6/dist-packages (from requests<3,>=2.20.0->mxnet-cu100) (2.8)\n",
      "Requirement already satisfied: urllib3<1.25,>=1.21.1 in /usr/local/lib/python3.6/dist-packages (from requests<3,>=2.20.0->mxnet-cu100) (1.24.3)\n",
      "Requirement already satisfied: chardet<3.1.0,>=3.0.2 in /usr/local/lib/python3.6/dist-packages (from requests<3,>=2.20.0->mxnet-cu100) (3.0.4)\n",
      "Requirement already satisfied: certifi>=2017.4.17 in /usr/local/lib/python3.6/dist-packages (from requests<3,>=2.20.0->mxnet-cu100) (2019.6.16)\n",
      "Installing collected packages: graphviz, mxnet-cu100\n",
      "  Found existing installation: graphviz 0.10.1\n",
      "    Uninstalling graphviz-0.10.1:\n",
      "      Successfully uninstalled graphviz-0.10.1\n",
      "Successfully installed graphviz-0.8.4 mxnet-cu100-1.5.0\n"
     ]
    }
   ],
   "source": [
    "#! pip install mxnet-cu100"
   ]
  },
  {
   "cell_type": "markdown",
   "metadata": {
    "colab_type": "text",
    "id": "FuGr_PCemZ_S"
   },
   "source": [
    "# Preâmbulo"
   ]
  },
  {
   "cell_type": "code",
   "execution_count": 0,
   "metadata": {
    "colab": {},
    "colab_type": "code",
    "id": "XW-VATPAldgt"
   },
   "outputs": [],
   "source": [
    "# imports basicos\n",
    "\n",
    "from mxnet import autograd\n",
    "from mxnet import gluon\n",
    "from mxnet import init\n",
    "from mxnet import nd\n",
    "\n",
    "from mxnet.gluon import data as gdata\n",
    "from mxnet.gluon import loss as gloss\n",
    "from mxnet.gluon import nn\n",
    "from mxnet.gluon import utils as gutils\n",
    "\n",
    "from sklearn import preprocessing\n",
    "from sklearn.model_selection import train_test_split\n",
    "\n",
    "import mxnet as mx\n",
    "import numpy as np\n",
    "\n",
    "import os\n",
    "import sys\n",
    "import time"
   ]
  },
  {
   "cell_type": "code",
   "execution_count": 0,
   "metadata": {
    "colab": {},
    "colab_type": "code",
    "id": "jXoV1NMrmZ_W"
   },
   "outputs": [],
   "source": [
    "import matplotlib.pyplot as plt\n",
    "plt.ion()"
   ]
  },
  {
   "cell_type": "code",
   "execution_count": 4,
   "metadata": {
    "colab": {
     "base_uri": "https://localhost:8080/",
     "height": 34
    },
    "colab_type": "code",
    "executionInfo": {
     "elapsed": 5122,
     "status": "ok",
     "timestamp": 1567018961881,
     "user": {
      "displayName": "Filipe Lauar",
      "photoUrl": "",
      "userId": "12635237392329795619"
     },
     "user_tz": 180
    },
    "id": "wvXKEvBRmZ_Y",
    "outputId": "2e1bc1b4-56c6-4c43-9e9d-7bcf078a736d"
   },
   "outputs": [
    {
     "data": {
      "text/plain": [
       "gpu(0)"
      ]
     },
     "execution_count": 4,
     "metadata": {
      "tags": []
     },
     "output_type": "execute_result"
    }
   ],
   "source": [
    "# Tenta encontrar GPU\n",
    "def try_gpu():\n",
    "    try:\n",
    "        ctx = mx.gpu()\n",
    "        _ = nd.zeros((1,), ctx=ctx)\n",
    "    except mx.base.MXNetError:\n",
    "        ctx = mx.cpu()\n",
    "    return ctx\n",
    "\n",
    "ctx = try_gpu()\n",
    "ctx"
   ]
  },
  {
   "cell_type": "code",
   "execution_count": 0,
   "metadata": {
    "colab": {},
    "colab_type": "code",
    "id": "8oSVf8u1Oi1m"
   },
   "outputs": [],
   "source": [
    "# funções básicas\n",
    "\n",
    "def load_array(features, labels, batch_size, is_train=True):\n",
    "    \"\"\"Construct a Gluon data loader\"\"\"\n",
    "    dataset = gluon.data.ArrayDataset(features, labels)\n",
    "    return gluon.data.DataLoader(dataset, batch_size, shuffle=is_train)\n",
    "\n",
    "def _get_batch(batch, ctx):\n",
    "    \"\"\"Return features and labels on ctx.\"\"\"\n",
    "    features, labels = batch\n",
    "    if labels.dtype != features.dtype:\n",
    "        labels = labels.astype(features.dtype)\n",
    "    return (gutils.split_and_load(features, ctx),\n",
    "            gutils.split_and_load(labels, ctx), features.shape[0])\n",
    "\n",
    "# Função usada para calcular acurácia\n",
    "def evaluate_accuracy(data_iter, net, loss, ctx=[mx.cpu()]):\n",
    "    \"\"\"Evaluate accuracy of a model on the given data set.\"\"\"\n",
    "    if isinstance(ctx, mx.Context):\n",
    "        ctx = [ctx]\n",
    "    acc_sum, n, l = nd.array([0]), 0, 0\n",
    "    for batch in data_iter:\n",
    "        features, labels, _ = _get_batch(batch, ctx)\n",
    "        for X, y in zip(features, labels):\n",
    "            # X, y = X.as_in_context(ctx), y.as_in_context(ctx)\n",
    "            y = y.astype('float32')\n",
    "            y_hat = net(X)\n",
    "            l += loss(y_hat, y).sum()\n",
    "            acc_sum += (y_hat.argmax(axis=1) == y).sum().copyto(mx.cpu())\n",
    "            n += y.size\n",
    "        acc_sum.wait_to_read()\n",
    "    return acc_sum.asscalar() / n, l.asscalar() / n\n",
    "  \n",
    "# Função usada no treinamento e validação da rede\n",
    "def train_validate(net, train_iter, test_iter, batch_size, trainer, loss, ctx,\n",
    "                   num_epochs, type='regression'):\n",
    "    print('training on', ctx)\n",
    "    for epoch in range(num_epochs):\n",
    "        train_l_sum, train_acc_sum, n, start = 0.0, 0.0, 0, time.time()\n",
    "        for X, y in train_iter:\n",
    "            X, y = X.as_in_context(ctx), y.as_in_context(ctx)\n",
    "            with autograd.record():\n",
    "                y_hat = net(X)\n",
    "                l = loss(y_hat, y).sum()\n",
    "            l.backward()\n",
    "            trainer.step(batch_size)\n",
    "            y = y.astype('float32')\n",
    "            train_l_sum += l.asscalar()\n",
    "            train_acc_sum += (y_hat.argmax(axis=1) == y).sum().asscalar()\n",
    "            n += y.size\n",
    "        test_acc, test_loss = evaluate_accuracy(test_iter, net, loss, ctx)\n",
    "        if type == 'regression':\n",
    "          print('epoch %d, train loss %.4f, test loss %.4f, time %.1f sec'\n",
    "                % (epoch + 1, train_l_sum / n, test_loss, time.time() - start))\n",
    "        else:\n",
    "          print('epoch %d, train loss %.4f, train acc %.3f, test loss %.4f, '\n",
    "                'test acc %.3f, time %.1f sec'\n",
    "                % (epoch + 1, train_l_sum / n, train_acc_sum / n, test_loss, \n",
    "                   test_acc, time.time() - start))\n",
    "          \n",
    "# funcao usada para teste\n",
    "def test(net, test_iter):\n",
    "    print('testing on', ctx)\n",
    "    first = True\n",
    "    for X in test_iter:\n",
    "        X = X.as_in_context(ctx)\n",
    "        y_hat = net(X)\n",
    "        if first is True:\n",
    "          pred_logits = y_hat\n",
    "          pred_labels = y_hat.argmax(axis=1)\n",
    "          first = False\n",
    "        else:\n",
    "          pred_logits = nd.concat(pred_logits, y_hat, dim=0)\n",
    "          pred_labels = nd.concat(pred_labels, y_hat.argmax(axis=1), dim=0)\n",
    "\n",
    "    return pred_logits.asnumpy(), pred_labels.asnumpy()"
   ]
  },
  {
   "cell_type": "markdown",
   "metadata": {
    "colab_type": "text",
    "id": "Y0m-qic-0Wnl"
   },
   "source": [
    "## Problema 1\n",
    "\n",
    "Neste problema, você receberá 7 *features* extraídas de poços de petróleo ('BRCALI', 'BRDENS', 'BRDTP', 'BRGR', 'BRNEUT', 'BRRESC', 'BRRESP') e deve predizer o tipo de rocha."
   ]
  },
  {
   "cell_type": "markdown",
   "metadata": {
    "colab_type": "text",
    "id": "U64ACnJoGsDv"
   },
   "source": [
    "### Treino e Validação\n",
    "\n",
    "Primeiro, vamos modelar uma rede neural e treiná-la.\n",
    "Usamos o dado de treino carregado no próximo bloco para convergir o modelo e o dado de validação para avaliar quão bom ele estão. "
   ]
  },
  {
   "cell_type": "code",
   "execution_count": 7,
   "metadata": {
    "colab": {
     "base_uri": "https://localhost:8080/",
     "height": 742
    },
    "colab_type": "code",
    "executionInfo": {
     "elapsed": 5161,
     "status": "ok",
     "timestamp": 1567018977761,
     "user": {
      "displayName": "Filipe Lauar",
      "photoUrl": "",
      "userId": "12635237392329795619"
     },
     "user_tz": 180
    },
    "id": "AUYOPZYH0Ztc",
    "outputId": "450d4020-e290-4353-873a-124d4dedff18"
   },
   "outputs": [
    {
     "name": "stdout",
     "output_type": "stream",
     "text": [
      "--2019-08-28 19:02:53--  https://www.dropbox.com/s/6cevlspltthx52v/MAR-1_PBS.txt\n",
      "Resolving www.dropbox.com (www.dropbox.com)... 162.125.80.1, 2620:100:6030:1::a27d:5001\n",
      "Connecting to www.dropbox.com (www.dropbox.com)|162.125.80.1|:443... connected.\n",
      "HTTP request sent, awaiting response... 301 Moved Permanently\n",
      "Location: /s/raw/6cevlspltthx52v/MAR-1_PBS.txt [following]\n",
      "--2019-08-28 19:02:54--  https://www.dropbox.com/s/raw/6cevlspltthx52v/MAR-1_PBS.txt\n",
      "Reusing existing connection to www.dropbox.com:443.\n",
      "HTTP request sent, awaiting response... 302 Found\n",
      "Location: https://uc5ff5080a53c81326c195d2d44a.dl.dropboxusercontent.com/cd/0/inline/AniDu8_-E8LrGz1yd3GFd3ANRpg796psF_j_uaul2-tSQ1xKup74jDGvDvdgQcGa7OIoCoFt8jXcAsnmgdG2r9_2zUtXS4FFwUkXBznWxN3cuQ/file# [following]\n",
      "--2019-08-28 19:02:54--  https://uc5ff5080a53c81326c195d2d44a.dl.dropboxusercontent.com/cd/0/inline/AniDu8_-E8LrGz1yd3GFd3ANRpg796psF_j_uaul2-tSQ1xKup74jDGvDvdgQcGa7OIoCoFt8jXcAsnmgdG2r9_2zUtXS4FFwUkXBznWxN3cuQ/file\n",
      "Resolving uc5ff5080a53c81326c195d2d44a.dl.dropboxusercontent.com (uc5ff5080a53c81326c195d2d44a.dl.dropboxusercontent.com)... 162.125.80.6, 2620:100:6030:6::a27d:5006\n",
      "Connecting to uc5ff5080a53c81326c195d2d44a.dl.dropboxusercontent.com (uc5ff5080a53c81326c195d2d44a.dl.dropboxusercontent.com)|162.125.80.6|:443... connected.\n",
      "HTTP request sent, awaiting response... 200 OK\n",
      "Length: 4261 (4.2K) [text/plain]\n",
      "Saving to: ‘MAR-1_PBS.txt’\n",
      "\n",
      "MAR-1_PBS.txt       100%[===================>]   4.16K  --.-KB/s    in 0s      \n",
      "\n",
      "2019-08-28 19:02:54 (964 MB/s) - ‘MAR-1_PBS.txt’ saved [4261/4261]\n",
      "\n",
      "--2019-08-28 19:02:55--  https://www.dropbox.com/s/fdpjmppsvadlz9l/MAR_1_EDIT_las.txt\n",
      "Resolving www.dropbox.com (www.dropbox.com)... 162.125.80.1, 2620:100:6030:1::a27d:5001\n",
      "Connecting to www.dropbox.com (www.dropbox.com)|162.125.80.1|:443... connected.\n",
      "HTTP request sent, awaiting response... 301 Moved Permanently\n",
      "Location: /s/raw/fdpjmppsvadlz9l/MAR_1_EDIT_las.txt [following]\n",
      "--2019-08-28 19:02:55--  https://www.dropbox.com/s/raw/fdpjmppsvadlz9l/MAR_1_EDIT_las.txt\n",
      "Reusing existing connection to www.dropbox.com:443.\n",
      "HTTP request sent, awaiting response... 302 Found\n",
      "Location: https://ucdd6e26f13cecd1850b916ea4e5.dl.dropboxusercontent.com/cd/0/inline/AnjWsKwXiCmLYx6PV16G1jynyzV6OihGjBDIhoPs4Hv2j1Ly2mnjBxZJ2P8h1bg411ux7GvDxdk84aFPxCQMnfj-uu8y2ZUZGck5wk7d-OQ4cw/file# [following]\n",
      "--2019-08-28 19:02:56--  https://ucdd6e26f13cecd1850b916ea4e5.dl.dropboxusercontent.com/cd/0/inline/AnjWsKwXiCmLYx6PV16G1jynyzV6OihGjBDIhoPs4Hv2j1Ly2mnjBxZJ2P8h1bg411ux7GvDxdk84aFPxCQMnfj-uu8y2ZUZGck5wk7d-OQ4cw/file\n",
      "Resolving ucdd6e26f13cecd1850b916ea4e5.dl.dropboxusercontent.com (ucdd6e26f13cecd1850b916ea4e5.dl.dropboxusercontent.com)... 162.125.80.6, 2620:100:6030:6::a27d:5006\n",
      "Connecting to ucdd6e26f13cecd1850b916ea4e5.dl.dropboxusercontent.com (ucdd6e26f13cecd1850b916ea4e5.dl.dropboxusercontent.com)|162.125.80.6|:443... connected.\n",
      "HTTP request sent, awaiting response... 200 OK\n",
      "Length: 25216 (25K) [text/plain]\n",
      "Saving to: ‘MAR_1_EDIT_las.txt’\n",
      "\n",
      "MAR_1_EDIT_las.txt  100%[===================>]  24.62K  --.-KB/s    in 0.001s  \n",
      "\n",
      "2019-08-28 19:02:56 (18.9 MB/s) - ‘MAR_1_EDIT_las.txt’ saved [25216/25216]\n",
      "\n",
      "(128, 12)\n",
      "(128,)\n"
     ]
    }
   ],
   "source": [
    "# download do dataset\n",
    "!wget https://www.dropbox.com/s/6cevlspltthx52v/MAR-1_PBS.txt\n",
    "!wget https://www.dropbox.com/s/fdpjmppsvadlz9l/MAR_1_EDIT_las.txt\n",
    "\n",
    "X = np.loadtxt('MAR_1_EDIT_las.txt', skiprows=0, usecols=(1,2,3,4,5,6,7,8,9,10,11,12), dtype=np.float32)\n",
    "y = np.loadtxt('MAR-1_PBS.txt', skiprows=0, usecols=1, dtype=np.float32)\n",
    "\n",
    "print(X.shape)\n",
    "print(y.shape)\n",
    "\n",
    "train_features, test_features, train_labels, test_labels = train_test_split(X, y, test_size=0.2, random_state=42)\n",
    "\n",
    "def load_array(features, labels, batch_size, is_train=True):\n",
    "    \"\"\"Construct a Gluon data loader\"\"\"\n",
    "    dataset = gluon.data.ArrayDataset(features, labels)\n",
    "    return gluon.data.DataLoader(dataset, batch_size, shuffle=is_train)\n",
    "  \n",
    "batch_size = 10\n",
    "train_iter = load_array(train_features, train_labels, batch_size)\n",
    "test_iter = load_array(test_features, test_labels, batch_size, False)"
   ]
  },
  {
   "cell_type": "code",
   "execution_count": 43,
   "metadata": {
    "colab": {
     "base_uri": "https://localhost:8080/",
     "height": 554
    },
    "colab_type": "code",
    "executionInfo": {
     "elapsed": 1564,
     "status": "ok",
     "timestamp": 1567019810373,
     "user": {
      "displayName": "Filipe Lauar",
      "photoUrl": "",
      "userId": "12635237392329795619"
     },
     "user_tz": 180
    },
    "id": "jOR8G7pDnjO6",
    "outputId": "7186266d-034f-41d2-dc30-0c12ea3f034a"
   },
   "outputs": [
    {
     "name": "stdout",
     "output_type": "stream",
     "text": [
      "<mxnet.gluon.data.dataloader.DataLoader object at 0x7fb4a61f1c50>\n",
      "training on gpu(0)\n",
      "epoch 1, train loss 2.1171, test loss 1.4938, time 0.0 sec\n",
      "epoch 2, train loss 1.5951, test loss 2.0530, time 0.0 sec\n",
      "epoch 3, train loss 1.5578, test loss 1.4885, time 0.0 sec\n",
      "epoch 4, train loss 1.5115, test loss 1.3096, time 0.0 sec\n",
      "epoch 5, train loss 1.3428, test loss 1.4539, time 0.0 sec\n",
      "epoch 6, train loss 1.2409, test loss 1.3264, time 0.0 sec\n",
      "epoch 7, train loss 1.3717, test loss 1.3462, time 0.0 sec\n",
      "epoch 8, train loss 1.5592, test loss 1.2852, time 0.0 sec\n",
      "epoch 9, train loss 1.1725, test loss 1.2427, time 0.0 sec\n",
      "epoch 10, train loss 1.3295, test loss 1.4969, time 0.0 sec\n",
      "epoch 11, train loss 1.6717, test loss 1.4454, time 0.0 sec\n",
      "epoch 12, train loss 1.2797, test loss 1.3347, time 0.0 sec\n",
      "epoch 13, train loss 1.1893, test loss 1.2351, time 0.0 sec\n",
      "epoch 14, train loss 1.1537, test loss 1.2681, time 0.0 sec\n",
      "epoch 15, train loss 1.1372, test loss 1.3346, time 0.0 sec\n",
      "epoch 16, train loss 1.2434, test loss 1.3303, time 0.0 sec\n",
      "epoch 17, train loss 1.3743, test loss 1.1709, time 0.0 sec\n",
      "epoch 18, train loss 1.1937, test loss 1.6354, time 0.0 sec\n",
      "epoch 19, train loss 1.1670, test loss 1.1829, time 0.0 sec\n",
      "epoch 20, train loss 1.0930, test loss 1.2461, time 0.0 sec\n",
      "epoch 21, train loss 1.0410, test loss 1.2646, time 0.0 sec\n",
      "epoch 22, train loss 1.2022, test loss 1.1861, time 0.0 sec\n",
      "epoch 23, train loss 1.1702, test loss 1.3845, time 0.0 sec\n",
      "epoch 24, train loss 1.1024, test loss 1.0963, time 0.0 sec\n",
      "epoch 25, train loss 1.0502, test loss 1.2916, time 0.0 sec\n",
      "epoch 26, train loss 1.0811, test loss 1.4609, time 0.0 sec\n",
      "epoch 27, train loss 1.1944, test loss 1.3038, time 0.0 sec\n",
      "epoch 28, train loss 1.0574, test loss 1.1260, time 0.0 sec\n",
      "epoch 29, train loss 1.1594, test loss 1.1602, time 0.0 sec\n",
      "epoch 30, train loss 1.1598, test loss 1.1746, time 0.0 sec\n"
     ]
    }
   ],
   "source": [
    "num_epochs, lr, batch_size = 30, 0.5, 256\n",
    "\n",
    "# rede simples somente com perceptrons e camadas densamente conectadas\n",
    "net = nn.Sequential()\n",
    "net.add(nn.Dense(256, activation=\"relu\"),\n",
    "        nn.Dense(128, activation=\"relu\"),\n",
    "        nn.Dense(64, activation=\"relu\"),\n",
    "        nn.Dense(10))\n",
    "net.initialize(init.Normal(sigma=0.01), ctx=ctx)\n",
    "\n",
    "# função de custo (ou loss)\n",
    "loss = gloss.SoftmaxCrossEntropyLoss()\n",
    "\n",
    "# trainer do gluon\n",
    "trainer = gluon.Trainer(net.collect_params(), 'sgd', {'learning_rate': lr})\n",
    "\n",
    "# treinamento e validação via MXNet\n",
    "train_validate(net, train_iter, test_iter, batch_size, trainer, loss, \n",
    "               ctx, num_epochs)"
   ]
  }
 ],
 "metadata": {
  "accelerator": "GPU",
  "colab": {
   "collapsed_sections": [
    "Pd8hG7HCDUib",
    "IDaRVNq1aMpm"
   ],
   "name": "Copy of 04.1 - Problemas_v2.ipynb",
   "provenance": [
    {
     "file_id": "https://github.com/deep-ufmg/praticas/blob/master/02-Modulo/04.1%20-%20Problemas.ipynb",
     "timestamp": 1567018832159
    }
   ],
   "version": "0.3.2"
  },
  "kernelspec": {
   "display_name": "Python 3",
   "language": "python",
   "name": "python3"
  },
  "language_info": {
   "codemirror_mode": {
    "name": "ipython",
    "version": 3
   },
   "file_extension": ".py",
   "mimetype": "text/x-python",
   "name": "python",
   "nbconvert_exporter": "python",
   "pygments_lexer": "ipython3",
   "version": "3.8.5"
  },
  "varInspector": {
   "cols": {
    "lenName": 16,
    "lenType": 16,
    "lenVar": 40
   },
   "kernels_config": {
    "python": {
     "delete_cmd_postfix": "",
     "delete_cmd_prefix": "del ",
     "library": "var_list.py",
     "varRefreshCmd": "print(var_dic_list())"
    },
    "r": {
     "delete_cmd_postfix": ") ",
     "delete_cmd_prefix": "rm(",
     "library": "var_list.r",
     "varRefreshCmd": "cat(var_dic_list()) "
    }
   },
   "types_to_exclude": [
    "module",
    "function",
    "builtin_function_or_method",
    "instance",
    "_Feature"
   ],
   "window_display": false
  }
 },
 "nbformat": 4,
 "nbformat_minor": 1
}
