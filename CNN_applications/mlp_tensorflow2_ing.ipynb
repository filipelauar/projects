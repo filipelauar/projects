{
 "cells": [
  {
   "cell_type": "markdown",
   "metadata": {
    "id": "iafPdtuncbq7"
   },
   "source": [
    "<h1><center>MNIST classification using Keras<center></h1>\n",
    "\n",
    "***Students***\n",
    "\n",
    "Bernardo Torres\n",
    "\n",
    "Filipe Lauar"
   ]
  },
  {
   "cell_type": "markdown",
   "metadata": {
    "id": "I4VrCB5La5rD"
   },
   "source": [
    "# Importing Keras"
   ]
  },
  {
   "cell_type": "code",
   "execution_count": null,
   "metadata": {
    "colab": {
     "base_uri": "https://localhost:8080/"
    },
    "id": "OlKZ3Hnas7B4",
    "outputId": "43c04eb5-476d-4e71-b4ea-0c0b232c1da8"
   },
   "outputs": [
    {
     "name": "stdout",
     "output_type": "stream",
     "text": [
      "Using tensorflow version 2.4.1\n",
      "Using keras version 2.4.3\n"
     ]
    }
   ],
   "source": [
    "# Importing the Keras main module forcing tensorflow 1.x backend\n",
    "import tensorflow as tf\n",
    "import keras\n",
    "print(\"Using tensorflow version \" + str(tf.__version__))\n",
    "print(\"Using keras version \" + str(keras.__version__))"
   ]
  },
  {
   "cell_type": "markdown",
   "metadata": {
    "id": "s_QLz9_jbRZq"
   },
   "source": [
    "## Loading and preparing the MNIST dataset\n",
    "\n",
    "Again, load the dataset via ```keras.datasets```, turn train and test labels into one-hot encoding, and reshape and normalize data as in the first exercise. "
   ]
  },
  {
   "cell_type": "code",
   "execution_count": null,
   "metadata": {
    "cellView": "both",
    "id": "gG83hGyVmijn"
   },
   "outputs": [],
   "source": [
    "from keras.datasets import mnist\n",
    "\n",
    "(X_train, y_train),(X_test, y_test) = mnist.load_data()"
   ]
  },
  {
   "cell_type": "code",
   "execution_count": null,
   "metadata": {
    "id": "lQbkllF8mnaf"
   },
   "outputs": [],
   "source": [
    "from keras.utils.np_utils import to_categorical\n",
    "\n",
    "Y_train = to_categorical(y_train)\n",
    "Y_test = to_categorical(y_test)"
   ]
  },
  {
   "cell_type": "code",
   "execution_count": null,
   "metadata": {
    "id": "ptTRSDo5nJyZ"
   },
   "outputs": [],
   "source": [
    "# Reshape to proper images with 1 color channel according to backend scheme\n",
    "img_rows, img_cols = X_train.shape[1], X_train.shape[2]\n",
    "\n",
    "X_train = X_train.reshape((X_train.shape[0],img_rows*img_cols))\n",
    "X_test = X_test.reshape((X_test.shape[0],img_rows*img_cols))\n",
    "\n",
    "\n",
    "# Cast pixels from uint8 to float32\n",
    "X_train = X_train.astype('float32')\n",
    "X_test = X_test.astype('float32')\n",
    "\n",
    "# Now let us normalize the images so that they have zero mean and standard deviation\n",
    "# Hint: are real testing data statistics known at training time ?\n",
    "\n",
    "mean = X_train.mean()\n",
    "sd = X_train.std()\n",
    "\n",
    "#x_train = (X_train - mean)/(sd + 0.0000001)\n",
    "#X_test = (X_test - mean)/(sd + 0.0000001)\n",
    "\n",
    "\n"
   ]
  },
  {
   "cell_type": "markdown",
   "metadata": {
    "id": "lnKYaP-KVoOs"
   },
   "source": [
    "## Defining the neural network architecture (i.e., the network model)\n",
    "\n",
    "You can take a look at this [cheatsheet](https://s3.amazonaws.com/assets.datacamp.com/blog_assets/Keras_Cheat_Sheet_Python.pdf) for some basic commands to use keras.\n",
    "\n",
    "First, try to replicate the classifier of the first exercise. Secondly, create a fully connected network.\n",
    "For the fully connected layer, you can for example use this architecture: \n",
    "$$ (784) \\rightarrow (300) \\rightarrow (10) $$\n",
    "For this first implementation of the network, use only sigmoid activations in the hidden layer. Remember to use the right output activation function ! "
   ]
  },
  {
   "cell_type": "code",
   "execution_count": null,
   "metadata": {
    "id": "Pnd3q1V3nk8v"
   },
   "outputs": [],
   "source": [
    "# The Sequential module is a container for more complex NN elements and\n",
    "# defines a loop-less NN architecture\n",
    "from keras.models import Sequential\n",
    "from keras.layers import Dense, Activation, Flatten\n",
    "\n",
    "\n",
    "# START CODE HERE\n",
    "input_shape = 784\n",
    "hidden_1 = 300\n",
    "output_shape = 10\n",
    "\n",
    "\n",
    "#Classifier of the first exercise\n",
    "first_model = Sequential()\n",
    "first_model.add(Dense(10, activation='softmax', input_shape=(input_shape, )))\n",
    "\n",
    "model = Sequential()\n",
    "model.add(Dense(hidden_1,input_shape=(input_shape,),activation='sigmoid'))\n",
    "model.add(Dense(output_shape,input_shape=(hidden_1,),activation='sigmoid'))\n",
    "\n",
    "# END CODE HERE"
   ]
  },
  {
   "cell_type": "markdown",
   "metadata": {
    "id": "7g2PNEiwWBLw"
   },
   "source": [
    "Instantiate a SGD optimizer with a tentative learning rate of $\\\\eta = 10^{-2}$ and, using the appropriate loss function (which is called, in keras, ```'categorical_crossentropy'```) and compile the model."
   ]
  },
  {
   "cell_type": "code",
   "execution_count": null,
   "metadata": {
    "colab": {
     "base_uri": "https://localhost:8080/"
    },
    "id": "SijGZGKjV9J2",
    "outputId": "908aeea2-7aa8-4fe1-b717-92312849810e"
   },
   "outputs": [
    {
     "name": "stdout",
     "output_type": "stream",
     "text": [
      "Model: \"sequential_1\"\n",
      "_________________________________________________________________\n",
      "Layer (type)                 Output Shape              Param #   \n",
      "=================================================================\n",
      "dense_1 (Dense)              (None, 300)               235500    \n",
      "_________________________________________________________________\n",
      "dense_2 (Dense)              (None, 10)                3010      \n",
      "=================================================================\n",
      "Total params: 238,510\n",
      "Trainable params: 238,510\n",
      "Non-trainable params: 0\n",
      "_________________________________________________________________\n"
     ]
    }
   ],
   "source": [
    "# The optimizers module provides a number of optimization algorithms for updating\n",
    "# a netwok parameters accoridng to the computed error gradints\n",
    "from keras import optimizers\n",
    "\n",
    "eta = 0.01\n",
    "\n",
    "optim = optimizers.SGD(lr = eta)\n",
    "\n",
    "model.compile(loss='categorical_crossentropy', optimizer=optim, metrics=[\"accuracy\"])\n",
    "\n",
    "\n",
    "\n",
    "# END CODE HERE\n",
    "# We can now have a look at the defined model topology\n",
    "model.summary()"
   ]
  },
  {
   "cell_type": "markdown",
   "metadata": {
    "id": "u-WqMtSAWTRp"
   },
   "source": [
    "## Training the network\n",
    "\n",
    "Train the model for 10 epochs using the ```.fit()``` method, validating the model at each epoch and keeping track of the training history for later plotting. Make sure you enable ```.fit()``` verbose mode in order to visualize the training.\n",
    "\n",
    "In order to accelerate training, use the ```batch_size``` option of ```.fit()```, which will process a batch of examples at the same time, and make one update for all of them, averaged over the gradients for each training example of the batch. You can begin with a small size, and experiment with a larger size later."
   ]
  },
  {
   "cell_type": "code",
   "execution_count": null,
   "metadata": {
    "colab": {
     "base_uri": "https://localhost:8080/"
    },
    "id": "gTHrbb7uFYWz",
    "outputId": "3bd23865-1b06-43d3-9815-01bf77d77873"
   },
   "outputs": [
    {
     "name": "stdout",
     "output_type": "stream",
     "text": [
      "Training\n",
      "Epoch 1/10\n",
      "938/938 [==============================] - 6s 3ms/step - loss: 0.9353 - accuracy: 0.7510 - val_loss: 0.3629 - val_accuracy: 0.9048\n",
      "Epoch 2/10\n",
      "938/938 [==============================] - 2s 2ms/step - loss: 0.3475 - accuracy: 0.9066 - val_loss: 0.2883 - val_accuracy: 0.9225\n",
      "Epoch 3/10\n",
      "938/938 [==============================] - 2s 2ms/step - loss: 0.2813 - accuracy: 0.9247 - val_loss: 0.2550 - val_accuracy: 0.9297\n",
      "Epoch 4/10\n",
      "938/938 [==============================] - 2s 2ms/step - loss: 0.2417 - accuracy: 0.9342 - val_loss: 0.2293 - val_accuracy: 0.9364\n",
      "Epoch 5/10\n",
      "938/938 [==============================] - 2s 2ms/step - loss: 0.2173 - accuracy: 0.9409 - val_loss: 0.2140 - val_accuracy: 0.9397\n",
      "Epoch 6/10\n",
      "938/938 [==============================] - 2s 2ms/step - loss: 0.2071 - accuracy: 0.9429 - val_loss: 0.2026 - val_accuracy: 0.9426\n",
      "Epoch 7/10\n",
      "938/938 [==============================] - 2s 2ms/step - loss: 0.1907 - accuracy: 0.9476 - val_loss: 0.1908 - val_accuracy: 0.9450\n",
      "Epoch 8/10\n",
      "938/938 [==============================] - 2s 2ms/step - loss: 0.1747 - accuracy: 0.9521 - val_loss: 0.1819 - val_accuracy: 0.9489\n",
      "Epoch 9/10\n",
      "938/938 [==============================] - 2s 3ms/step - loss: 0.1701 - accuracy: 0.9530 - val_loss: 0.1782 - val_accuracy: 0.9488\n",
      "Epoch 10/10\n",
      "938/938 [==============================] - 2s 2ms/step - loss: 0.1595 - accuracy: 0.9562 - val_loss: 0.1725 - val_accuracy: 0.9511\n"
     ]
    }
   ],
   "source": [
    "# This is where the actual training-testing happens\n",
    "# Number of epochs we want to train\n",
    "epochs = 10\n",
    "\n",
    "# START CODE HERE\n",
    "batch_size = 64\n",
    "\n",
    "print('Training')\n",
    "history = model.fit(X_train, Y_train, epochs=epochs, batch_size=batch_size, validation_data = (X_test, Y_test))  \n",
    "\n",
    "# END CODE HERE"
   ]
  },
  {
   "cell_type": "markdown",
   "metadata": {
    "id": "fX9ay9LjkLD4"
   },
   "source": [
    "We can see that the network performed pretty well on the training set but not that well on the testing set. It seems to have occured an overfitting."
   ]
  },
  {
   "cell_type": "markdown",
   "metadata": {
    "id": "ODUc5Bq_dMEq"
   },
   "source": [
    "## Visualizing the network performance\n",
    "\n",
    "Visualize the training history using the ```pyplot``` package:\n",
    "- In one graph, plot the train and vaidation loss functions,\n",
    "- In another graph, the train and validation accuracy.\n",
    "By comparing the training the testing curves, what can we conclude about the quality of the training ?"
   ]
  },
  {
   "cell_type": "code",
   "execution_count": null,
   "metadata": {
    "id": "OAl6oMAZnIgm"
   },
   "outputs": [],
   "source": [
    "import matplotlib.pyplot as plt"
   ]
  },
  {
   "cell_type": "code",
   "execution_count": null,
   "metadata": {
    "colab": {
     "base_uri": "https://localhost:8080/",
     "height": 590
    },
    "id": "QdJrRbyariEw",
    "outputId": "8746bbab-87ec-4373-d0d7-65d9d5826e61"
   },
   "outputs": [
    {
     "name": "stdout",
     "output_type": "stream",
     "text": [
      "dict_keys(['loss', 'accuracy', 'val_loss', 'val_accuracy'])\n"
     ]
    },
    {
     "data": {
      "image/png": "[encoded data removed]",
      "text/plain": [
       "<Figure size 432x288 with 1 Axes>"
      ]
     },
     "metadata": {
      "needs_background": "light",
      "tags": []
     },
     "output_type": "display_data"
    },
    {
     "data": {
      "image/png": "[encoded data removed]",
      "text/plain": [
       "<Figure size 432x288 with 1 Axes>"
      ]
     },
     "metadata": {
      "needs_background": "light",
      "tags": []
     },
     "output_type": "display_data"
    }
   ],
   "source": [
    "# We now want to plot the train and validation loss functions and accuracy curves\n",
    "print(history.history.keys())\n",
    "\n",
    "# summarize history for loss\n",
    "# START CODE HERE\n",
    "plt.plot(history.history['loss'])\n",
    "plt.plot(history.history['val_loss'])\n",
    "plt.title('model loss')\n",
    "plt.ylabel('loss')\n",
    "plt.xlabel('epoch')\n",
    "plt.legend(['train', 'test'], loc='upper left')\n",
    "# END CODE HERE\n",
    "plt.show()\n",
    "\n",
    "# summarize history for accuracy\n",
    "# START CODE HERE\n",
    "plt.plot(history.history['accuracy'])\n",
    "plt.plot(history.history['val_accuracy'])\n",
    "plt.title('model accuracy')\n",
    "plt.ylabel('accuracy')\n",
    "plt.xlabel('epoch')\n",
    "plt.legend(['train', 'test'], loc='upper left')\n",
    "# END CODE HERE\n",
    "plt.show()\n"
   ]
  },
  {
   "cell_type": "markdown",
   "metadata": {
    "id": "Nr4TdWoEoDzi"
   },
   "source": [
    "## Experiments\n",
    "\n",
    "Note down the performance of the larger network in terms of training and validation accuracy as a reference (save the loss/accuracy graphs of the network).\n",
    "\n",
    "Then, experiment as follow and compare performance with the reference scenario:\n",
    "\n",
    "*  Experiment increasing the size of the batch and compare the performance with reference.\n",
    "*  Experiment replacing the sigmoid activations with Relus and note what happens.\n",
    "*  Experiment with a larger architecture, for example: \n",
    "$$ (784) \\rightarrow (300) \\rightarrow (128) \\rightarrow (84) \\rightarrow (10) $$"
   ]
  },
  {
   "cell_type": "code",
   "execution_count": null,
   "metadata": {
    "colab": {
     "base_uri": "https://localhost:8080/"
    },
    "id": "2IkuUNp7AbPc",
    "outputId": "3e7ea0ad-8a6d-4c46-a56d-b78f5b412dc3"
   },
   "outputs": [
    {
     "name": "stdout",
     "output_type": "stream",
     "text": [
      "Training\n",
      "Epoch 1/10\n",
      "469/469 [==============================] - 2s 3ms/step - loss: 37.2102 - accuracy: 0.6823 - val_loss: 0.3724 - val_accuracy: 0.8891\n",
      "Epoch 2/10\n",
      "469/469 [==============================] - 1s 3ms/step - loss: 0.3237 - accuracy: 0.9097 - val_loss: 0.2786 - val_accuracy: 0.9223\n",
      "Epoch 3/10\n",
      "469/469 [==============================] - 1s 3ms/step - loss: 0.2505 - accuracy: 0.9285 - val_loss: 0.2333 - val_accuracy: 0.9392\n",
      "Epoch 4/10\n",
      "469/469 [==============================] - 1s 3ms/step - loss: 0.2344 - accuracy: 0.9355 - val_loss: 0.2773 - val_accuracy: 0.9223\n",
      "Epoch 5/10\n",
      "469/469 [==============================] - 1s 3ms/step - loss: 0.2069 - accuracy: 0.9426 - val_loss: 0.2332 - val_accuracy: 0.9405\n",
      "Epoch 6/10\n",
      "469/469 [==============================] - 1s 3ms/step - loss: 0.2121 - accuracy: 0.9413 - val_loss: 0.2159 - val_accuracy: 0.9425\n",
      "Epoch 7/10\n",
      "469/469 [==============================] - 1s 3ms/step - loss: 0.1943 - accuracy: 0.9467 - val_loss: 0.2217 - val_accuracy: 0.9407\n",
      "Epoch 8/10\n",
      "469/469 [==============================] - 1s 3ms/step - loss: 0.1779 - accuracy: 0.9498 - val_loss: 0.2109 - val_accuracy: 0.9460\n",
      "Epoch 9/10\n",
      "469/469 [==============================] - 1s 3ms/step - loss: 0.1917 - accuracy: 0.9489 - val_loss: 0.2462 - val_accuracy: 0.9396\n",
      "Epoch 10/10\n",
      "469/469 [==============================] - 1s 3ms/step - loss: 0.2103 - accuracy: 0.9470 - val_loss: 0.2136 - val_accuracy: 0.9502\n"
     ]
    }
   ],
   "source": [
    "# The Sequential module is a container for more complex NN elements and\n",
    "# defines a loop-less NN architecture\n",
    "\n",
    "input_shape = 784\n",
    "hidden_1 = 300\n",
    "hidden_2 = 128\n",
    "hidden_3 = 84\n",
    "output_shape = 10\n",
    "\n",
    "model2 = Sequential()\n",
    "model2.add(Dense(hidden_1,input_shape=(input_shape,),activation='relu'))\n",
    "model2.add(Dense(hidden_2,input_shape=(hidden_1,),activation='relu'))\n",
    "model2.add(Dense(hidden_3,input_shape=(hidden_2,),activation='relu'))\n",
    "model2.add(Dense(output_shape,input_shape=(hidden_3,),activation='sigmoid'))\n",
    "\n",
    "epochs = 10\n",
    "\n",
    "# START CODE HERE\n",
    "batch_size = 128\n",
    "\n",
    "eta = 0.01\n",
    "\n",
    "learning_rate = 0.01\n",
    "model2.compile(loss='categorical_crossentropy', optimizer=optimizers.Adam(lr = eta), metrics=[\"accuracy\"])\n",
    "\n",
    "print('Training')\n",
    "history = model2.fit(X_train, Y_train, epochs=epochs, batch_size=batch_size, validation_data = (X_test, Y_test))  "
   ]
  },
  {
   "cell_type": "code",
   "execution_count": null,
   "metadata": {
    "colab": {
     "base_uri": "https://localhost:8080/",
     "height": 590
    },
    "id": "1a-HP0zaA3ja",
    "outputId": "eda44d91-b746-4065-9b6d-17e9514aae14"
   },
   "outputs": [
    {
     "name": "stdout",
     "output_type": "stream",
     "text": [
      "dict_keys(['loss', 'accuracy', 'val_loss', 'val_accuracy'])\n"
     ]
    },
    {
     "data": {
      "image/png": "[encoded data removed]",
      "text/plain": [
       "<Figure size 432x288 with 1 Axes>"
      ]
     },
     "metadata": {
      "needs_background": "light",
      "tags": []
     },
     "output_type": "display_data"
    },
    {
     "data": {
      "image/png": "[encoded data removed]",
      "text/plain": [
       "<Figure size 432x288 with 1 Axes>"
      ]
     },
     "metadata": {
      "needs_background": "light",
      "tags": []
     },
     "output_type": "display_data"
    }
   ],
   "source": [
    "# We now want to plot the train and validation loss functions and accuracy curves\n",
    "print(history.history.keys())\n",
    "\n",
    "# summarize history for loss\n",
    "# START CODE HERE\n",
    "plt.plot(history.history['loss'])\n",
    "plt.plot(history.history['val_loss'])\n",
    "plt.title('model loss')\n",
    "plt.ylabel('loss')\n",
    "plt.xlabel('epoch')\n",
    "plt.legend(['train', 'test'], loc='upper left')\n",
    "# END CODE HERE\n",
    "plt.show()\n",
    "\n",
    "# summarize history for accuracy\n",
    "# START CODE HERE\n",
    "plt.plot(history.history['accuracy'])\n",
    "plt.plot(history.history['val_accuracy'])\n",
    "plt.title('model accuracy')\n",
    "plt.ylabel('accuracy')\n",
    "plt.xlabel('epoch')\n",
    "plt.legend(['train', 'test'], loc='upper left')\n",
    "# END CODE HERE\n",
    "plt.show()\n"
   ]
  },
  {
   "cell_type": "markdown",
   "metadata": {
    "id": "3S7R0Z6xDweQ"
   },
   "source": [
    "We can't really say that with this bigger architecture, increasing the batch size and using relu as activation function we were able to improve the results. The results were better using the first architecture and were also more stable on training."
   ]
  },
  {
   "cell_type": "code",
   "execution_count": null,
   "metadata": {
    "colab": {
     "base_uri": "https://localhost:8080/"
    },
    "id": "elIN6yrZEiFA",
    "outputId": "1028490c-49a6-4472-f364-722c564a422e"
   },
   "outputs": [
    {
     "name": "stdout",
     "output_type": "stream",
     "text": [
      "Training\n",
      "Epoch 1/10\n",
      "469/469 [==============================] - 3s 5ms/step - loss: 0.3110 - accuracy: 0.9055 - val_loss: 0.1422 - val_accuracy: 0.9575\n",
      "Epoch 2/10\n",
      "469/469 [==============================] - 2s 4ms/step - loss: 0.1052 - accuracy: 0.9667 - val_loss: 0.1157 - val_accuracy: 0.9645\n",
      "Epoch 3/10\n",
      "469/469 [==============================] - 2s 4ms/step - loss: 0.0747 - accuracy: 0.9768 - val_loss: 0.1250 - val_accuracy: 0.9662\n",
      "Epoch 4/10\n",
      "469/469 [==============================] - 2s 4ms/step - loss: 0.0613 - accuracy: 0.9800 - val_loss: 0.1008 - val_accuracy: 0.9720\n",
      "Epoch 5/10\n",
      "469/469 [==============================] - 2s 4ms/step - loss: 0.0514 - accuracy: 0.9838 - val_loss: 0.0919 - val_accuracy: 0.9736\n",
      "Epoch 6/10\n",
      "469/469 [==============================] - 2s 4ms/step - loss: 0.0427 - accuracy: 0.9859 - val_loss: 0.0831 - val_accuracy: 0.9762\n",
      "Epoch 7/10\n",
      "469/469 [==============================] - 2s 5ms/step - loss: 0.0402 - accuracy: 0.9869 - val_loss: 0.0987 - val_accuracy: 0.9738\n",
      "Epoch 8/10\n",
      "469/469 [==============================] - 2s 4ms/step - loss: 0.0367 - accuracy: 0.9877 - val_loss: 0.0871 - val_accuracy: 0.9756\n",
      "Epoch 9/10\n",
      "469/469 [==============================] - 2s 4ms/step - loss: 0.0312 - accuracy: 0.9900 - val_loss: 0.0983 - val_accuracy: 0.9738\n",
      "Epoch 10/10\n",
      "469/469 [==============================] - 2s 4ms/step - loss: 0.0314 - accuracy: 0.9888 - val_loss: 0.0844 - val_accuracy: 0.9791\n"
     ]
    }
   ],
   "source": [
    "from tensorflow.keras.layers import BatchNormalization\n",
    "\n",
    "# The Sequential module is a container for more complex NN elements and\n",
    "# defines a loop-less NN architecture\n",
    "\n",
    "input_shape = 784\n",
    "hidden_1 = 300\n",
    "hidden_2 = 128\n",
    "hidden_3 = 84\n",
    "output_shape = 10\n",
    "\n",
    "model3 = Sequential()\n",
    "model3.add(Dense(hidden_1,input_shape=(input_shape,),activation='relu'))\n",
    "model3.add(BatchNormalization())\n",
    "model3.add(Dense(hidden_2,input_shape=(hidden_1,),activation='relu'))\n",
    "model3.add(BatchNormalization())\n",
    "model3.add(Dense(hidden_3,input_shape=(hidden_2,),activation='relu'))\n",
    "model3.add(BatchNormalization())\n",
    "model3.add(Dense(output_shape,input_shape=(hidden_3,),activation='sigmoid'))\n",
    "\n",
    "epochs = 10\n",
    "\n",
    "# START CODE HERE\n",
    "batch_size = 128\n",
    "\n",
    "eta = 0.01\n",
    "\n",
    "learning_rate = 0.01\n",
    "model3.compile(loss='categorical_crossentropy', optimizer=optimizers.Adam(lr = eta), metrics=[\"accuracy\"])\n",
    "\n",
    "print('Training')\n",
    "history = model3.fit(X_train, Y_train, epochs=epochs, batch_size=batch_size, validation_data = (X_test, Y_test))  "
   ]
  },
  {
   "cell_type": "code",
   "execution_count": null,
   "metadata": {
    "colab": {
     "base_uri": "https://localhost:8080/",
     "height": 590
    },
    "id": "ISiWfargEk_n",
    "outputId": "66896e45-c82d-4baa-9208-263d6fbfd314"
   },
   "outputs": [
    {
     "name": "stdout",
     "output_type": "stream",
     "text": [
      "dict_keys(['loss', 'accuracy', 'val_loss', 'val_accuracy'])\n"
     ]
    },
    {
     "data": {
      "image/png": "[encoded data removed]",
      "text/plain": [
       "<Figure size 432x288 with 1 Axes>"
      ]
     },
     "metadata": {
      "needs_background": "light",
      "tags": []
     },
     "output_type": "display_data"
    },
    {
     "data": {
      "image/png": "[encoded data removed]",
      "text/plain": [
       "<Figure size 432x288 with 1 Axes>"
      ]
     },
     "metadata": {
      "needs_background": "light",
      "tags": []
     },
     "output_type": "display_data"
    }
   ],
   "source": [
    "# We now want to plot the train and validation loss functions and accuracy curves\n",
    "print(history.history.keys())\n",
    "\n",
    "# summarize history for loss\n",
    "# START CODE HERE\n",
    "plt.plot(history.history['loss'])\n",
    "plt.plot(history.history['val_loss'])\n",
    "plt.title('model loss')\n",
    "plt.ylabel('loss')\n",
    "plt.xlabel('epoch')\n",
    "plt.legend(['train', 'test'], loc='upper left')\n",
    "# END CODE HERE\n",
    "plt.show()\n",
    "\n",
    "# summarize history for accuracy\n",
    "# START CODE HERE\n",
    "plt.plot(history.history['accuracy'])\n",
    "plt.plot(history.history['val_accuracy'])\n",
    "plt.title('model accuracy')\n",
    "plt.ylabel('accuracy')\n",
    "plt.xlabel('epoch')\n",
    "plt.legend(['train', 'test'], loc='upper left')\n",
    "# END CODE HERE\n",
    "plt.show()\n"
   ]
  },
  {
   "cell_type": "markdown",
   "metadata": {
    "id": "tLdIFMNiFZ4v"
   },
   "source": [
    "Something that I thought that could work and really did was to use batch normalisation inbetween the layers. With the same architecture but now with the batch norm, I improved the training accuracy in 4.5% and the validation accuracy (test set) in 3.25%."
   ]
  }
 ],
 "metadata": {
  "accelerator": "GPU",
  "colab": {
   "collapsed_sections": [],
   "name": "Ex2_filipe_lauar.ipynb",
   "provenance": []
  },
  "kernelspec": {
   "display_name": "Python 3",
   "language": "python",
   "name": "python3"
  },
  "language_info": {
   "codemirror_mode": {
    "name": "ipython",
    "version": 3
   },
   "file_extension": ".py",
   "mimetype": "text/x-python",
   "name": "python",
   "nbconvert_exporter": "python",
   "pygments_lexer": "ipython3",
   "version": "3.8.5"
  },
  "varInspector": {
   "cols": {
    "lenName": 16,
    "lenType": 16,
    "lenVar": 40
   },
   "kernels_config": {
    "python": {
     "delete_cmd_postfix": "",
     "delete_cmd_prefix": "del ",
     "library": "var_list.py",
     "varRefreshCmd": "print(var_dic_list())"
    },
    "r": {
     "delete_cmd_postfix": ") ",
     "delete_cmd_prefix": "rm(",
     "library": "var_list.r",
     "varRefreshCmd": "cat(var_dic_list()) "
    }
   },
   "types_to_exclude": [
    "module",
    "function",
    "builtin_function_or_method",
    "instance",
    "_Feature"
   ],
   "window_display": false
  }
 },
 "nbformat": 4,
 "nbformat_minor": 1
}
