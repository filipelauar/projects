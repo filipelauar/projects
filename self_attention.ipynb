{
  "nbformat": 4,
  "nbformat_minor": 0,
  "metadata": {
    "colab": {
      "name": "self_attention.ipynb",
      "provenance": []
    },
    "kernelspec": {
      "name": "python3",
      "display_name": "Python 3"
    },
    "language_info": {
      "name": "python"
    },
    "accelerator": "GPU"
  },
  "cells": [
    {
      "cell_type": "markdown",
      "source": [
        "*** Maybe you will need to reestart the kernel 1 or 2 times to run the code because of the datamaestro library. ***"
      ],
      "metadata": {
        "id": "AZXXE4WdChUd"
      }
    },
    {
      "cell_type": "code",
      "execution_count": null,
      "metadata": {
        "colab": {
          "base_uri": "https://localhost:8080/"
        },
        "id": "v2oEVKhVLLKX",
        "outputId": "d17697c0-5f9e-4041-9258-0a38aff6385b"
      },
      "outputs": [
        {
          "output_type": "stream",
          "name": "stdout",
          "text": [
            "Requirement already satisfied: torch>=1.6 in /usr/local/lib/python3.7/dist-packages (from -r http://webia.lip6.fr/~baskiotisn/requirements-amal.txt (line 5)) (1.10.0+cu111)\n",
            "Requirement already satisfied: torchvision in /usr/local/lib/python3.7/dist-packages (from -r http://webia.lip6.fr/~baskiotisn/requirements-amal.txt (line 6)) (0.11.1+cu111)\n",
            "Requirement already satisfied: tensorboard in /usr/local/lib/python3.7/dist-packages (from -r http://webia.lip6.fr/~baskiotisn/requirements-amal.txt (line 7)) (2.7.0)\n",
            "Requirement already satisfied: tensorflow in /usr/local/lib/python3.7/dist-packages (from -r http://webia.lip6.fr/~baskiotisn/requirements-amal.txt (line 8)) (2.7.0)\n",
            "Requirement already satisfied: optuna in /usr/local/lib/python3.7/dist-packages (from -r http://webia.lip6.fr/~baskiotisn/requirements-amal.txt (line 9)) (2.10.0)\n",
            "Requirement already satisfied: jupyter in /usr/local/lib/python3.7/dist-packages (from -r http://webia.lip6.fr/~baskiotisn/requirements-amal.txt (line 13)) (1.0.0)\n",
            "Requirement already satisfied: future in /usr/local/lib/python3.7/dist-packages (from -r http://webia.lip6.fr/~baskiotisn/requirements-amal.txt (line 14)) (0.16.0)\n",
            "Requirement already satisfied: pyyaml in /usr/local/lib/python3.7/dist-packages (from -r http://webia.lip6.fr/~baskiotisn/requirements-amal.txt (line 15)) (3.13)\n",
            "Requirement already satisfied: tqdm in /usr/local/lib/python3.7/dist-packages (from -r http://webia.lip6.fr/~baskiotisn/requirements-amal.txt (line 16)) (4.62.3)\n",
            "Requirement already satisfied: click in /usr/local/lib/python3.7/dist-packages (from -r http://webia.lip6.fr/~baskiotisn/requirements-amal.txt (line 17)) (7.1.2)\n",
            "Requirement already satisfied: matplotlib in /usr/local/lib/python3.7/dist-packages (from -r http://webia.lip6.fr/~baskiotisn/requirements-amal.txt (line 21)) (3.2.2)\n",
            "Requirement already satisfied: seaborn in /usr/local/lib/python3.7/dist-packages (from -r http://webia.lip6.fr/~baskiotisn/requirements-amal.txt (line 22)) (0.11.2)\n",
            "Requirement already satisfied: sklearn in /usr/local/lib/python3.7/dist-packages (from -r http://webia.lip6.fr/~baskiotisn/requirements-amal.txt (line 23)) (0.0)\n",
            "Requirement already satisfied: pandas in /usr/local/lib/python3.7/dist-packages (from -r http://webia.lip6.fr/~baskiotisn/requirements-amal.txt (line 24)) (1.1.5)\n",
            "Requirement already satisfied: conllu in /usr/local/lib/python3.7/dist-packages (from -r http://webia.lip6.fr/~baskiotisn/requirements-amal.txt (line 28)) (4.4.1)\n",
            "Requirement already satisfied: spacy in /usr/local/lib/python3.7/dist-packages (from -r http://webia.lip6.fr/~baskiotisn/requirements-amal.txt (line 29)) (2.2.4)\n",
            "Requirement already satisfied: bs4 in /usr/local/lib/python3.7/dist-packages (from -r http://webia.lip6.fr/~baskiotisn/requirements-amal.txt (line 30)) (0.0.1)\n",
            "Requirement already satisfied: sentencepiece in /usr/local/lib/python3.7/dist-packages (from -r http://webia.lip6.fr/~baskiotisn/requirements-amal.txt (line 31)) (0.1.96)\n",
            "Requirement already satisfied: datamaestro>=0.6.24 in /usr/local/lib/python3.7/dist-packages (from -r http://webia.lip6.fr/~baskiotisn/requirements-amal.txt (line 35)) (0.8.3)\n",
            "Requirement already satisfied: datamaestro_image>=2020.9.25 in /usr/local/lib/python3.7/dist-packages (from -r http://webia.lip6.fr/~baskiotisn/requirements-amal.txt (line 36)) (2021.10.5)\n",
            "Requirement already satisfied: datamaestro_ml>=2020.9.25 in /usr/local/lib/python3.7/dist-packages (from -r http://webia.lip6.fr/~baskiotisn/requirements-amal.txt (line 37)) (2021.10.5)\n",
            "Requirement already satisfied: datamaestro_text>=2020.12.15 in /usr/local/lib/python3.7/dist-packages (from -r http://webia.lip6.fr/~baskiotisn/requirements-amal.txt (line 38)) (2022.1.11)\n",
            "Requirement already satisfied: typing-extensions in /usr/local/lib/python3.7/dist-packages (from torch>=1.6->-r http://webia.lip6.fr/~baskiotisn/requirements-amal.txt (line 5)) (3.10.0.2)\n",
            "Requirement already satisfied: urllib3 in /usr/local/lib/python3.7/dist-packages (from datamaestro>=0.6.24->-r http://webia.lip6.fr/~baskiotisn/requirements-amal.txt (line 35)) (1.24.3)\n",
            "Requirement already satisfied: experimaestro>=0.9.11 in /usr/local/lib/python3.7/dist-packages (from datamaestro>=0.6.24->-r http://webia.lip6.fr/~baskiotisn/requirements-amal.txt (line 35)) (0.9.12)\n",
            "Requirement already satisfied: mkdocs-material in /usr/local/lib/python3.7/dist-packages (from datamaestro>=0.6.24->-r http://webia.lip6.fr/~baskiotisn/requirements-amal.txt (line 35)) (8.1.8)\n",
            "Requirement already satisfied: numpy in /usr/local/lib/python3.7/dist-packages (from datamaestro>=0.6.24->-r http://webia.lip6.fr/~baskiotisn/requirements-amal.txt (line 35)) (1.19.5)\n",
            "Requirement already satisfied: bitmath in /usr/local/lib/python3.7/dist-packages (from datamaestro>=0.6.24->-r http://webia.lip6.fr/~baskiotisn/requirements-amal.txt (line 35)) (1.3.3.1)\n",
            "Requirement already satisfied: docstring-parser in /usr/local/lib/python3.7/dist-packages (from datamaestro>=0.6.24->-r http://webia.lip6.fr/~baskiotisn/requirements-amal.txt (line 35)) (0.13)\n",
            "Requirement already satisfied: pymdown-extensions in /usr/local/lib/python3.7/dist-packages (from datamaestro>=0.6.24->-r http://webia.lip6.fr/~baskiotisn/requirements-amal.txt (line 35)) (9.1)\n",
            "Requirement already satisfied: requests in /usr/local/lib/python3.7/dist-packages (from datamaestro>=0.6.24->-r http://webia.lip6.fr/~baskiotisn/requirements-amal.txt (line 35)) (2.23.0)\n",
            "Requirement already satisfied: mkdocs in /usr/local/lib/python3.7/dist-packages (from datamaestro>=0.6.24->-r http://webia.lip6.fr/~baskiotisn/requirements-amal.txt (line 35)) (1.2.3)\n",
            "Requirement already satisfied: cached-property in /usr/local/lib/python3.7/dist-packages (from datamaestro>=0.6.24->-r http://webia.lip6.fr/~baskiotisn/requirements-amal.txt (line 35)) (1.5.2)\n",
            "Requirement already satisfied: marshmallow in /usr/local/lib/python3.7/dist-packages (from datamaestro>=0.6.24->-r http://webia.lip6.fr/~baskiotisn/requirements-amal.txt (line 35)) (3.14.1)\n",
            "Requirement already satisfied: fasteners in /usr/local/lib/python3.7/dist-packages (from experimaestro>=0.9.11->datamaestro>=0.6.24->-r http://webia.lip6.fr/~baskiotisn/requirements-amal.txt (line 35)) (0.17.2)\n",
            "Requirement already satisfied: watchdog>2.0.0 in /usr/local/lib/python3.7/dist-packages (from experimaestro>=0.9.11->datamaestro>=0.6.24->-r http://webia.lip6.fr/~baskiotisn/requirements-amal.txt (line 35)) (2.1.6)\n",
            "Requirement already satisfied: pyparsing in /usr/local/lib/python3.7/dist-packages (from experimaestro>=0.9.11->datamaestro>=0.6.24->-r http://webia.lip6.fr/~baskiotisn/requirements-amal.txt (line 35)) (3.0.6)\n",
            "Requirement already satisfied: rpyc in /usr/local/lib/python3.7/dist-packages (from experimaestro>=0.9.11->datamaestro>=0.6.24->-r http://webia.lip6.fr/~baskiotisn/requirements-amal.txt (line 35)) (5.0.1)\n",
            "Requirement already satisfied: websockets in /usr/local/lib/python3.7/dist-packages (from experimaestro>=0.9.11->datamaestro>=0.6.24->-r http://webia.lip6.fr/~baskiotisn/requirements-amal.txt (line 35)) (10.1)\n",
            "Requirement already satisfied: pytools in /usr/local/lib/python3.7/dist-packages (from experimaestro>=0.9.11->datamaestro>=0.6.24->-r http://webia.lip6.fr/~baskiotisn/requirements-amal.txt (line 35)) (2021.2.9)\n",
            "Requirement already satisfied: psutil in /usr/local/lib/python3.7/dist-packages (from experimaestro>=0.9.11->datamaestro>=0.6.24->-r http://webia.lip6.fr/~baskiotisn/requirements-amal.txt (line 35)) (5.4.8)\n",
            "Requirement already satisfied: fabric in /usr/local/lib/python3.7/dist-packages (from experimaestro>=0.9.11->datamaestro>=0.6.24->-r http://webia.lip6.fr/~baskiotisn/requirements-amal.txt (line 35)) (2.6.0)\n",
            "Requirement already satisfied: termcolor in /usr/local/lib/python3.7/dist-packages (from experimaestro>=0.9.11->datamaestro>=0.6.24->-r http://webia.lip6.fr/~baskiotisn/requirements-amal.txt (line 35)) (1.1.0)\n",
            "Requirement already satisfied: jsonstreams>=0.5 in /usr/local/lib/python3.7/dist-packages (from experimaestro>=0.9.11->datamaestro>=0.6.24->-r http://webia.lip6.fr/~baskiotisn/requirements-amal.txt (line 35)) (0.6.0)\n",
            "Requirement already satisfied: six in /usr/local/lib/python3.7/dist-packages (from jsonstreams>=0.5->experimaestro>=0.9.11->datamaestro>=0.6.24->-r http://webia.lip6.fr/~baskiotisn/requirements-amal.txt (line 35)) (1.15.0)\n",
            "Requirement already satisfied: pillow!=8.3.0,>=5.3.0 in /usr/local/lib/python3.7/dist-packages (from torchvision->-r http://webia.lip6.fr/~baskiotisn/requirements-amal.txt (line 6)) (7.1.2)\n",
            "Requirement already satisfied: google-auth<3,>=1.6.3 in /usr/local/lib/python3.7/dist-packages (from tensorboard->-r http://webia.lip6.fr/~baskiotisn/requirements-amal.txt (line 7)) (1.35.0)\n",
            "Requirement already satisfied: werkzeug>=0.11.15 in /usr/local/lib/python3.7/dist-packages (from tensorboard->-r http://webia.lip6.fr/~baskiotisn/requirements-amal.txt (line 7)) (1.0.1)\n",
            "Requirement already satisfied: tensorboard-plugin-wit>=1.6.0 in /usr/local/lib/python3.7/dist-packages (from tensorboard->-r http://webia.lip6.fr/~baskiotisn/requirements-amal.txt (line 7)) (1.8.1)\n",
            "Requirement already satisfied: setuptools>=41.0.0 in /usr/local/lib/python3.7/dist-packages (from tensorboard->-r http://webia.lip6.fr/~baskiotisn/requirements-amal.txt (line 7)) (57.4.0)\n",
            "Requirement already satisfied: markdown>=2.6.8 in /usr/local/lib/python3.7/dist-packages (from tensorboard->-r http://webia.lip6.fr/~baskiotisn/requirements-amal.txt (line 7)) (3.3.6)\n",
            "Requirement already satisfied: grpcio>=1.24.3 in /usr/local/lib/python3.7/dist-packages (from tensorboard->-r http://webia.lip6.fr/~baskiotisn/requirements-amal.txt (line 7)) (1.43.0)\n",
            "Requirement already satisfied: google-auth-oauthlib<0.5,>=0.4.1 in /usr/local/lib/python3.7/dist-packages (from tensorboard->-r http://webia.lip6.fr/~baskiotisn/requirements-amal.txt (line 7)) (0.4.6)\n",
            "Requirement already satisfied: absl-py>=0.4 in /usr/local/lib/python3.7/dist-packages (from tensorboard->-r http://webia.lip6.fr/~baskiotisn/requirements-amal.txt (line 7)) (0.12.0)\n",
            "Requirement already satisfied: tensorboard-data-server<0.7.0,>=0.6.0 in /usr/local/lib/python3.7/dist-packages (from tensorboard->-r http://webia.lip6.fr/~baskiotisn/requirements-amal.txt (line 7)) (0.6.1)\n",
            "Requirement already satisfied: protobuf>=3.6.0 in /usr/local/lib/python3.7/dist-packages (from tensorboard->-r http://webia.lip6.fr/~baskiotisn/requirements-amal.txt (line 7)) (3.17.3)\n",
            "Requirement already satisfied: wheel>=0.26 in /usr/local/lib/python3.7/dist-packages (from tensorboard->-r http://webia.lip6.fr/~baskiotisn/requirements-amal.txt (line 7)) (0.37.1)\n",
            "Requirement already satisfied: cachetools<5.0,>=2.0.0 in /usr/local/lib/python3.7/dist-packages (from google-auth<3,>=1.6.3->tensorboard->-r http://webia.lip6.fr/~baskiotisn/requirements-amal.txt (line 7)) (4.2.4)\n",
            "Requirement already satisfied: rsa<5,>=3.1.4 in /usr/local/lib/python3.7/dist-packages (from google-auth<3,>=1.6.3->tensorboard->-r http://webia.lip6.fr/~baskiotisn/requirements-amal.txt (line 7)) (4.8)\n",
            "Requirement already satisfied: pyasn1-modules>=0.2.1 in /usr/local/lib/python3.7/dist-packages (from google-auth<3,>=1.6.3->tensorboard->-r http://webia.lip6.fr/~baskiotisn/requirements-amal.txt (line 7)) (0.2.8)\n",
            "Requirement already satisfied: requests-oauthlib>=0.7.0 in /usr/local/lib/python3.7/dist-packages (from google-auth-oauthlib<0.5,>=0.4.1->tensorboard->-r http://webia.lip6.fr/~baskiotisn/requirements-amal.txt (line 7)) (1.3.0)\n",
            "Requirement already satisfied: importlib-metadata>=4.4 in /usr/local/lib/python3.7/dist-packages (from markdown>=2.6.8->tensorboard->-r http://webia.lip6.fr/~baskiotisn/requirements-amal.txt (line 7)) (4.10.0)\n",
            "Requirement already satisfied: zipp>=0.5 in /usr/local/lib/python3.7/dist-packages (from importlib-metadata>=4.4->markdown>=2.6.8->tensorboard->-r http://webia.lip6.fr/~baskiotisn/requirements-amal.txt (line 7)) (3.7.0)\n",
            "Requirement already satisfied: pyasn1<0.5.0,>=0.4.6 in /usr/local/lib/python3.7/dist-packages (from pyasn1-modules>=0.2.1->google-auth<3,>=1.6.3->tensorboard->-r http://webia.lip6.fr/~baskiotisn/requirements-amal.txt (line 7)) (0.4.8)\n",
            "Requirement already satisfied: chardet<4,>=3.0.2 in /usr/local/lib/python3.7/dist-packages (from requests->datamaestro>=0.6.24->-r http://webia.lip6.fr/~baskiotisn/requirements-amal.txt (line 35)) (3.0.4)\n",
            "Requirement already satisfied: certifi>=2017.4.17 in /usr/local/lib/python3.7/dist-packages (from requests->datamaestro>=0.6.24->-r http://webia.lip6.fr/~baskiotisn/requirements-amal.txt (line 35)) (2021.10.8)\n",
            "Requirement already satisfied: idna<3,>=2.5 in /usr/local/lib/python3.7/dist-packages (from requests->datamaestro>=0.6.24->-r http://webia.lip6.fr/~baskiotisn/requirements-amal.txt (line 35)) (2.10)\n",
            "Requirement already satisfied: oauthlib>=3.0.0 in /usr/local/lib/python3.7/dist-packages (from requests-oauthlib>=0.7.0->google-auth-oauthlib<0.5,>=0.4.1->tensorboard->-r http://webia.lip6.fr/~baskiotisn/requirements-amal.txt (line 7)) (3.1.1)\n",
            "Requirement already satisfied: google-pasta>=0.1.1 in /usr/local/lib/python3.7/dist-packages (from tensorflow->-r http://webia.lip6.fr/~baskiotisn/requirements-amal.txt (line 8)) (0.2.0)\n",
            "Requirement already satisfied: keras<2.8,>=2.7.0rc0 in /usr/local/lib/python3.7/dist-packages (from tensorflow->-r http://webia.lip6.fr/~baskiotisn/requirements-amal.txt (line 8)) (2.7.0)\n",
            "Requirement already satisfied: tensorflow-io-gcs-filesystem>=0.21.0 in /usr/local/lib/python3.7/dist-packages (from tensorflow->-r http://webia.lip6.fr/~baskiotisn/requirements-amal.txt (line 8)) (0.23.1)\n",
            "Requirement already satisfied: astunparse>=1.6.0 in /usr/local/lib/python3.7/dist-packages (from tensorflow->-r http://webia.lip6.fr/~baskiotisn/requirements-amal.txt (line 8)) (1.6.3)\n",
            "Requirement already satisfied: wrapt>=1.11.0 in /usr/local/lib/python3.7/dist-packages (from tensorflow->-r http://webia.lip6.fr/~baskiotisn/requirements-amal.txt (line 8)) (1.13.3)\n",
            "Requirement already satisfied: flatbuffers<3.0,>=1.12 in /usr/local/lib/python3.7/dist-packages (from tensorflow->-r http://webia.lip6.fr/~baskiotisn/requirements-amal.txt (line 8)) (2.0)\n",
            "Requirement already satisfied: keras-preprocessing>=1.1.1 in /usr/local/lib/python3.7/dist-packages (from tensorflow->-r http://webia.lip6.fr/~baskiotisn/requirements-amal.txt (line 8)) (1.1.2)\n",
            "Requirement already satisfied: libclang>=9.0.1 in /usr/local/lib/python3.7/dist-packages (from tensorflow->-r http://webia.lip6.fr/~baskiotisn/requirements-amal.txt (line 8)) (12.0.0)\n",
            "Requirement already satisfied: tensorflow-estimator<2.8,~=2.7.0rc0 in /usr/local/lib/python3.7/dist-packages (from tensorflow->-r http://webia.lip6.fr/~baskiotisn/requirements-amal.txt (line 8)) (2.7.0)\n",
            "Requirement already satisfied: gast<0.5.0,>=0.2.1 in /usr/local/lib/python3.7/dist-packages (from tensorflow->-r http://webia.lip6.fr/~baskiotisn/requirements-amal.txt (line 8)) (0.4.0)\n",
            "Requirement already satisfied: opt-einsum>=2.3.2 in /usr/local/lib/python3.7/dist-packages (from tensorflow->-r http://webia.lip6.fr/~baskiotisn/requirements-amal.txt (line 8)) (3.3.0)\n",
            "Requirement already satisfied: h5py>=2.9.0 in /usr/local/lib/python3.7/dist-packages (from tensorflow->-r http://webia.lip6.fr/~baskiotisn/requirements-amal.txt (line 8)) (3.1.0)\n",
            "Requirement already satisfied: packaging>=20.0 in /usr/local/lib/python3.7/dist-packages (from optuna->-r http://webia.lip6.fr/~baskiotisn/requirements-amal.txt (line 9)) (21.3)\n",
            "Requirement already satisfied: colorlog in /usr/local/lib/python3.7/dist-packages (from optuna->-r http://webia.lip6.fr/~baskiotisn/requirements-amal.txt (line 9)) (6.6.0)\n",
            "Requirement already satisfied: sqlalchemy>=1.1.0 in /usr/local/lib/python3.7/dist-packages (from optuna->-r http://webia.lip6.fr/~baskiotisn/requirements-amal.txt (line 9)) (1.4.29)\n",
            "Requirement already satisfied: alembic in /usr/local/lib/python3.7/dist-packages (from optuna->-r http://webia.lip6.fr/~baskiotisn/requirements-amal.txt (line 9)) (1.7.5)\n",
            "Requirement already satisfied: scipy!=1.4.0 in /usr/local/lib/python3.7/dist-packages (from optuna->-r http://webia.lip6.fr/~baskiotisn/requirements-amal.txt (line 9)) (1.4.1)\n",
            "Requirement already satisfied: cmaes>=0.8.2 in /usr/local/lib/python3.7/dist-packages (from optuna->-r http://webia.lip6.fr/~baskiotisn/requirements-amal.txt (line 9)) (0.8.2)\n",
            "Requirement already satisfied: cliff in /usr/local/lib/python3.7/dist-packages (from optuna->-r http://webia.lip6.fr/~baskiotisn/requirements-amal.txt (line 9)) (3.10.0)\n",
            "Requirement already satisfied: greenlet!=0.4.17 in /usr/local/lib/python3.7/dist-packages (from sqlalchemy>=1.1.0->optuna->-r http://webia.lip6.fr/~baskiotisn/requirements-amal.txt (line 9)) (1.1.2)\n",
            "Requirement already satisfied: qtconsole in /usr/local/lib/python3.7/dist-packages (from jupyter->-r http://webia.lip6.fr/~baskiotisn/requirements-amal.txt (line 13)) (5.2.2)\n",
            "Requirement already satisfied: ipykernel in /usr/local/lib/python3.7/dist-packages (from jupyter->-r http://webia.lip6.fr/~baskiotisn/requirements-amal.txt (line 13)) (4.10.1)\n",
            "Requirement already satisfied: jupyter-console in /usr/local/lib/python3.7/dist-packages (from jupyter->-r http://webia.lip6.fr/~baskiotisn/requirements-amal.txt (line 13)) (5.2.0)\n",
            "Requirement already satisfied: nbconvert in /usr/local/lib/python3.7/dist-packages (from jupyter->-r http://webia.lip6.fr/~baskiotisn/requirements-amal.txt (line 13)) (5.6.1)\n",
            "Requirement already satisfied: notebook in /usr/local/lib/python3.7/dist-packages (from jupyter->-r http://webia.lip6.fr/~baskiotisn/requirements-amal.txt (line 13)) (5.3.1)\n",
            "Requirement already satisfied: ipywidgets in /usr/local/lib/python3.7/dist-packages (from jupyter->-r http://webia.lip6.fr/~baskiotisn/requirements-amal.txt (line 13)) (7.6.5)\n",
            "Requirement already satisfied: cycler>=0.10 in /usr/local/lib/python3.7/dist-packages (from matplotlib->-r http://webia.lip6.fr/~baskiotisn/requirements-amal.txt (line 21)) (0.11.0)\n",
            "Requirement already satisfied: python-dateutil>=2.1 in /usr/local/lib/python3.7/dist-packages (from matplotlib->-r http://webia.lip6.fr/~baskiotisn/requirements-amal.txt (line 21)) (2.8.2)\n",
            "Requirement already satisfied: kiwisolver>=1.0.1 in /usr/local/lib/python3.7/dist-packages (from matplotlib->-r http://webia.lip6.fr/~baskiotisn/requirements-amal.txt (line 21)) (1.3.2)\n",
            "Requirement already satisfied: pytz>=2017.2 in /usr/local/lib/python3.7/dist-packages (from pandas->-r http://webia.lip6.fr/~baskiotisn/requirements-amal.txt (line 24)) (2018.9)\n",
            "Requirement already satisfied: scikit-learn in /usr/local/lib/python3.7/dist-packages (from sklearn->-r http://webia.lip6.fr/~baskiotisn/requirements-amal.txt (line 23)) (1.0.2)\n",
            "Requirement already satisfied: murmurhash<1.1.0,>=0.28.0 in /usr/local/lib/python3.7/dist-packages (from spacy->-r http://webia.lip6.fr/~baskiotisn/requirements-amal.txt (line 29)) (1.0.6)\n",
            "Requirement already satisfied: thinc==7.4.0 in /usr/local/lib/python3.7/dist-packages (from spacy->-r http://webia.lip6.fr/~baskiotisn/requirements-amal.txt (line 29)) (7.4.0)\n",
            "Requirement already satisfied: cymem<2.1.0,>=2.0.2 in /usr/local/lib/python3.7/dist-packages (from spacy->-r http://webia.lip6.fr/~baskiotisn/requirements-amal.txt (line 29)) (2.0.6)\n",
            "Requirement already satisfied: srsly<1.1.0,>=1.0.2 in /usr/local/lib/python3.7/dist-packages (from spacy->-r http://webia.lip6.fr/~baskiotisn/requirements-amal.txt (line 29)) (1.0.5)\n",
            "Requirement already satisfied: preshed<3.1.0,>=3.0.2 in /usr/local/lib/python3.7/dist-packages (from spacy->-r http://webia.lip6.fr/~baskiotisn/requirements-amal.txt (line 29)) (3.0.6)\n",
            "Requirement already satisfied: plac<1.2.0,>=0.9.6 in /usr/local/lib/python3.7/dist-packages (from spacy->-r http://webia.lip6.fr/~baskiotisn/requirements-amal.txt (line 29)) (1.1.3)\n",
            "Requirement already satisfied: wasabi<1.1.0,>=0.4.0 in /usr/local/lib/python3.7/dist-packages (from spacy->-r http://webia.lip6.fr/~baskiotisn/requirements-amal.txt (line 29)) (0.9.0)\n",
            "Requirement already satisfied: catalogue<1.1.0,>=0.0.7 in /usr/local/lib/python3.7/dist-packages (from spacy->-r http://webia.lip6.fr/~baskiotisn/requirements-amal.txt (line 29)) (1.0.0)\n",
            "Requirement already satisfied: blis<0.5.0,>=0.4.0 in /usr/local/lib/python3.7/dist-packages (from spacy->-r http://webia.lip6.fr/~baskiotisn/requirements-amal.txt (line 29)) (0.4.1)\n",
            "Requirement already satisfied: beautifulsoup4 in /usr/local/lib/python3.7/dist-packages (from bs4->-r http://webia.lip6.fr/~baskiotisn/requirements-amal.txt (line 30)) (4.6.3)\n",
            "Requirement already satisfied: Mako in /usr/local/lib/python3.7/dist-packages (from alembic->optuna->-r http://webia.lip6.fr/~baskiotisn/requirements-amal.txt (line 9)) (1.1.6)\n",
            "Requirement already satisfied: importlib-resources in /usr/local/lib/python3.7/dist-packages (from alembic->optuna->-r http://webia.lip6.fr/~baskiotisn/requirements-amal.txt (line 9)) (5.4.0)\n",
            "Requirement already satisfied: cmd2>=1.0.0 in /usr/local/lib/python3.7/dist-packages (from cliff->optuna->-r http://webia.lip6.fr/~baskiotisn/requirements-amal.txt (line 9)) (2.3.3)\n",
            "Requirement already satisfied: pbr!=2.1.0,>=2.0.0 in /usr/local/lib/python3.7/dist-packages (from cliff->optuna->-r http://webia.lip6.fr/~baskiotisn/requirements-amal.txt (line 9)) (5.8.0)\n",
            "Requirement already satisfied: autopage>=0.4.0 in /usr/local/lib/python3.7/dist-packages (from cliff->optuna->-r http://webia.lip6.fr/~baskiotisn/requirements-amal.txt (line 9)) (0.5.0)\n",
            "Requirement already satisfied: stevedore>=2.0.1 in /usr/local/lib/python3.7/dist-packages (from cliff->optuna->-r http://webia.lip6.fr/~baskiotisn/requirements-amal.txt (line 9)) (3.5.0)\n",
            "Requirement already satisfied: PrettyTable>=0.7.2 in /usr/local/lib/python3.7/dist-packages (from cliff->optuna->-r http://webia.lip6.fr/~baskiotisn/requirements-amal.txt (line 9)) (3.0.0)\n",
            "Requirement already satisfied: wcwidth>=0.1.7 in /usr/local/lib/python3.7/dist-packages (from cmd2>=1.0.0->cliff->optuna->-r http://webia.lip6.fr/~baskiotisn/requirements-amal.txt (line 9)) (0.2.5)\n",
            "Requirement already satisfied: pyperclip>=1.6 in /usr/local/lib/python3.7/dist-packages (from cmd2>=1.0.0->cliff->optuna->-r http://webia.lip6.fr/~baskiotisn/requirements-amal.txt (line 9)) (1.8.2)\n",
            "Requirement already satisfied: attrs>=16.3.0 in /usr/local/lib/python3.7/dist-packages (from cmd2>=1.0.0->cliff->optuna->-r http://webia.lip6.fr/~baskiotisn/requirements-amal.txt (line 9)) (21.4.0)\n",
            "Requirement already satisfied: paramiko>=2.4 in /usr/local/lib/python3.7/dist-packages (from fabric->experimaestro>=0.9.11->datamaestro>=0.6.24->-r http://webia.lip6.fr/~baskiotisn/requirements-amal.txt (line 35)) (2.9.2)\n",
            "Requirement already satisfied: invoke<2.0,>=1.3 in /usr/local/lib/python3.7/dist-packages (from fabric->experimaestro>=0.9.11->datamaestro>=0.6.24->-r http://webia.lip6.fr/~baskiotisn/requirements-amal.txt (line 35)) (1.6.0)\n",
            "Requirement already satisfied: pathlib2 in /usr/local/lib/python3.7/dist-packages (from fabric->experimaestro>=0.9.11->datamaestro>=0.6.24->-r http://webia.lip6.fr/~baskiotisn/requirements-amal.txt (line 35)) (2.3.6)\n",
            "Requirement already satisfied: bcrypt>=3.1.3 in /usr/local/lib/python3.7/dist-packages (from paramiko>=2.4->fabric->experimaestro>=0.9.11->datamaestro>=0.6.24->-r http://webia.lip6.fr/~baskiotisn/requirements-amal.txt (line 35)) (3.2.0)\n",
            "Requirement already satisfied: cryptography>=2.5 in /usr/local/lib/python3.7/dist-packages (from paramiko>=2.4->fabric->experimaestro>=0.9.11->datamaestro>=0.6.24->-r http://webia.lip6.fr/~baskiotisn/requirements-amal.txt (line 35)) (36.0.1)\n",
            "Requirement already satisfied: pynacl>=1.0.1 in /usr/local/lib/python3.7/dist-packages (from paramiko>=2.4->fabric->experimaestro>=0.9.11->datamaestro>=0.6.24->-r http://webia.lip6.fr/~baskiotisn/requirements-amal.txt (line 35)) (1.5.0)\n",
            "Requirement already satisfied: cffi>=1.1 in /usr/local/lib/python3.7/dist-packages (from bcrypt>=3.1.3->paramiko>=2.4->fabric->experimaestro>=0.9.11->datamaestro>=0.6.24->-r http://webia.lip6.fr/~baskiotisn/requirements-amal.txt (line 35)) (1.15.0)\n",
            "Requirement already satisfied: pycparser in /usr/local/lib/python3.7/dist-packages (from cffi>=1.1->bcrypt>=3.1.3->paramiko>=2.4->fabric->experimaestro>=0.9.11->datamaestro>=0.6.24->-r http://webia.lip6.fr/~baskiotisn/requirements-amal.txt (line 35)) (2.21)\n",
            "Requirement already satisfied: traitlets>=4.1.0 in /usr/local/lib/python3.7/dist-packages (from ipykernel->jupyter->-r http://webia.lip6.fr/~baskiotisn/requirements-amal.txt (line 13)) (5.1.1)\n",
            "Requirement already satisfied: ipython>=4.0.0 in /usr/local/lib/python3.7/dist-packages (from ipykernel->jupyter->-r http://webia.lip6.fr/~baskiotisn/requirements-amal.txt (line 13)) (5.5.0)\n",
            "Requirement already satisfied: tornado>=4.0 in /usr/local/lib/python3.7/dist-packages (from ipykernel->jupyter->-r http://webia.lip6.fr/~baskiotisn/requirements-amal.txt (line 13)) (5.1.1)\n",
            "Requirement already satisfied: jupyter-client in /usr/local/lib/python3.7/dist-packages (from ipykernel->jupyter->-r http://webia.lip6.fr/~baskiotisn/requirements-amal.txt (line 13)) (5.3.5)\n",
            "Requirement already satisfied: decorator in /usr/local/lib/python3.7/dist-packages (from ipython>=4.0.0->ipykernel->jupyter->-r http://webia.lip6.fr/~baskiotisn/requirements-amal.txt (line 13)) (4.4.2)\n",
            "Requirement already satisfied: simplegeneric>0.8 in /usr/local/lib/python3.7/dist-packages (from ipython>=4.0.0->ipykernel->jupyter->-r http://webia.lip6.fr/~baskiotisn/requirements-amal.txt (line 13)) (0.8.1)\n",
            "Requirement already satisfied: pickleshare in /usr/local/lib/python3.7/dist-packages (from ipython>=4.0.0->ipykernel->jupyter->-r http://webia.lip6.fr/~baskiotisn/requirements-amal.txt (line 13)) (0.7.5)\n",
            "Requirement already satisfied: prompt-toolkit<2.0.0,>=1.0.4 in /usr/local/lib/python3.7/dist-packages (from ipython>=4.0.0->ipykernel->jupyter->-r http://webia.lip6.fr/~baskiotisn/requirements-amal.txt (line 13)) (1.0.18)\n",
            "Requirement already satisfied: pygments in /usr/local/lib/python3.7/dist-packages (from ipython>=4.0.0->ipykernel->jupyter->-r http://webia.lip6.fr/~baskiotisn/requirements-amal.txt (line 13)) (2.11.2)\n",
            "Requirement already satisfied: pexpect in /usr/local/lib/python3.7/dist-packages (from ipython>=4.0.0->ipykernel->jupyter->-r http://webia.lip6.fr/~baskiotisn/requirements-amal.txt (line 13)) (4.8.0)\n",
            "Requirement already satisfied: ipython-genutils~=0.2.0 in /usr/local/lib/python3.7/dist-packages (from ipywidgets->jupyter->-r http://webia.lip6.fr/~baskiotisn/requirements-amal.txt (line 13)) (0.2.0)\n",
            "Requirement already satisfied: nbformat>=4.2.0 in /usr/local/lib/python3.7/dist-packages (from ipywidgets->jupyter->-r http://webia.lip6.fr/~baskiotisn/requirements-amal.txt (line 13)) (5.1.3)\n",
            "Requirement already satisfied: jupyterlab-widgets>=1.0.0 in /usr/local/lib/python3.7/dist-packages (from ipywidgets->jupyter->-r http://webia.lip6.fr/~baskiotisn/requirements-amal.txt (line 13)) (1.0.2)\n",
            "Requirement already satisfied: widgetsnbextension~=3.5.0 in /usr/local/lib/python3.7/dist-packages (from ipywidgets->jupyter->-r http://webia.lip6.fr/~baskiotisn/requirements-amal.txt (line 13)) (3.5.2)\n",
            "Requirement already satisfied: jsonschema!=2.5.0,>=2.4 in /usr/local/lib/python3.7/dist-packages (from nbformat>=4.2.0->ipywidgets->jupyter->-r http://webia.lip6.fr/~baskiotisn/requirements-amal.txt (line 13)) (4.3.3)\n",
            "Requirement already satisfied: jupyter-core in /usr/local/lib/python3.7/dist-packages (from nbformat>=4.2.0->ipywidgets->jupyter->-r http://webia.lip6.fr/~baskiotisn/requirements-amal.txt (line 13)) (4.9.1)\n",
            "Requirement already satisfied: pyrsistent!=0.17.0,!=0.17.1,!=0.17.2,>=0.14.0 in /usr/local/lib/python3.7/dist-packages (from jsonschema!=2.5.0,>=2.4->nbformat>=4.2.0->ipywidgets->jupyter->-r http://webia.lip6.fr/~baskiotisn/requirements-amal.txt (line 13)) (0.18.0)\n",
            "Requirement already satisfied: terminado>=0.8.1 in /usr/local/lib/python3.7/dist-packages (from notebook->jupyter->-r http://webia.lip6.fr/~baskiotisn/requirements-amal.txt (line 13)) (0.12.1)\n",
            "Requirement already satisfied: jinja2 in /usr/local/lib/python3.7/dist-packages (from notebook->jupyter->-r http://webia.lip6.fr/~baskiotisn/requirements-amal.txt (line 13)) (2.11.3)\n",
            "Requirement already satisfied: Send2Trash in /usr/local/lib/python3.7/dist-packages (from notebook->jupyter->-r http://webia.lip6.fr/~baskiotisn/requirements-amal.txt (line 13)) (1.8.0)\n",
            "Requirement already satisfied: pyzmq>=13 in /usr/local/lib/python3.7/dist-packages (from jupyter-client->ipykernel->jupyter->-r http://webia.lip6.fr/~baskiotisn/requirements-amal.txt (line 13)) (22.3.0)\n",
            "Requirement already satisfied: ptyprocess in /usr/local/lib/python3.7/dist-packages (from terminado>=0.8.1->notebook->jupyter->-r http://webia.lip6.fr/~baskiotisn/requirements-amal.txt (line 13)) (0.7.0)\n",
            "Requirement already satisfied: MarkupSafe>=0.23 in /usr/local/lib/python3.7/dist-packages (from jinja2->notebook->jupyter->-r http://webia.lip6.fr/~baskiotisn/requirements-amal.txt (line 13)) (2.0.1)\n",
            "Requirement already satisfied: ghp-import>=1.0 in /usr/local/lib/python3.7/dist-packages (from mkdocs->datamaestro>=0.6.24->-r http://webia.lip6.fr/~baskiotisn/requirements-amal.txt (line 35)) (2.0.2)\n",
            "Requirement already satisfied: mergedeep>=1.3.4 in /usr/local/lib/python3.7/dist-packages (from mkdocs->datamaestro>=0.6.24->-r http://webia.lip6.fr/~baskiotisn/requirements-amal.txt (line 35)) (1.3.4)\n",
            "Requirement already satisfied: pyyaml-env-tag>=0.1 in /usr/local/lib/python3.7/dist-packages (from mkdocs->datamaestro>=0.6.24->-r http://webia.lip6.fr/~baskiotisn/requirements-amal.txt (line 35)) (0.1)\n",
            "Requirement already satisfied: mkdocs-material-extensions>=1.0 in /usr/local/lib/python3.7/dist-packages (from mkdocs-material->datamaestro>=0.6.24->-r http://webia.lip6.fr/~baskiotisn/requirements-amal.txt (line 35)) (1.0.3)\n",
            "Requirement already satisfied: mistune<2,>=0.8.1 in /usr/local/lib/python3.7/dist-packages (from nbconvert->jupyter->-r http://webia.lip6.fr/~baskiotisn/requirements-amal.txt (line 13)) (0.8.4)\n",
            "Requirement already satisfied: entrypoints>=0.2.2 in /usr/local/lib/python3.7/dist-packages (from nbconvert->jupyter->-r http://webia.lip6.fr/~baskiotisn/requirements-amal.txt (line 13)) (0.3)\n",
            "Requirement already satisfied: testpath in /usr/local/lib/python3.7/dist-packages (from nbconvert->jupyter->-r http://webia.lip6.fr/~baskiotisn/requirements-amal.txt (line 13)) (0.5.0)\n",
            "Requirement already satisfied: bleach in /usr/local/lib/python3.7/dist-packages (from nbconvert->jupyter->-r http://webia.lip6.fr/~baskiotisn/requirements-amal.txt (line 13)) (4.1.0)\n",
            "Requirement already satisfied: defusedxml in /usr/local/lib/python3.7/dist-packages (from nbconvert->jupyter->-r http://webia.lip6.fr/~baskiotisn/requirements-amal.txt (line 13)) (0.7.1)\n",
            "Requirement already satisfied: pandocfilters>=1.4.1 in /usr/local/lib/python3.7/dist-packages (from nbconvert->jupyter->-r http://webia.lip6.fr/~baskiotisn/requirements-amal.txt (line 13)) (1.5.0)\n",
            "Requirement already satisfied: webencodings in /usr/local/lib/python3.7/dist-packages (from bleach->nbconvert->jupyter->-r http://webia.lip6.fr/~baskiotisn/requirements-amal.txt (line 13)) (0.5.1)\n",
            "Requirement already satisfied: appdirs>=1.4.0 in /usr/local/lib/python3.7/dist-packages (from pytools->experimaestro>=0.9.11->datamaestro>=0.6.24->-r http://webia.lip6.fr/~baskiotisn/requirements-amal.txt (line 35)) (1.4.4)\n",
            "Requirement already satisfied: qtpy in /usr/local/lib/python3.7/dist-packages (from qtconsole->jupyter->-r http://webia.lip6.fr/~baskiotisn/requirements-amal.txt (line 13)) (2.0.0)\n",
            "Requirement already satisfied: plumbum in /usr/local/lib/python3.7/dist-packages (from rpyc->experimaestro>=0.9.11->datamaestro>=0.6.24->-r http://webia.lip6.fr/~baskiotisn/requirements-amal.txt (line 35)) (1.7.2)\n",
            "Requirement already satisfied: threadpoolctl>=2.0.0 in /usr/local/lib/python3.7/dist-packages (from scikit-learn->sklearn->-r http://webia.lip6.fr/~baskiotisn/requirements-amal.txt (line 23)) (3.0.0)\n",
            "Requirement already satisfied: joblib>=0.11 in /usr/local/lib/python3.7/dist-packages (from scikit-learn->sklearn->-r http://webia.lip6.fr/~baskiotisn/requirements-amal.txt (line 23)) (1.1.0)\n"
          ]
        }
      ],
      "source": [
        "!pip install -r http://webia.lip6.fr/~baskiotisn/requirements-amal.txt"
      ]
    },
    {
      "cell_type": "code",
      "source": [
        "import math\n",
        "import click\n",
        "from torch.utils.tensorboard import SummaryWriter\n",
        "import logging\n",
        "import re\n",
        "from pathlib import Path\n",
        "from tqdm import tqdm\n",
        "import numpy as np\n",
        "import time\n",
        "from datamaestro import prepare_dataset\n",
        "import torch.nn.functional as F\n",
        "import torch\n",
        "import torch.nn as nn\n",
        "from torch.utils.data import Dataset, DataLoader\n",
        "from itertools import chain\n",
        "\n",
        "class PositionalEncoding(nn.Module):\n",
        "    \"Position embeddings\"\n",
        "\n",
        "    def __init__(self, d_model: int, max_len: int = 5000):\n",
        "        \"\"\"Génère des embeddings de position\n",
        "\n",
        "        Args:\n",
        "            d_model (int): Dimension des embeddings à générer\n",
        "            max_len (int, optional): Longueur maximale des textes.\n",
        "                Attention, plus cette valeur est haute, moins bons seront les embeddings de position.\n",
        "        \"\"\"\n",
        "        super().__init__()\n",
        "\n",
        "        pe = torch.zeros(max_len, d_model, dtype=torch.float)\n",
        "        position = torch.arange(0, max_len, dtype=torch.float).unsqueeze(1)\n",
        "        div_term = torch.exp(torch.arange(0, d_model, 2, dtype=torch.float) *\n",
        "                             -(math.log(10000.0) / d_model))\n",
        "        pe[:, 0::2] = torch.sin(position * div_term)\n",
        "        pe[:, 1::2] = torch.cos(position * div_term)\n",
        "        pe = pe.unsqueeze(0)\n",
        "        pe.requires_grad = False\n",
        "        self.register_buffer('pe', pe)\n",
        "\n",
        "    def forward(self, x):\n",
        "        \"\"\"Ajoute les embeddings de position\"\"\"\n",
        "        x = x + self.pe[:, :x.size(1)]\n",
        "        return x\n",
        "\n",
        "\n",
        "MAX_LENGTH = 500\n",
        "\n",
        "logging.basicConfig(level=logging.INFO)\n",
        "\n",
        "class FolderText(Dataset):\n",
        "    \"\"\"Dataset basé sur des dossiers (un par classe) et fichiers\"\"\"\n",
        "\n",
        "    def __init__(self, classes, folder: Path, tokenizer, load=False):\n",
        "        self.tokenizer = tokenizer\n",
        "        self.files = []\n",
        "        self.filelabels = []\n",
        "        self.labels = {}\n",
        "        for ix, key in enumerate(classes):\n",
        "            self.labels[key] = ix\n",
        "\n",
        "        for label in classes:\n",
        "            for file in (folder / label).glob(\"*.txt\"):\n",
        "                self.files.append(file.read_text() if load else file)\n",
        "                self.filelabels.append(self.labels[label])\n",
        "\n",
        "    def __len__(self):\n",
        "        return len(self.filelabels)\n",
        "\n",
        "    def __getitem__(self, ix):\n",
        "        s = self.files[ix]\n",
        "        return self.tokenizer(s if isinstance(s, str) else s.read_text()), self.filelabels[ix]\n",
        "    def get_txt(self,ix):\n",
        "        s = self.files[ix]\n",
        "        return s if isinstance(s,str) else s.read_text(), self.filelabels[ix]\n",
        "\n",
        "def get_imdb_data(embedding_size=50):\n",
        "    \"\"\"Renvoie l'ensemble des donnéees nécessaires pour l'apprentissage (embedding_size = [50,100,200,300])\n",
        "\n",
        "    - dictionnaire word vers ID\n",
        "    - embeddings (Glove)\n",
        "    - DataSet (FolderText) train\n",
        "    - DataSet (FolderText) test\n",
        "\n",
        "    \"\"\"\n",
        "    WORDS = re.compile(r\"\\S+\")\n",
        "\n",
        "    words, embeddings = prepare_dataset(\n",
        "        'edu.stanford.glove.6b.%d' % embedding_size).load()\n",
        "    OOVID = len(words)\n",
        "    words.append(\"__OOV__\")\n",
        "    word2id = {word: ix for ix, word in enumerate(words)}\n",
        "    embeddings = np.vstack((embeddings, np.zeros(embedding_size)))\n",
        "\n",
        "    def tokenizer(t):\n",
        "        return [word2id.get(x, OOVID) for x in re.findall(WORDS, t.lower())]\n",
        "\n",
        "    logging.info(\"Loading embeddings\")\n",
        "\n",
        "    logging.info(\"Get the IMDB dataset\")\n",
        "    ds = prepare_dataset(\"edu.stanford.aclimdb\")\n",
        "\n",
        "    return word2id, embeddings, FolderText(ds.train.classes, ds.train.path, tokenizer, load=False), FolderText(ds.test.classes, ds.test.path, tokenizer, load=False)\n"
      ],
      "metadata": {
        "id": "CkGBZtNYLQMu"
      },
      "execution_count": null,
      "outputs": []
    },
    {
      "cell_type": "code",
      "source": [
        "device = torch.device(\"cuda\" if torch.cuda.is_available() else \"cpu\")\n",
        "print(device)\n",
        "\n",
        "emb_size = 100\n",
        "batch_size = 200\n",
        "\n",
        "word2id, embeddings, train_data, test_data = get_imdb_data(emb_size)\n",
        "id2word = dict((v, k) for k, v in word2id.items())\n",
        "PAD = word2id[\"__OOV__\"]\n",
        "\n",
        "embeddings = torch.Tensor(embeddings)\n",
        "emb_layer = nn.Embedding.from_pretrained(torch.Tensor(embeddings), freeze=False)\n",
        "\n",
        "\n",
        "def collate(batch):\n",
        "    \"\"\" Collate function for DataLoader \"\"\"\n",
        "    data = [torch.LongTensor(item[0][:MAX_LENGTH]) for item in batch]\n",
        "    lens = [len(d) for d in data]\n",
        "    labels = [item[1] for item in batch]\n",
        "    return emb_layer(torch.nn.utils.rnn.pad_sequence(data, batch_first=True,padding_value = PAD)).to(device), torch.LongTensor(labels).to(device), torch.Tensor(lens).to(device)\n",
        "\n",
        "\n",
        "train_loader = DataLoader(train_data, shuffle=True,\n",
        "                      batch_size=batch_size, collate_fn=collate)\n",
        "test_loader = DataLoader(test_data, batch_size=batch_size,collate_fn=collate,shuffle=False)"
      ],
      "metadata": {
        "id": "Twe-ZiSeM7Vk",
        "colab": {
          "base_uri": "https://localhost:8080/"
        },
        "outputId": "fc3d2155-4f50-44e3-cdf0-323fefc312d4"
      },
      "execution_count": null,
      "outputs": [
        {
          "output_type": "stream",
          "name": "stdout",
          "text": [
            "cuda\n"
          ]
        },
        {
          "output_type": "stream",
          "name": "stderr",
          "text": [
            "INFO:root:Loading embeddings\n",
            "INFO:root:Get the IMDB dataset\n"
          ]
        }
      ]
    },
    {
      "cell_type": "code",
      "source": [
        "class attentionLayer(nn.Module):\n",
        "    \"\"\"\n",
        "    This class defines the structure of a attention model\n",
        "    \"\"\"\n",
        "\n",
        "    def __init__(self, nfeatures, residual):\n",
        "        super(attentionLayer, self).__init__()\n",
        "        self.query = nn.Linear(nfeatures, nfeatures)\n",
        "        self.key = nn.Linear(nfeatures, nfeatures)\n",
        "        self.value = nn.Linear(nfeatures, nfeatures)\n",
        "        \n",
        "        self.residual = residual\n",
        "        self.nfeatures = nfeatures\n",
        "\n",
        "        if self.residual:\n",
        "            self.norm = nn.LayerNorm(nfeatures)\n",
        "\n",
        "        self.fc = nn.Linear(nfeatures,nfeatures)\n",
        "        self.relu = nn.ReLU()\n",
        "        \n",
        "    def forward(self, X):\n",
        "        \n",
        "        Q = self.query(X)\n",
        "        K = self.key(X)\n",
        "        V = self.value(X)\n",
        "\n",
        "        probs = torch.softmax(torch.bmm(Q,K.transpose(1, 2))/math.sqrt(self.nfeatures), dim=2)\n",
        "\n",
        "        X_next = torch.bmm(probs, V)\n",
        "        if self.residual:\n",
        "            X_next = self.norm(X_next + X)\n",
        "        out = self.relu(self.fc(X_next))\n",
        "        \n",
        "        return out"
      ],
      "metadata": {
        "id": "DjlP-Ou2TWEs"
      },
      "execution_count": null,
      "outputs": []
    },
    {
      "cell_type": "code",
      "source": [
        "class selfAttentionModel(nn.Module):\n",
        "    \"\"\"\n",
        "    This class defines the structure of a self attention model\n",
        "    \"\"\"\n",
        "\n",
        "    def __init__(self,nfeatures = 100, nlayers = 3,output_size = 2, residual = False, positional_embedding = False, CLS = False):\n",
        "        super(selfAttentionModel, self).__init__()\n",
        "\n",
        "        max_len = MAX_LENGTH +1 if CLS else MAX_LENGTH\n",
        "        self.positional_embedding = positional_embedding\n",
        "        self.CLS = CLS\n",
        "        if CLS:\n",
        "            self.CLS_embedding = nn.Linear(1, nfeatures)\n",
        "        if positional_embedding:\n",
        "            self.pos = PositionalEncoding(nfeatures, max_len)\n",
        "        \n",
        "\n",
        "        self.attention = nn.ModuleList([attentionLayer(nfeatures, residual).to(device) for _ in range(nlayers)])\n",
        "        self.fc = nn.Linear(nfeatures, output_size)\n",
        "        \n",
        "    def forward(self, X):\n",
        "\n",
        "        if self.CLS:\n",
        "            CLS = torch.tensor([1],dtype=torch.float).to(device)\n",
        "            CLS_emb = self.CLS_embedding(CLS.unsqueeze(0))\n",
        "            CLS_emb = CLS_emb.repeat(X.shape[0],1,1) #put them in the same dimension\n",
        "            X = torch.cat((CLS_emb, X), dim = 1)\n",
        "\n",
        "        if self.positional_embedding:\n",
        "            X = self.pos(X)\n",
        "\n",
        "        for att in self.attention:\n",
        "            X = att(X)\n",
        "\n",
        "        if self.CLS:\n",
        "          return self.fc(X[:, 0])\n",
        "\n",
        "        return self.fc(torch.mean(X,axis = 1))"
      ],
      "metadata": {
        "id": "1wdPJ3G2Tb1y"
      },
      "execution_count": null,
      "outputs": []
    },
    {
      "cell_type": "code",
      "source": [
        "def train(train_loader, model):\n",
        "  \n",
        "  optimizer = torch.optim.Adam(model.parameters(), 0.003)\n",
        "\n",
        "  model.train()\n",
        "\n",
        "  losses = []\n",
        "  acc = []\n",
        "  for epoch in range(nepochs):\n",
        "      l=0\n",
        "      right_pred=0\n",
        "      for i, (inp, lab, sizes) in enumerate(train_loader):\n",
        "          inp = inp.to(device)\n",
        "          lab = lab.to(device).long()\n",
        "          \n",
        "          out = model(inp)\n",
        "          loss = criterion(out, lab)\n",
        "          right_pred += sum((out.argmax(axis=1) == lab)).item()\n",
        "          \n",
        "          optimizer.zero_grad()\n",
        "          loss.backward()\n",
        "          optimizer.step()\n",
        "          \n",
        "          l+=loss.item()\n",
        "          \n",
        "      acc.append(right_pred/len(train_data))\n",
        "      losses.append(l/i)\n",
        "      print(\"Epoch:\", epoch, \"loss:\", losses[epoch], \"accuracy:\", acc[epoch])\n",
        "\n",
        "def test(test_loader):\n",
        "  model.eval()\n",
        "  right_pred=0\n",
        "  l=0\n",
        "  for i, (inp, lab, sizes) in enumerate(test_loader):\n",
        "      inp = inp.to(device)\n",
        "      lab = lab.to(device).long()\n",
        "      \n",
        "      out = model(inp)\n",
        "      loss = criterion(out, lab)\n",
        "      right_pred += sum((out.argmax(axis=1) == lab)).item()\n",
        "      \n",
        "      l+=loss.item()\n",
        "      i+=1\n",
        "        \n",
        "  print(\"Test loss:\", l/i, \"accuracy:\", right_pred/len(test_data))"
      ],
      "metadata": {
        "id": "9x0LsmVUQRI7"
      },
      "execution_count": null,
      "outputs": []
    },
    {
      "cell_type": "markdown",
      "source": [
        "No residual, no positional embedding and no CLS"
      ],
      "metadata": {
        "id": "AnJ-I4NYLxJm"
      }
    },
    {
      "cell_type": "code",
      "source": [
        "model = selfAttentionModel().to(device)\n",
        "\n",
        "criterion = nn.CrossEntropyLoss().to(device)\n",
        "#optimizer = torch.optim.Adam(chain(model.parameters(), emb_layer.parameters()), 0.003)\n",
        "\n",
        "nepochs=5\n",
        "\n",
        "print(\"Train\")\n",
        "train(train_loader, model)\n",
        "print(\"Evaluation\")\n",
        "test(test_loader)"
      ],
      "metadata": {
        "colab": {
          "base_uri": "https://localhost:8080/"
        },
        "id": "d-bhAj_Kw-_r",
        "outputId": "0f68fe92-606b-418a-f69f-70f05b357665"
      },
      "execution_count": null,
      "outputs": [
        {
          "output_type": "stream",
          "name": "stdout",
          "text": [
            "Train\n",
            "Epoch: 0 loss: 0.5570387503793163 accuracy: 0.70416\n",
            "Epoch: 1 loss: 0.42657091564709143 accuracy: 0.80632\n",
            "Epoch: 2 loss: 0.4082384508463644 accuracy: 0.81548\n",
            "Epoch: 3 loss: 0.3927518189434082 accuracy: 0.82472\n",
            "Epoch: 4 loss: 0.40711657438547383 accuracy: 0.8194\n",
            "Evaluation\n",
            "Test loss: 0.38565956223011016 accuracy: 0.82828\n"
          ]
        }
      ]
    },
    {
      "cell_type": "markdown",
      "source": [
        "Residual but no positional embedding and no CLS"
      ],
      "metadata": {
        "id": "ZLG8SxjtL9sS"
      }
    },
    {
      "cell_type": "code",
      "source": [
        "model = selfAttentionModel(residual=True).to(device)\n",
        "\n",
        "print(\"Train\")\n",
        "train(train_loader, model)\n",
        "print(\"Evaluation\")\n",
        "test(test_loader)"
      ],
      "metadata": {
        "colab": {
          "base_uri": "https://localhost:8080/"
        },
        "id": "i6drLgNBL-F6",
        "outputId": "97fe9c53-d218-47f6-dca3-4e015d80e839"
      },
      "execution_count": null,
      "outputs": [
        {
          "output_type": "stream",
          "name": "stdout",
          "text": [
            "Train\n",
            "Epoch: 0 loss: 0.5690509910064359 accuracy: 0.67844\n",
            "Epoch: 1 loss: 0.4041598069090997 accuracy: 0.8208\n",
            "Epoch: 2 loss: 0.36727936289483504 accuracy: 0.8414\n",
            "Epoch: 3 loss: 0.34002666187382513 accuracy: 0.85404\n",
            "Epoch: 4 loss: 0.3264164826081645 accuracy: 0.86176\n",
            "Evaluation\n",
            "Test loss: 0.33634555411338807 accuracy: 0.8512\n"
          ]
        }
      ]
    },
    {
      "cell_type": "markdown",
      "source": [
        "rediual and positional embedding but no CLS"
      ],
      "metadata": {
        "id": "NHm3TiM-M9Xk"
      }
    },
    {
      "cell_type": "code",
      "source": [
        "model = selfAttentionModel(residual=True, positional_embedding=True).to(device)\n",
        "\n",
        "print(\"Train\")\n",
        "train(train_loader, model)\n",
        "print(\"Evaluation\")\n",
        "test(test_loader)"
      ],
      "metadata": {
        "colab": {
          "base_uri": "https://localhost:8080/"
        },
        "id": "J-kDjgDOM54F",
        "outputId": "bd9fa214-55cd-4c40-9e41-6a91e93c31a3"
      },
      "execution_count": null,
      "outputs": [
        {
          "output_type": "stream",
          "name": "stdout",
          "text": [
            "Train\n",
            "Epoch: 0 loss: 0.7026134191020843 accuracy: 0.50384\n",
            "Epoch: 1 loss: 0.6982528533666365 accuracy: 0.5106\n",
            "Epoch: 2 loss: 0.6108506235384172 accuracy: 0.67412\n",
            "Epoch: 3 loss: 0.5765913277864456 accuracy: 0.70804\n",
            "Epoch: 4 loss: 0.5546919657818733 accuracy: 0.72164\n",
            "Evaluation\n",
            "Test loss: 0.5105567407608033 accuracy: 0.74648\n"
          ]
        }
      ]
    },
    {
      "cell_type": "markdown",
      "source": [
        "rediual, positional embedding and CLS"
      ],
      "metadata": {
        "id": "wmHOKt_DNFe1"
      }
    },
    {
      "cell_type": "code",
      "source": [
        "model = selfAttentionModel(residual=True, positional_embedding=True, CLS=True).to(device)\n",
        "print(\"Train\")\n",
        "train(train_loader, model)\n",
        "print(\"Evaluation\")\n",
        "test(test_loader)"
      ],
      "metadata": {
        "colab": {
          "base_uri": "https://localhost:8080/"
        },
        "id": "zgtzlp0INDoe",
        "outputId": "e331d510-2c14-4d2e-9ac6-640ce32ecfa8"
      },
      "execution_count": null,
      "outputs": [
        {
          "output_type": "stream",
          "name": "stdout",
          "text": [
            "Train\n",
            "Epoch: 0 loss: 0.6590775890696433 accuracy: 0.58608\n",
            "Epoch: 1 loss: 0.5009846516674564 accuracy: 0.76392\n",
            "Epoch: 2 loss: 0.4636459586120421 accuracy: 0.78372\n",
            "Epoch: 3 loss: 0.43648768408644584 accuracy: 0.8\n",
            "Epoch: 4 loss: 0.4221378841227101 accuracy: 0.80884\n",
            "Evaluation\n",
            "Test loss: 0.42838320195674895 accuracy: 0.8102\n"
          ]
        }
      ]
    }
  ]
}