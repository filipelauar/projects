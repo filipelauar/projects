{
  "nbformat": 4,
  "nbformat_minor": 0,
  "metadata": {
    "colab": {
      "name": "SSR pytorch.ipynb",
      "provenance": [],
      "collapsed_sections": [],
      "machine_shape": "hm"
    },
    "kernelspec": {
      "name": "python3",
      "display_name": "Python 3"
    },
    "language_info": {
      "name": "python"
    },
    "widgets": {
      "application/vnd.jupyter.widget-state+json": {
        "d7ea3cedf3e24acdaada044c93efe4aa": {
          "model_module": "@jupyter-widgets/controls",
          "model_name": "HBoxModel",
          "model_module_version": "1.5.0",
          "state": {
            "_view_name": "HBoxView",
            "_dom_classes": [],
            "_model_name": "HBoxModel",
            "_view_module": "@jupyter-widgets/controls",
            "_model_module_version": "1.5.0",
            "_view_count": null,
            "_view_module_version": "1.5.0",
            "box_style": "",
            "layout": "IPY_MODEL_bd7fabff3de6418aa1695677802361fc",
            "_model_module": "@jupyter-widgets/controls",
            "children": [
              "IPY_MODEL_56148c92efee49979a1c25a2e861e9de",
              "IPY_MODEL_f3129bb0dddf4a5f865992acf9241894",
              "IPY_MODEL_ba95eee1d353495cbca1aa537aa4396a"
            ]
          }
        },
        "bd7fabff3de6418aa1695677802361fc": {
          "model_module": "@jupyter-widgets/base",
          "model_name": "LayoutModel",
          "model_module_version": "1.2.0",
          "state": {
            "_view_name": "LayoutView",
            "grid_template_rows": null,
            "right": null,
            "justify_content": null,
            "_view_module": "@jupyter-widgets/base",
            "overflow": null,
            "_model_module_version": "1.2.0",
            "_view_count": null,
            "flex_flow": null,
            "width": null,
            "min_width": null,
            "border": null,
            "align_items": null,
            "bottom": null,
            "_model_module": "@jupyter-widgets/base",
            "top": null,
            "grid_column": null,
            "overflow_y": null,
            "overflow_x": null,
            "grid_auto_flow": null,
            "grid_area": null,
            "grid_template_columns": null,
            "flex": null,
            "_model_name": "LayoutModel",
            "justify_items": null,
            "grid_row": null,
            "max_height": null,
            "align_content": null,
            "visibility": null,
            "align_self": null,
            "height": null,
            "min_height": null,
            "padding": null,
            "grid_auto_rows": null,
            "grid_gap": null,
            "max_width": null,
            "order": null,
            "_view_module_version": "1.2.0",
            "grid_template_areas": null,
            "object_position": null,
            "object_fit": null,
            "grid_auto_columns": null,
            "margin": null,
            "display": null,
            "left": null
          }
        },
        "56148c92efee49979a1c25a2e861e9de": {
          "model_module": "@jupyter-widgets/controls",
          "model_name": "HTMLModel",
          "model_module_version": "1.5.0",
          "state": {
            "_view_name": "HTMLView",
            "style": "IPY_MODEL_6b5bddf28fb14e0ba19e0b6586e806b1",
            "_dom_classes": [],
            "description": "",
            "_model_name": "HTMLModel",
            "placeholder": "​",
            "_view_module": "@jupyter-widgets/controls",
            "_model_module_version": "1.5.0",
            "value": "",
            "_view_count": null,
            "_view_module_version": "1.5.0",
            "description_tooltip": null,
            "_model_module": "@jupyter-widgets/controls",
            "layout": "IPY_MODEL_5d791f83bb2f49dd90e94bfdf9f1f8d3"
          }
        },
        "f3129bb0dddf4a5f865992acf9241894": {
          "model_module": "@jupyter-widgets/controls",
          "model_name": "FloatProgressModel",
          "model_module_version": "1.5.0",
          "state": {
            "_view_name": "ProgressView",
            "style": "IPY_MODEL_a0058275151b47e6a6399a003d96dc1e",
            "_dom_classes": [],
            "description": "",
            "_model_name": "FloatProgressModel",
            "bar_style": "success",
            "max": 170498071,
            "_view_module": "@jupyter-widgets/controls",
            "_model_module_version": "1.5.0",
            "value": 170498071,
            "_view_count": null,
            "_view_module_version": "1.5.0",
            "orientation": "horizontal",
            "min": 0,
            "description_tooltip": null,
            "_model_module": "@jupyter-widgets/controls",
            "layout": "IPY_MODEL_44935b691ff747e88939c81349b61f2d"
          }
        },
        "ba95eee1d353495cbca1aa537aa4396a": {
          "model_module": "@jupyter-widgets/controls",
          "model_name": "HTMLModel",
          "model_module_version": "1.5.0",
          "state": {
            "_view_name": "HTMLView",
            "style": "IPY_MODEL_4bc859cbd9d74d989d44e80c497fd516",
            "_dom_classes": [],
            "description": "",
            "_model_name": "HTMLModel",
            "placeholder": "​",
            "_view_module": "@jupyter-widgets/controls",
            "_model_module_version": "1.5.0",
            "value": " 170499072/? [00:05&lt;00:00, 43576256.25it/s]",
            "_view_count": null,
            "_view_module_version": "1.5.0",
            "description_tooltip": null,
            "_model_module": "@jupyter-widgets/controls",
            "layout": "IPY_MODEL_1696ecfd150f4da89c00048fdf1316bf"
          }
        },
        "6b5bddf28fb14e0ba19e0b6586e806b1": {
          "model_module": "@jupyter-widgets/controls",
          "model_name": "DescriptionStyleModel",
          "model_module_version": "1.5.0",
          "state": {
            "_view_name": "StyleView",
            "_model_name": "DescriptionStyleModel",
            "description_width": "",
            "_view_module": "@jupyter-widgets/base",
            "_model_module_version": "1.5.0",
            "_view_count": null,
            "_view_module_version": "1.2.0",
            "_model_module": "@jupyter-widgets/controls"
          }
        },
        "5d791f83bb2f49dd90e94bfdf9f1f8d3": {
          "model_module": "@jupyter-widgets/base",
          "model_name": "LayoutModel",
          "model_module_version": "1.2.0",
          "state": {
            "_view_name": "LayoutView",
            "grid_template_rows": null,
            "right": null,
            "justify_content": null,
            "_view_module": "@jupyter-widgets/base",
            "overflow": null,
            "_model_module_version": "1.2.0",
            "_view_count": null,
            "flex_flow": null,
            "width": null,
            "min_width": null,
            "border": null,
            "align_items": null,
            "bottom": null,
            "_model_module": "@jupyter-widgets/base",
            "top": null,
            "grid_column": null,
            "overflow_y": null,
            "overflow_x": null,
            "grid_auto_flow": null,
            "grid_area": null,
            "grid_template_columns": null,
            "flex": null,
            "_model_name": "LayoutModel",
            "justify_items": null,
            "grid_row": null,
            "max_height": null,
            "align_content": null,
            "visibility": null,
            "align_self": null,
            "height": null,
            "min_height": null,
            "padding": null,
            "grid_auto_rows": null,
            "grid_gap": null,
            "max_width": null,
            "order": null,
            "_view_module_version": "1.2.0",
            "grid_template_areas": null,
            "object_position": null,
            "object_fit": null,
            "grid_auto_columns": null,
            "margin": null,
            "display": null,
            "left": null
          }
        },
        "a0058275151b47e6a6399a003d96dc1e": {
          "model_module": "@jupyter-widgets/controls",
          "model_name": "ProgressStyleModel",
          "model_module_version": "1.5.0",
          "state": {
            "_view_name": "StyleView",
            "_model_name": "ProgressStyleModel",
            "description_width": "",
            "_view_module": "@jupyter-widgets/base",
            "_model_module_version": "1.5.0",
            "_view_count": null,
            "_view_module_version": "1.2.0",
            "bar_color": null,
            "_model_module": "@jupyter-widgets/controls"
          }
        },
        "44935b691ff747e88939c81349b61f2d": {
          "model_module": "@jupyter-widgets/base",
          "model_name": "LayoutModel",
          "model_module_version": "1.2.0",
          "state": {
            "_view_name": "LayoutView",
            "grid_template_rows": null,
            "right": null,
            "justify_content": null,
            "_view_module": "@jupyter-widgets/base",
            "overflow": null,
            "_model_module_version": "1.2.0",
            "_view_count": null,
            "flex_flow": null,
            "width": null,
            "min_width": null,
            "border": null,
            "align_items": null,
            "bottom": null,
            "_model_module": "@jupyter-widgets/base",
            "top": null,
            "grid_column": null,
            "overflow_y": null,
            "overflow_x": null,
            "grid_auto_flow": null,
            "grid_area": null,
            "grid_template_columns": null,
            "flex": null,
            "_model_name": "LayoutModel",
            "justify_items": null,
            "grid_row": null,
            "max_height": null,
            "align_content": null,
            "visibility": null,
            "align_self": null,
            "height": null,
            "min_height": null,
            "padding": null,
            "grid_auto_rows": null,
            "grid_gap": null,
            "max_width": null,
            "order": null,
            "_view_module_version": "1.2.0",
            "grid_template_areas": null,
            "object_position": null,
            "object_fit": null,
            "grid_auto_columns": null,
            "margin": null,
            "display": null,
            "left": null
          }
        },
        "4bc859cbd9d74d989d44e80c497fd516": {
          "model_module": "@jupyter-widgets/controls",
          "model_name": "DescriptionStyleModel",
          "model_module_version": "1.5.0",
          "state": {
            "_view_name": "StyleView",
            "_model_name": "DescriptionStyleModel",
            "description_width": "",
            "_view_module": "@jupyter-widgets/base",
            "_model_module_version": "1.5.0",
            "_view_count": null,
            "_view_module_version": "1.2.0",
            "_model_module": "@jupyter-widgets/controls"
          }
        },
        "1696ecfd150f4da89c00048fdf1316bf": {
          "model_module": "@jupyter-widgets/base",
          "model_name": "LayoutModel",
          "model_module_version": "1.2.0",
          "state": {
            "_view_name": "LayoutView",
            "grid_template_rows": null,
            "right": null,
            "justify_content": null,
            "_view_module": "@jupyter-widgets/base",
            "overflow": null,
            "_model_module_version": "1.2.0",
            "_view_count": null,
            "flex_flow": null,
            "width": null,
            "min_width": null,
            "border": null,
            "align_items": null,
            "bottom": null,
            "_model_module": "@jupyter-widgets/base",
            "top": null,
            "grid_column": null,
            "overflow_y": null,
            "overflow_x": null,
            "grid_auto_flow": null,
            "grid_area": null,
            "grid_template_columns": null,
            "flex": null,
            "_model_name": "LayoutModel",
            "justify_items": null,
            "grid_row": null,
            "max_height": null,
            "align_content": null,
            "visibility": null,
            "align_self": null,
            "height": null,
            "min_height": null,
            "padding": null,
            "grid_auto_rows": null,
            "grid_gap": null,
            "max_width": null,
            "order": null,
            "_view_module_version": "1.2.0",
            "grid_template_areas": null,
            "object_position": null,
            "object_fit": null,
            "grid_auto_columns": null,
            "margin": null,
            "display": null,
            "left": null
          }
        }
      }
    },
    "accelerator": "GPU"
  },
  "cells": [
    {
      "cell_type": "markdown",
      "source": [
        "***This is the implementation of the [Self-supervise, refine, repeat: improving unsupervised anomaly detection](https://openreview.net/pdf?id=Nct9j3BVswZ)\n",
        " paper in Pytorch.***\n",
        "\n",
        " In this notebook you will find the implementation of SSR for both contrastive and rotation losses and using as One Class Classifier OneClassSVM and also Gaussian Mixture + mahalanobis distance. You can apply it in 3 different datasets.\n"
      ],
      "metadata": {
        "id": "cMahkn-FIkYG"
      }
    },
    {
      "cell_type": "code",
      "execution_count": null,
      "metadata": {
        "colab": {
          "base_uri": "https://localhost:8080/"
        },
        "id": "78WCBs5_9Hj0",
        "outputId": "f944ddaa-6173-468c-d4be-f014f96ef1ce"
      },
      "outputs": [
        {
          "output_type": "stream",
          "name": "stdout",
          "text": [
            "cuda\n"
          ]
        }
      ],
      "source": [
        "import pandas as pd\n",
        "import numpy as np\n",
        "import matplotlib.pyplot as plt\n",
        "import copy\n",
        "from sklearn.svm import OneClassSVM\n",
        "from sklearn.model_selection import StratifiedKFold\n",
        "from sklearn.mixture import GaussianMixture\n",
        "\n",
        "from torchvision.models import resnet18\n",
        "import torch\n",
        "from torch import nn\n",
        "from torch import optim\n",
        "\n",
        "from torch.utils.data import Dataset, DataLoader\n",
        "from torch.backends import cudnn\n",
        "\n",
        "import torch.nn.functional as F\n",
        "from torchvision import datasets, transforms\n",
        "from torch.utils.data.sampler import  SubsetRandomSampler \n",
        "\n",
        "device = 'cuda' if torch.cuda.is_available() else 'cpu' \n",
        "print(device)"
      ]
    },
    {
      "cell_type": "markdown",
      "source": [
        "# Pre processing function and dataset classes"
      ],
      "metadata": {
        "id": "F3YB68_0SyUg"
      }
    },
    {
      "cell_type": "code",
      "source": [
        "#pre processing and dataset class\n",
        "\n",
        "#pre processing and dataset class\n",
        "def preprocess_dataset(data, label, nclasses, normal_class=0, abnormal_rate=0.1):\n",
        "  out = []\n",
        "  toPil = transforms.ToPILImage()\n",
        "  for x, y in zip(data, label):\n",
        "    if dataset == 'fmnist':\n",
        "        x = toPil(x.repeat(3,1,1))\n",
        "    elif dataset == 'cifar10':\n",
        "        x = toPil(x)\n",
        "    if y == normal_class:\n",
        "      out.append((x, 0))\n",
        "    else:\n",
        "      if np.random.rand(1) < abnormal_rate/(nclasses-1):\n",
        "        out.append((x, 1))\n",
        "\n",
        "  return out\n",
        "\n",
        "  class ContrastiveDataset(Dataset):\n",
        "    def __init__(self, data, transform=None, contrastive = False):\n",
        "        self.data = data   \n",
        "        self.transform = transform\n",
        "        self.contrastive = contrastive\n",
        "\n",
        "    def __len__(self):\n",
        "        return len(self.data)\n",
        "\n",
        "    def __getitem__(self, idx):\n",
        "        img, label = self.data[idx]\n",
        "        \n",
        "        if self.contrastive:\n",
        "          img1 = self.transform(img)\n",
        "          img2 = self.transform(img)\n",
        "          return img1, img2\n",
        "\n",
        "        return self.transform(img), label\n",
        "\n",
        "class RotationDataset(Dataset):\n",
        "    def __init__(self, data, rotate = False, transform=None):\n",
        "        self.data = data   \n",
        "        self.transform = transform\n",
        "        self.rotate = rotate\n",
        "\n",
        "    def __len__(self):\n",
        "        return len(self.data)\n",
        "\n",
        "    def __getitem__(self, idx):\n",
        "        img, label = self.data[idx]\n",
        "        \n",
        "        if self.rotate:\n",
        "          label = np.random.randint(4)\n",
        "          img = torch.rot90(img, label)\n",
        "\n",
        "        if self.transform:\n",
        "            img = self.transform(img)\n",
        "\n",
        "        return img, label"
      ],
      "metadata": {
        "id": "34if-xR2ZbCR"
      },
      "execution_count": null,
      "outputs": []
    },
    {
      "cell_type": "markdown",
      "source": [
        "# Contrastive\n",
        "\n",
        "Two different implementations of contrastive loss. "
      ],
      "metadata": {
        "id": "QSs6sOKuSA1I"
      }
    },
    {
      "cell_type": "code",
      "source": [
        "#contrastive loss implementation modified from https://github.com/HobbitLong/SupContrast/blob/master/losses.py and https://medium.com/the-owl/simclr-in-pytorch-5f290cb11dd7\n",
        "\n",
        "\n",
        "\n",
        "class SupConLoss(nn.Module):\n",
        "    def __init__(self, temperature=0.07, contrast_mode='all',\n",
        "                 base_temperature=0.07):\n",
        "        super(SupConLoss, self).__init__()\n",
        "        self.temperature = temperature\n",
        "        self.contrast_mode = contrast_mode\n",
        "        self.base_temperature = base_temperature\n",
        "\n",
        "    def forward(self, features):\n",
        "        device = (torch.device('cuda')\n",
        "                  if features.is_cuda\n",
        "                  else torch.device('cpu'))\n",
        "\n",
        "        batch_size = features.shape[0]\n",
        "        mask = torch.eye(batch_size, dtype=torch.float32).to(device)\n",
        "\n",
        "        contrast_count = 2\n",
        "        contrast_feature = torch.cat(torch.unbind(features, dim=1), dim=0)\n",
        "        if self.contrast_mode == 'one':\n",
        "            anchor_feature = features[:, 0]\n",
        "            anchor_count = 1\n",
        "        elif self.contrast_mode == 'all':\n",
        "            anchor_feature = contrast_feature\n",
        "            anchor_count = contrast_count\n",
        "        else:\n",
        "            raise ValueError('Unknown mode: {}'.format(self.contrast_mode))\n",
        "\n",
        "        # compute logits\n",
        "        anchor_dot_contrast = torch.div(\n",
        "            torch.matmul(anchor_feature, contrast_feature.T),\n",
        "            self.temperature)\n",
        "        # for numerical stability\n",
        "        logits_max, _ = torch.max(anchor_dot_contrast, dim=1, keepdim=True)\n",
        "        logits = anchor_dot_contrast - logits_max.detach()\n",
        "\n",
        "        # tile mask\n",
        "        mask = mask.repeat(anchor_count, contrast_count)\n",
        "        # mask-out self-contrast cases\n",
        "        logits_mask = torch.scatter(\n",
        "            torch.ones_like(mask),\n",
        "            1,\n",
        "            torch.arange(batch_size * anchor_count).view(-1, 1).to(device),\n",
        "            0\n",
        "        )\n",
        "        mask = mask * logits_mask\n",
        "\n",
        "        # compute log_prob\n",
        "        exp_logits = torch.exp(logits) * logits_mask\n",
        "        log_prob = logits - torch.log(exp_logits.sum(1, keepdim=True))\n",
        "\n",
        "        # compute mean of log-likelihood over positive\n",
        "        mean_log_prob_pos = (mask * log_prob).sum(1) / mask.sum(1)\n",
        "\n",
        "        # loss\n",
        "        loss = - (self.temperature / self.base_temperature) * mean_log_prob_pos\n",
        "        loss = loss.view(anchor_count, batch_size).mean()\n",
        "\n",
        "        return loss\n",
        "\n",
        "\n",
        "class NT_Xent(nn.Module):\n",
        "    def __init__(self, temperature=0.07):\n",
        "        super(NT_Xent, self).__init__()\n",
        "        self.temperature = temperature\n",
        "\n",
        "        self.criterion = nn.CrossEntropyLoss(reduction=\"sum\")\n",
        "        self.similarity_f = nn.CosineSimilarity(dim=2)\n",
        "\n",
        "    def mask_correlated_samples(self, batch_size):\n",
        "        N = 2 * batch_size\n",
        "        mask = torch.ones((N, N), dtype=bool)\n",
        "        mask = mask.fill_diagonal_(0)\n",
        "        for i in range(batch_size):\n",
        "            mask[i, batch_size + i] = 0\n",
        "            mask[batch_size + i, i] = 0\n",
        "        return mask\n",
        "\n",
        "    def forward(self, features):\n",
        "        \"\"\"\n",
        "        We do not sample negative examples explicitly.\n",
        "        Instead, given a positive pair, similar to (Chen et al., 2017), we treat the other 2(N − 1) augmented examples within a minibatch as negative examples.\n",
        "        \"\"\"\n",
        "        batch_size = features.shape[0]\n",
        "        N = 2 * batch_size\n",
        "\n",
        "        z = torch.cat(torch.unbind(features, dim=1), dim=0)\n",
        "        mask = self.mask_correlated_samples(batch_size)\n",
        "\n",
        "        sim = self.similarity_f(z.unsqueeze(1), z.unsqueeze(0)) / self.temperature\n",
        "\n",
        "        sim_i_j = torch.diag(sim, batch_size)\n",
        "        sim_j_i = torch.diag(sim, -batch_size)\n",
        "\n",
        "        # We have 2N samples, but with Distributed training every GPU gets N examples too, resulting in: 2xNxN\n",
        "        positive_samples = torch.cat((sim_i_j, sim_j_i), dim=0).reshape(N, 1)\n",
        "        negative_samples = sim[mask].reshape(N, -1)\n",
        "\n",
        "        labels = torch.zeros(N).to(positive_samples.device).long()\n",
        "        logits = torch.cat((positive_samples, negative_samples), dim=1)\n",
        "        loss = self.criterion(logits, labels)\n",
        "        loss /= N\n",
        "        return loss"
      ],
      "metadata": {
        "id": "B6dQIDRnQH_M"
      },
      "execution_count": null,
      "outputs": []
    },
    {
      "cell_type": "markdown",
      "source": [
        "Contrastive model"
      ],
      "metadata": {
        "id": "8ARvTS6vSJFK"
      }
    },
    {
      "cell_type": "code",
      "source": [
        "class PreModel(nn.Module):\n",
        "    def __init__(self, hidden_dim=128):\n",
        "        super().__init__()\n",
        "        \n",
        "        #PRETRAINED MODEL\n",
        "        self.pretrained = resnet18(pretrained=False, num_classes=4 * hidden_dim)\n",
        "        \n",
        "        self.projectionHead = nn.Sequential(\n",
        "            nn.ReLU(inplace=True),\n",
        "            nn.Linear(4 * hidden_dim, hidden_dim),\n",
        "        )\n",
        "\n",
        "    def forward(self,x):\n",
        "        \n",
        "        out = self.pretrained(x)\n",
        "        out = self.projectionHead(out)\n",
        "        \n",
        "        return out"
      ],
      "metadata": {
        "id": "avWtcqEjzWyH"
      },
      "execution_count": null,
      "outputs": []
    },
    {
      "cell_type": "markdown",
      "source": [
        "# OCC score"
      ],
      "metadata": {
        "id": "aQYdyw-fSPDB"
      }
    },
    {
      "cell_type": "code",
      "source": [
        "def score_samples(data, occ):\n",
        "    '''OCC has to be 1-component gaussian model'''\n",
        "    #calculate Mahalanobis distance\n",
        "    mahalanobis = []\n",
        "    mu = occ.means_\n",
        "    sigmainv = np.linalg.inv(occ.covariances_)\n",
        "\n",
        "    for d in data:\n",
        "      res = np.dot((d-mu), np.dot(sigmainv, (d-mu).T))\n",
        "      mahalanobis.append(res)\n",
        "\n",
        "    return np.asarray(mahalanobis)"
      ],
      "metadata": {
        "id": "1RwNG5NhSR6q"
      },
      "execution_count": null,
      "outputs": []
    },
    {
      "cell_type": "markdown",
      "source": [
        "# Training and feature extraction functions\n",
        "\n",
        "Training function for both rotation and contrastive"
      ],
      "metadata": {
        "id": "4c01asBDSUXR"
      }
    },
    {
      "cell_type": "code",
      "source": [
        "#Training functions\n",
        "    \n",
        "\n",
        "def train(model, data, criterion, optimizer, epoch):\n",
        "    transform = transforms.Compose([\n",
        "        transforms.ToTensor(),\n",
        "        transforms.Normalize((0.5,), (0.5,)),])\n",
        "  \n",
        "    data = RotationDataset(data, transform=transform)\n",
        "\n",
        "    batch_size = 100\n",
        "    train_loader = DataLoader(data, batch_size, drop_last=True)\n",
        "\n",
        "    l, i=0, 0\n",
        "    model.train()\n",
        "    for i, (x, y) in enumerate(train_loader):\n",
        "        x = x.float().to(device)\n",
        "        y = y.to(device)\n",
        "        \n",
        "        yhat = model(x)\n",
        "        loss = criterion(yhat, y)\n",
        "        \n",
        "        loss.backward()\n",
        "        optimizer.step()\n",
        "        \n",
        "        l+=loss.item()\n",
        "\n",
        "    del data\n",
        "    del train_loader\n",
        "        \n",
        "    print(\"Epoch:\", epoch+1, \"self-supervised rotation loss:\", l/i)\n",
        "    return l/i\n",
        "\n",
        "def extract_features(data, model):\n",
        "  transform = transforms.Compose([\n",
        "        transforms.ToTensor(),\n",
        "        transforms.Normalize((0.5,), (0.5,)),])\n",
        "  \n",
        "  data = RotationDataset(data, transform=transform)\n",
        "  \n",
        "  batch_size = 100\n",
        "  train_loader = DataLoader(data, batch_size, shuffle=False, drop_last=False)\n",
        "\n",
        "  model.eval()\n",
        "  out = []\n",
        "  for inps, labs in train_loader:\n",
        "      inps, labs = inps.float().to(device), labs.to(device)\n",
        "      features = model.feature_extractor(inps).squeeze(2).squeeze(2)\n",
        "      out.append(features)\n",
        "\n",
        "  del data\n",
        "  del train_loader\n",
        "  \n",
        "  #return the extracted features\n",
        "  return torch.cat(out,dim=0).cpu().detach().numpy()\n",
        "  \n",
        "class ContrastiveDataset(Dataset):\n",
        "    def __init__(self, data, transform=None, contrastive = False):\n",
        "        self.data = data   \n",
        "        self.transform = transform\n",
        "        self.contrastive = contrastive\n",
        "\n",
        "    def __len__(self):\n",
        "        return len(self.data)\n",
        "\n",
        "    def __getitem__(self, idx):\n",
        "        img, label = self.data[idx]\n",
        "        \n",
        "        if self.contrastive:\n",
        "          img1 = self.transform(img)\n",
        "          img2 = self.transform(img)\n",
        "          return img1, img2\n",
        "\n",
        "        return self.transform(img), label\n",
        "\n",
        "class RotationDataset(Dataset):\n",
        "    def __init__(self, data, rotate = False, transform=None):\n",
        "        self.data = data   \n",
        "        self.transform = transform\n",
        "        self.rotate = rotate\n",
        "\n",
        "    def __len__(self):\n",
        "        return len(self.data)\n",
        "\n",
        "    def __getitem__(self, idx):\n",
        "        img, label = self.data[idx]\n",
        "        \n",
        "        if self.rotate:\n",
        "          label = np.random.randint(4)\n",
        "          img = torch.rot90(img, label)\n",
        "\n",
        "        if self.transform:\n",
        "            img = self.transform(img)\n",
        "\n",
        "        return img, label\n",
        "\n",
        "def train_contrastive(model, data, criterion, optimizer, epoch):\n",
        "    contrast_transforms = transforms.Compose(\n",
        "      [\n",
        "          transforms.RandomHorizontalFlip(),\n",
        "          transforms.RandomResizedCrop(size=28),\n",
        "          transforms.RandomApply([transforms.ColorJitter(brightness=0.5, contrast=0.5, saturation=0.5, hue=0.1)], p=0.8),\n",
        "          transforms.RandomGrayscale(p=0.2),\n",
        "          transforms.GaussianBlur(kernel_size=9),\n",
        "          transforms.ToTensor(),\n",
        "          transforms.Normalize((0.5,), (0.5,)),\n",
        "      ]\n",
        "  )\n",
        "    \n",
        "    batch_size = 100\n",
        "    data = ContrastiveDataset(data, transform=contrast_transforms, contrastive=True)\n",
        "    \n",
        "    train_loader = DataLoader(data, batch_size, drop_last=True)\n",
        "\n",
        "    l, i=0, 0\n",
        "    model.train()\n",
        "    for i, (x1, x2) in enumerate(train_loader):\n",
        "        x1 = x1.float().to(device)\n",
        "        x2 = x2.float().to(device)\n",
        "        \n",
        "        y1 = model(x1).unsqueeze(1)\n",
        "        y2 = model(x1).unsqueeze(1)\n",
        "\n",
        "        y = torch.cat([y1,y2], dim=1)\n",
        "\n",
        "        loss = criterion(y)\n",
        "        \n",
        "        loss.backward()\n",
        "        optimizer.step()\n",
        "        \n",
        "        l+=loss.item()\n",
        "\n",
        "    del data\n",
        "    del train_loader\n",
        "    \n",
        "    print(\"Epoch:\", epoch+1, \"self-supervised contrastive loss:\", l/i)\n",
        "    return l/i\n",
        "\n",
        "def extract_features_contrastive(data, model):\n",
        "  transform = transforms.Compose([\n",
        "        transforms.ToTensor(),\n",
        "        transforms.Normalize((0.5,), (0.5,)),])\n",
        "  \n",
        "  batch_size = 100\n",
        "\n",
        "  data = ContrastiveDataset(data, transform=transform, contrastive=False)\n",
        "\n",
        "  \n",
        "  train_loader = DataLoader(data, batch_size, shuffle=False, drop_last=False)\n",
        "\n",
        "  model.eval()\n",
        "  out = []\n",
        "  for inps, labs in train_loader:\n",
        "      inps, labs = inps.float().to(device), labs.to(device)\n",
        "      features = model(inps).squeeze(1)\n",
        "      out.append(features)\n",
        "\n",
        "  del data\n",
        "  del train_loader\n",
        "  \n",
        "  #return the extracted features\n",
        "  return torch.cat(out,dim=0).cpu().detach().numpy()"
      ],
      "metadata": {
        "id": "io95XfvaSbhB"
      },
      "execution_count": null,
      "outputs": []
    },
    {
      "cell_type": "markdown",
      "source": [
        "# SSR algorithm\n",
        "\n",
        "Implementation from the paper using Gaussian Mixture model as OCC"
      ],
      "metadata": {
        "id": "ythTibGESl7x"
      }
    },
    {
      "cell_type": "code",
      "source": [
        "# SSR algorithm\n",
        "\n",
        "def refine_data(data, model, k, th, occ_type):\n",
        "    if ss_type == 'rotation':\n",
        "      data = extract_features(data, model)\n",
        "    else:\n",
        "      data = extract_features_contrastive(data, model)\n",
        "\n",
        "    models = []\n",
        "\n",
        "    #divide k sets\n",
        "    total_idx = list(range(len(data)))\n",
        "    np.random.shuffle(total_idx)\n",
        "    indices = np.array_split(total_idx, k)\n",
        "    nu = []\n",
        "    #split the data\n",
        "    for idx in indices:\n",
        "        data_hat = data[idx]\n",
        "        #train OCC for disjoint set k\n",
        "        if occ_type == 'svm':\n",
        "          occ = OneClassSVM(kernel='rbf', gamma=.01)\n",
        "        else:\n",
        "          occ = GaussianMixture(n_components=1, covariance_type=\"tied\", reg_covar=1e-02)\n",
        "        occ.fit(data_hat)\n",
        "        #append the nu and the model\n",
        "        if occ_type == 'svm':\n",
        "          nu.append(np.quantile(-occ.score_samples(data_hat), th))\n",
        "        else:\n",
        "          nu.append(np.quantile(score_samples(data_hat, occ), th))\n",
        "        models.append(occ)\n",
        "    \n",
        "    #actual threhshold nu is the maximum threhshold found\n",
        "    nk = max(nu)\n",
        "\n",
        "    y = np.zeros(len(data))\n",
        "    for occ_act in models:\n",
        "        #predict the score samples for each data point for each model\n",
        "        if occ_type == 'svm':\n",
        "          res = -occ.score_samples(data)\n",
        "        else:\n",
        "          res = score_samples(data, occ_act).squeeze(1).squeeze(1)\n",
        "        res2 = res >= nk\n",
        "        y += res2\n",
        "\n",
        "    #if all models predicted as normal, it's a normal data point\n",
        "    normal_idx = np.where(y == 0)[0]\n",
        "    \n",
        "    #return only the index of normal data to update the feature extractor\n",
        "    return normal_idx\n",
        "\n",
        "def SSR(data, k, th, model, nepochs=300, early_stopping=80, verbose=10, occ_type='svm'):\n",
        "  \n",
        "    best_loss = 100000\n",
        "    es = 0\n",
        "\n",
        "    for epoch in range(nepochs):\n",
        "        #refined data, a.k.a. normal data points\n",
        "        refined_data_idx = refine_data(data, model, k, th, occ_type)\n",
        "        #just a trick to iterate over a tuple, can't just do data[refined_data_idx]\n",
        "        data_to_train = [data[index] for index in refined_data_idx]\n",
        "        #train the feature extractor\n",
        "        print('--------------------------------------------------------------------')\n",
        "        \n",
        "        if ss_type == 'rotation':\n",
        "          act_loss = train(model, data_to_train, criterion, optimizer, epoch)\n",
        "        else:\n",
        "          act_loss = train_contrastive(model, data_to_train, criterion, optimizer, epoch)\n",
        "\n",
        "        es+=1\n",
        "        #update best model weights\n",
        "        if act_loss < best_loss:\n",
        "          best_loss = act_loss\n",
        "          es=0\n",
        "          best_model_wts = copy.deepcopy(model.state_dict())\n",
        "\n",
        "        if verbose!= 0 and epoch%verbose == 0:\n",
        "          occ = GaussianMixture(n_components=1, covariance_type=\"tied\", reg_covar=1e-02)\n",
        "          if ss_type == 'rotation':\n",
        "            data_to_train = extract_features(data_to_train, model)\n",
        "          else:\n",
        "            data_to_train = extract_features_contrastive(data_to_train, model)\n",
        "          occ.fit(data_to_train)\n",
        "\n",
        "          #Evaluate on train set\n",
        "          print('Train evaluation')\n",
        "          evaluate(model, occ, data)\n",
        "          print('Test evaluation')\n",
        "          evaluate(model, occ, testset_tuple)\n",
        "\n",
        "        # Early stopping condition\n",
        "        if es >= early_stopping:\n",
        "            break\n",
        "\n",
        "        del data_to_train\n",
        "    \n",
        "    #load the weights of the best epoch\n",
        "    model.load_state_dict(best_model_wts)\n",
        "    #train the final OCC with the refined data\n",
        "    if occ_type=='svm':\n",
        "      occ = OneClassSVM(kernel='rbf', gamma=.01)\n",
        "    else:\n",
        "      occ = GaussianMixture(n_components=1, covariance_type=\"tied\", reg_covar=1e-02)\n",
        "      \n",
        "    refined_data_idx = refine_data(data, model, k, th, occ_type)\n",
        "    data_to_extract = [data[index] for index in refined_data_idx]\n",
        "\n",
        "    if ss_type == 'rotation':\n",
        "      refined_data = extract_features(data_to_extract, model)\n",
        "    else:\n",
        "      refined_data = extract_features_contrastive(data_to_extract, model)\n",
        "\n",
        "    occ.fit(refined_data)\n",
        "    \n",
        "    return refined_data_idx, occ, model"
      ],
      "metadata": {
        "id": "3vqlgIkd9c-R"
      },
      "execution_count": null,
      "outputs": []
    },
    {
      "cell_type": "markdown",
      "source": [
        "# Evaluation functions"
      ],
      "metadata": {
        "id": "xfX6lbVySvGp"
      }
    },
    {
      "cell_type": "code",
      "source": [
        "#Evaluation metrics\n",
        "\n",
        "from sklearn import metrics\n",
        "\n",
        "def anomaly_ratio_prediction(pred, data):\n",
        "  nAnomalies = sum(pred)\n",
        "  sNormals, sAnormals = 0, 0\n",
        "  for i in range(len(pred)):\n",
        "      if pred[i] == 1:\n",
        "        if data[i][1] == 0:\n",
        "          sNormals+=1\n",
        "        else:\n",
        "          sAnormals+=1\n",
        "\n",
        "  removedNormalSamples, removedAnormalSamples = sNormals/nAnomalies, sAnormals/nAnomalies\n",
        "\n",
        "  return removedNormalSamples, removedAnormalSamples\n",
        "\n",
        "def average_precision(pred, data):\n",
        "  y = []\n",
        "  for i in range(len(pred)):\n",
        "      y.append(data[i][1])\n",
        "\n",
        "  return metrics.average_precision_score(y, pred)\n",
        "\n",
        "def f1(pred, data):\n",
        "  y = []\n",
        "  for i in range(len(pred)):\n",
        "      y.append(data[i][1])\n",
        "\n",
        "  return metrics.f1_score(y, pred)\n",
        "\n",
        "def auc(pred, data):\n",
        "  y = []\n",
        "  for i in range(len(pred)):\n",
        "      y.append(data[i][1])\n",
        "\n",
        "  fpr, tpr, thresholds = metrics.roc_curve(y, pred)\n",
        "\n",
        "  return metrics.auc(fpr, tpr)\n",
        "\n",
        "\n",
        "\n",
        "def evaluate(model, occ, data):\n",
        "  if ss_type == 'rotation':\n",
        "    extracted_data = extract_features(data, model)\n",
        "  else:\n",
        "    extracted_data = extract_features_contrastive(data, model)\n",
        "  score = score_samples(extracted_data, occ).squeeze(1).squeeze(1)\n",
        "  \n",
        "  final_th = np.quantile(score, th)\n",
        "  pred = [int(preds) for preds in score > final_th]\n",
        "  \n",
        "  print(\"F1: {:.2f}  AUC: {:.2f}  Average precision: {:.2f}\".format(f1(pred, data), auc(pred, data), average_precision(pred, data)))\n"
      ],
      "metadata": {
        "id": "_K8ZgGc4GRM-"
      },
      "execution_count": null,
      "outputs": []
    },
    {
      "cell_type": "markdown",
      "source": [
        "# Fashion MNIST, Cifar10 and cat vs dog"
      ],
      "metadata": {
        "id": "Sjk1pTzUBV1W"
      }
    },
    {
      "cell_type": "code",
      "source": [
        "#Define dataset and model\n",
        "\n",
        "dataset = 'cifar10'\n",
        "ss_type='contrastive'"
      ],
      "metadata": {
        "id": "C_pyacWja0oM"
      },
      "execution_count": null,
      "outputs": []
    },
    {
      "cell_type": "code",
      "source": [
        "#Download cat vs dog dataset\n",
        "if dataset=='catdog':\n",
        "  !wget -c https://s3.amazonaws.com/content.udacity-data.com/nd089/Cat_Dog_data.zip\n",
        "\n",
        "  # remove existing directories\n",
        "  !rm -r Cat_Dog_data __MACOSX || true\n",
        "  !unzip -qq Cat_Dog_data.zip"
      ],
      "metadata": {
        "id": "hIT8BiN9aIyp"
      },
      "execution_count": null,
      "outputs": []
    },
    {
      "cell_type": "code",
      "source": [
        "#Load datasets\n",
        "transform = transforms.Compose([]) \n",
        "\n",
        "if dataset == 'catdog':\n",
        "  catDog_transforms = transforms.Compose([transforms.Resize((224,224)),])\n",
        "  trainset = datasets.ImageFolder('Cat_Dog_data/train', transform=catDog_transforms)\n",
        "  trainset.data = [trainset[i][0] for i in np.random.randint(0, len(trainset), 5000)] #taking only a small subset of data\n",
        "elif dataset == 'fmnist':\n",
        "  trainset = datasets.FashionMNIST('~/.pytorch/F_MNIST_data', download=True, train=True)\n",
        "else:\n",
        "  trainset = datasets.CIFAR10(root='data/', download=True, transform=transform)\n",
        "\n",
        "#pre process dataset\n",
        "abnormal_rate=0.02\n",
        "trainset_tuple = preprocess_dataset(trainset.data, trainset.targets, len(trainset.classes), abnormal_rate=abnormal_rate)\n",
        "\n",
        "#Test set\n",
        "\n",
        "if dataset == 'catdog':\n",
        "  testset = datasets.ImageFolder('Cat_Dog_data/test', transform=catDog_transforms)\n",
        "elif dataset == 'fmnist':\n",
        "  testset = datasets.FashionMNIST('~/.pytorch/F_MNIST_data', download=True, train=True, transform=transform)\n",
        "else:\n",
        "  testset = datasets.CIFAR10(root='data/', download=True, transform=transform)\n",
        "\n",
        "testset_tuple = preprocess_dataset(testset.data, testset.targets, len(testset.classes), abnormal_rate=abnormal_rate)\n",
        "\n",
        "#del trainset\n",
        "#del testset"
      ],
      "metadata": {
        "id": "rnq41LcDBT3F",
        "colab": {
          "base_uri": "https://localhost:8080/",
          "height": 101,
          "referenced_widgets": [
            "d7ea3cedf3e24acdaada044c93efe4aa",
            "bd7fabff3de6418aa1695677802361fc",
            "56148c92efee49979a1c25a2e861e9de",
            "f3129bb0dddf4a5f865992acf9241894",
            "ba95eee1d353495cbca1aa537aa4396a",
            "6b5bddf28fb14e0ba19e0b6586e806b1",
            "5d791f83bb2f49dd90e94bfdf9f1f8d3",
            "a0058275151b47e6a6399a003d96dc1e",
            "44935b691ff747e88939c81349b61f2d",
            "4bc859cbd9d74d989d44e80c497fd516",
            "1696ecfd150f4da89c00048fdf1316bf"
          ]
        },
        "outputId": "3d5dd3f0-ae65-4f04-edd5-fcf03c319ef0"
      },
      "execution_count": null,
      "outputs": [
        {
          "output_type": "stream",
          "name": "stdout",
          "text": [
            "Downloading https://www.cs.toronto.edu/~kriz/cifar-10-python.tar.gz to data/cifar-10-python.tar.gz\n"
          ]
        },
        {
          "output_type": "display_data",
          "data": {
            "application/vnd.jupyter.widget-view+json": {
              "model_id": "d7ea3cedf3e24acdaada044c93efe4aa",
              "version_minor": 0,
              "version_major": 2
            },
            "text/plain": [
              "  0%|          | 0/170498071 [00:00<?, ?it/s]"
            ]
          },
          "metadata": {}
        },
        {
          "output_type": "stream",
          "name": "stdout",
          "text": [
            "Extracting data/cifar-10-python.tar.gz to data/\n",
            "Files already downloaded and verified\n"
          ]
        }
      ]
    },
    {
      "cell_type": "markdown",
      "source": [
        "# Comparision between SRR and without SRR."
      ],
      "metadata": {
        "id": "6ybWYRcba_bp"
      }
    },
    {
      "cell_type": "code",
      "source": [
        "#plot graphs\n",
        "\n",
        "auc_score = []\n",
        "auc_score_srr = []\n",
        "\n",
        "abn_rates = [0.02,  0.1]\n",
        "seeds = [1,2]\n",
        "\n",
        "occ_type='svm'\n",
        "ss_type='contrastive'\n",
        "\n",
        "for abnormal_rate in abn_rates:\n",
        "  auc_score_seed = []\n",
        "  auc_score_srr_seed = [] \n",
        "  trainset_tuple = preprocess_dataset(trainset.data, trainset.targets, len(trainset.classes), abnormal_rate=abnormal_rate)\n",
        "  testset_tuple = preprocess_dataset(testset.data, testset.targets, len(testset.classes), abnormal_rate=abnormal_rate)\n",
        "\n",
        "  for seed in seeds:\n",
        "    torch.manual_seed(seed)\n",
        "    #SRR\n",
        "    if ss_type == 'rotation':\n",
        "      rotations_number = 4\n",
        "      model = resnet18(pretrained=False, num_classes=rotations_number).to(device)\n",
        "      feature_extractor = nn.Sequential(*list(model.children())[:-1])\n",
        "      model.feature_extractor = feature_extractor\n",
        "      criterion = nn.CrossEntropyLoss().to(device)\n",
        "    else:\n",
        "      model = PreModel(hidden_dim=512).to(device)\n",
        "      #criterion = SupConLoss().to(device)\n",
        "      criterion = NT_Xent().to(device)\n",
        "\n",
        "    # Setting the optimiser\n",
        "    optimizer = optim.Adam(model.parameters(),\n",
        "                          lr=2e-5,\n",
        "                          betas=(0.9, 0.999),\n",
        "                          weight_decay=5e-4)\n",
        "    \n",
        "    k=4\n",
        "    th = 1 - (2*abnormal_rate)\n",
        "\n",
        "    refined_data_idx, occ, model = SSR(trainset_tuple, k, th, model, nepochs=1, verbose=1, occ_type=occ_type)\n",
        "\n",
        "    \n",
        "    if ss_type == 'rotation':\n",
        "      data_to_test = extract_features(testset_tuple, model)\n",
        "    else:\n",
        "      data_to_test = extract_features_contrastive(testset_tuple, model)\n",
        "    \n",
        "    if occ_type=='svm':\n",
        "      scores_test = -occ.score_samples(data_to_test)\n",
        "    else:\n",
        "      scores_test = score_samples(data_to_test, occ).squeeze(1).squeeze(1)\n",
        "\n",
        "    ytest = []\n",
        "    for i in range(len(testset_tuple)):\n",
        "        ytest.append(testset_tuple[i][1])\n",
        "\n",
        "    final_th = np.quantile(scores_test, th)\n",
        "    pred_test = [int(preds) for preds in scores_test > final_th]\n",
        "\n",
        "    auc_score_srr_seed.append(auc(pred_test, testset_tuple))\n",
        "\n",
        "    #NO SRR\n",
        "\n",
        "    if ss_type == 'rotation':\n",
        "      rotations_number = 4\n",
        "      model = resnet18(pretrained=False).to(device)\n",
        "      features = model.fc.in_features\n",
        "      model.fc = nn.Linear(in_features=features, out_features=rotations_number, bias=True).to(device)\n",
        "      feature_extractor = nn.Sequential(*list(model.children())[:-1])\n",
        "      model.feature_extractor = feature_extractor\n",
        "      criterion = nn.CrossEntropyLoss().to(device)\n",
        "    else:\n",
        "      model = PreModel(hidden_dim=512).to(device)\n",
        "      #criterion = SupConLoss().to(device)\n",
        "      criterion = NT_Xent().to(device)\n",
        "\n",
        "    # Setting the optimiser\n",
        "    optimizer = optim.Adam(model.parameters(),\n",
        "                          lr=3e-5,\n",
        "                          betas=(0.9, 0.999),\n",
        "                          weight_decay=5e-4)\n",
        "\n",
        "    th = 1 - (2*abnormal_rate)\n",
        "    best_loss = 10000\n",
        "    es=0\n",
        "    for epoch in range(1):\n",
        "      if ss_type == 'rotation':\n",
        "        act_loss = train(model, trainset_tuple, criterion, optimizer, epoch)\n",
        "      else:\n",
        "        act_loss = train_contrastive(model, trainset_tuple, criterion, optimizer, epoch)\n",
        "\n",
        "      es+=1\n",
        "      if act_loss < best_loss:\n",
        "        best_loss = act_loss\n",
        "        es=0\n",
        "      if es>50:\n",
        "        break\n",
        "\n",
        "    if ss_type == 'rotation':\n",
        "      data_to_train = extract_features(trainset_tuple, model)\n",
        "    else:\n",
        "      data_to_train = extract_features_contrastive(trainset_tuple, model)\n",
        "\n",
        "    if ss_type == 'rotation':\n",
        "      data_to_test = extract_features(testset_tuple, model)\n",
        "    else:\n",
        "      data_to_test = extract_features_contrastive(testset_tuple, model)\n",
        "\n",
        "    if occ_type=='svm':\n",
        "      occ = OneClassSVM(kernel='rbf', gamma=.01).fit(data_to_train)\n",
        "      scores_test = -occ.score_samples(data_to_test)\n",
        "    else:\n",
        "      occ = GaussianMixture(n_components=1, covariance_type=\"tied\", reg_covar=5e-02).fit(data_to_train)\n",
        "      scores_test = score_samples(data_to_test, occ).squeeze(1).squeeze(1)\n",
        "\n",
        "    final_th = np.quantile(scores_test, th)\n",
        "    pred_test = [int(preds) for preds in scores_test > final_th]\n",
        "    \n",
        "    auc_score_seed.append(auc(pred_test, testset_tuple))\n",
        "\n",
        "  auc_score.append(auc_score_seed)\n",
        "  auc_score_srr.append(auc_score_srr_seed)"
      ],
      "metadata": {
        "colab": {
          "base_uri": "https://localhost:8080/"
        },
        "id": "a590_ebNC8eA",
        "outputId": "3996fbd9-962d-4513-906e-d78f9e36ebac"
      },
      "execution_count": null,
      "outputs": [
        {
          "output_type": "stream",
          "name": "stdout",
          "text": [
            "--------------------------------------------------------------------\n",
            "Epoch: 1 self-supervised contrastive loss: 0.10415507649304345\n",
            "Train evaluation\n",
            "F1: 0.05  AUC: 0.52  Average precision: 0.02\n",
            "Test evaluation\n",
            "F1: 0.08  AUC: 0.53  Average precision: 0.03\n",
            "Epoch: 1 self-supervised contrastive loss: 0.1761613738418994\n",
            "--------------------------------------------------------------------\n",
            "Epoch: 1 self-supervised contrastive loss: 0.07421724720699514\n",
            "Train evaluation\n",
            "F1: 0.02  AUC: 0.50  Average precision: 0.02\n",
            "Test evaluation\n",
            "F1: 0.04  AUC: 0.51  Average precision: 0.02\n",
            "Epoch: 1 self-supervised contrastive loss: 0.18616596756179873\n",
            "--------------------------------------------------------------------\n",
            "Epoch: 1 self-supervised contrastive loss: 0.11138941794850452\n",
            "Train evaluation\n",
            "F1: 0.16  AUC: 0.53  Average precision: 0.10\n",
            "Test evaluation\n",
            "F1: 0.20  AUC: 0.56  Average precision: 0.11\n",
            "Epoch: 1 self-supervised contrastive loss: 0.2057000065292671\n",
            "--------------------------------------------------------------------\n",
            "Epoch: 1 self-supervised contrastive loss: 0.0784280332086911\n",
            "Train evaluation\n",
            "F1: 0.14  AUC: 0.52  Average precision: 0.09\n",
            "Test evaluation\n",
            "F1: 0.19  AUC: 0.56  Average precision: 0.11\n",
            "Epoch: 1 self-supervised contrastive loss: 0.20932051873730742\n"
          ]
        }
      ]
    },
    {
      "cell_type": "code",
      "source": [
        "avrg_auc, sd_auc = [np.mean(seed) for seed in auc_score], [np.std(seed) for seed in auc_score]\n",
        "avrg_auc_srr, sd_auc_srr = [np.mean(seed) for seed in auc_score_srr], [np.std(seed) for seed in auc_score_srr]\n",
        "ss_type_srr = 'srr + ' + ss_type\n",
        "plt.plot(abn_rates, avrg_auc_srr, '-or', color='blue', label = ss_type_srr)\n",
        "plt.fill_between(abn_rates, [avrg_auc_srr[i] - sd_auc_srr[i] for i in range(len(sd_auc_srr))], [avrg_auc_srr[i] + sd_auc_srr[i] for i in range(len(sd_auc_srr))],\n",
        "                 color='blue', alpha=0.2)\n",
        "\n",
        "plt.plot(abn_rates, avrg_auc, '-or', color='red', label = ss_type)\n",
        "plt.fill_between(abn_rates, [avrg_auc[i] - sd_auc[i] for i in range(len(sd_auc))], [avrg_auc[i] + sd_auc[i] for i in range(len(sd_auc))],\n",
        "                 color='red', alpha=0.2)\n",
        "plt.legend()\n",
        "plt.xlabel(\"Anomaly ratio in the data\")\n",
        "plt.ylabel(\"AUC\")\n",
        "title = dataset + \" dataset\"\n",
        "plt.title(title)\n",
        "\n",
        "plt.show()\n"
      ],
      "metadata": {
        "colab": {
          "base_uri": "https://localhost:8080/",
          "height": 295
        },
        "id": "Ziv2DGlgshLc",
        "outputId": "0f587a67-ceb6-4da4-86bd-a28da08f7b6b"
      },
      "execution_count": null,
      "outputs": [
        {
          "output_type": "display_data",
          "data": {
            "image/png": "[encoded data removed]",
            "text/plain": [
              "<Figure size 432x288 with 1 Axes>"
            ]
          },
          "metadata": {
            "needs_background": "light"
          }
        }
      ]
    },
    {
      "cell_type": "markdown",
      "source": [
        "# SRR"
      ],
      "metadata": {
        "id": "dPNz5e6XpT8t"
      }
    },
    {
      "cell_type": "code",
      "source": [
        "#defining the model and the loss\n",
        "ss_type = 'contrastive'\n",
        "if ss_type == 'rotation':\n",
        "  rotations_number = 4\n",
        "  model = resnet18(pretrained=False, num_classes=rotations_number).to(device)\n",
        "  feature_extractor = nn.Sequential(*list(model.children())[:-1])\n",
        "  model.feature_extractor = feature_extractor\n",
        "  criterion = nn.CrossEntropyLoss().to(device)\n",
        "else:\n",
        "  model = PreModel(hidden_dim=512).to(device)\n",
        "  #criterion = SupConLoss().to(device)\n",
        "  criterion = NT_Xent().to(device)"
      ],
      "metadata": {
        "id": "kSPIS6tgC9V3"
      },
      "execution_count": null,
      "outputs": []
    },
    {
      "cell_type": "code",
      "source": [
        "# Setting the optimiser\n",
        "optimizer = optim.Adam(model.parameters(),\n",
        "                       lr=1e-4,\n",
        "                       betas=(0.9, 0.999),\n",
        "                       weight_decay=5e-4)"
      ],
      "metadata": {
        "id": "-xd-Y6zqjrgR"
      },
      "execution_count": null,
      "outputs": []
    },
    {
      "cell_type": "code",
      "source": [
        "#Run the algorithms\n",
        "k=4\n",
        "th = 1 - (2*abnormal_rate)\n",
        "\n",
        "refined_data_idx, occ, model = SSR(trainset_tuple, k, th, model, nepochs=1, verbose=0, occ_type='svm')"
      ],
      "metadata": {
        "id": "Msig8flSBT5t",
        "colab": {
          "base_uri": "https://localhost:8080/"
        },
        "outputId": "61c21bba-39c5-49dc-df6e-d2fd1b676d04"
      },
      "execution_count": null,
      "outputs": [
        {
          "output_type": "stream",
          "name": "stdout",
          "text": [
            "--------------------------------------------------------------------\n",
            "Epoch: 1 self-supervised contrastive loss: 0.6157949972832792\n"
          ]
        }
      ]
    },
    {
      "cell_type": "code",
      "source": [
        "if ss_type == 'rotation':\n",
        "  data_to_train = extract_features(trainset_tuple, model)\n",
        "else:\n",
        "  data_to_train = extract_features_contrastive(trainset_tuple, model)\n",
        "\n",
        "if ss_type == 'rotation':\n",
        "  data_to_test = extract_features(testset_tuple, model)\n",
        "else:\n",
        "  data_to_test = extract_features_contrastive(testset_tuple, model)\n",
        "\n",
        "\n",
        "\n",
        "scores_train = -occ.score_samples(data_to_train)\n",
        "scores_test = -occ.score_samples(data_to_test)\n",
        "\n",
        "\n",
        "ytrain = []\n",
        "ytest = []\n",
        "for i in range(len(trainset_tuple)):\n",
        "    ytrain.append(trainset_tuple[i][1])\n",
        "\n",
        "for i in range(len(testset_tuple)):\n",
        "    ytest.append(testset_tuple[i][1])\n",
        "\n",
        "final_th = np.quantile(scores_train, th)\n",
        "pred_train = [int(preds) for preds in scores_train > final_th]\n",
        "pred_test = [int(preds) for preds in scores_test > final_th]\n",
        "\n",
        "\n",
        "print('train')\n",
        "print(\"F1: {:.2f}  AUC: {:.2f}  Average precision: {:.2f}\".format(f1(pred_train, trainset_tuple), auc(pred_train, trainset_tuple), average_precision(pred_train, trainset_tuple)))\n",
        "print('test')\n",
        "print(\"F1: {:.2f}  AUC: {:.2f}  Average precision: {:.2f}\".format(f1(pred_test, testset_tuple), auc(pred_test, testset_tuple), average_precision(pred_test, testset_tuple)))"
      ],
      "metadata": {
        "colab": {
          "base_uri": "https://localhost:8080/"
        },
        "id": "1UhqR0jl0yt2",
        "outputId": "e342627d-8a62-4c56-be3d-7a78864a0e8b"
      },
      "execution_count": null,
      "outputs": [
        {
          "output_type": "stream",
          "name": "stdout",
          "text": [
            "train\n",
            "F1: 0.12  AUC: 0.50  Average precision: 0.09\n",
            "test\n",
            "F1: 0.11  AUC: 0.48  Average precision: 0.09\n"
          ]
        }
      ]
    },
    {
      "cell_type": "markdown",
      "source": [
        "# Training without SSR"
      ],
      "metadata": {
        "id": "K26WgwB8OxkP"
      }
    },
    {
      "cell_type": "code",
      "source": [
        "#defining the model and the loss\n",
        "ss_type = ''\n",
        "if ss_type == 'rotation':\n",
        "  rotations_number = 4\n",
        "  model = resnet18(pretrained=False).to(device)\n",
        "  features = model.fc.in_features\n",
        "  model.fc = nn.Linear(in_features=features, out_features=rotations_number, bias=True).to(device)\n",
        "  feature_extractor = nn.Sequential(*list(model.children())[:-1])\n",
        "  model.feature_extractor = feature_extractor\n",
        "  criterion = nn.CrossEntropyLoss().to(device)\n",
        "else:\n",
        "  model = PreModel(hidden_dim=512).to(device)\n",
        "  #criterion = SupConLoss().to(device)\n",
        "  criterion = NT_Xent().to(device)\n",
        "\n",
        "# Setting the optimiser\n",
        "optimizer = optim.Adam(model.parameters(),\n",
        "                       lr=3e-4,\n",
        "                       betas=(0.9, 0.999),\n",
        "                       weight_decay=5e-4)"
      ],
      "metadata": {
        "id": "yk2TfhLxFynh"
      },
      "execution_count": null,
      "outputs": []
    },
    {
      "cell_type": "code",
      "source": [
        "th = 1 - (2*abnormal_rate)\n",
        "best_loss = 10000\n",
        "es=0\n",
        "for epoch in range(1):\n",
        "  if ss_type == 'rotation':\n",
        "    act_loss = train(model, trainset_tuple, criterion, optimizer, epoch)\n",
        "  else:\n",
        "    act_loss = train_contrastive(model, trainset_tuple, criterion, optimizer, epoch)\n",
        "\n",
        "  es+=1\n",
        "  if act_loss < best_loss:\n",
        "    best_loss = act_loss\n",
        "    es=0\n",
        "  if es>50:\n",
        "    break\n",
        "  # occ = GaussianMixture(n_components=1, covariance_type=\"tied\", reg_covar=1e-03)\n",
        "  # if ss_type == 'rotation':\n",
        "  #   data_to_train = extract_features(trainset_tuple, model)\n",
        "  # else:\n",
        "  #   data_to_train = extract_features_contrastive(trainset_tuple, model)\n",
        "  # occ.fit(data_to_train)\n",
        "\n",
        "  # #Evaluate on train set\n",
        "  # evaluate(model, occ, trainset_tuple)\n",
        "  print('-----------------------------------------------')"
      ],
      "metadata": {
        "colab": {
          "base_uri": "https://localhost:8080/"
        },
        "id": "0sRM7tE3O0j-",
        "outputId": "89420960-a234-4cb8-ff65-638443910a79"
      },
      "execution_count": null,
      "outputs": [
        {
          "output_type": "stream",
          "name": "stdout",
          "text": [
            "Epoch: 1 self-supervised contrastive loss: 0.8594699968882608\n",
            "-----------------------------------------------\n"
          ]
        }
      ]
    },
    {
      "cell_type": "code",
      "source": [
        "if dataset == 'catdog':\n",
        "  testset = datasets.ImageFolder('Cat_Dog_data/test', transform=catDog_transforms)\n",
        "elif dataset == 'fmnist':\n",
        "  testset = datasets.FashionMNIST('~/.pytorch/F_MNIST_data', download=True, train=True, transform=transform)\n",
        "else:\n",
        "  testset = datasets.CIFAR10(root='data/', download=True, transform=transform)\n",
        "\n",
        "testset_tuple = preprocess_dataset(testset.data, testset.targets, len(testset.classes), abnormal_rate=abnormal_rate)"
      ],
      "metadata": {
        "id": "48OH426oj-lC",
        "colab": {
          "base_uri": "https://localhost:8080/"
        },
        "outputId": "5f2f8c1b-c01f-4180-e00d-f4b6313d22a0"
      },
      "execution_count": null,
      "outputs": [
        {
          "output_type": "stream",
          "name": "stdout",
          "text": [
            "Files already downloaded and verified\n"
          ]
        }
      ]
    },
    {
      "cell_type": "code",
      "source": [
        "\n",
        "if ss_type == 'rotation':\n",
        "  data_to_train = extract_features(trainset_tuple, model)\n",
        "else:\n",
        "  data_to_train = extract_features_contrastive(trainset_tuple, model)\n",
        "\n",
        "if ss_type == 'rotation':\n",
        "  data_to_test = extract_features(testset_tuple, model)\n",
        "else:\n",
        "  data_to_test = extract_features_contrastive(testset_tuple, model)\n",
        "\n"
      ],
      "metadata": {
        "id": "aLo18xx4er-u"
      },
      "execution_count": null,
      "outputs": []
    },
    {
      "cell_type": "code",
      "source": [
        "clf = OneClassSVM(kernel='rbf', gamma=.01).fit(data_to_train)"
      ],
      "metadata": {
        "id": "Hl1SSwGLjZFT"
      },
      "execution_count": null,
      "outputs": []
    },
    {
      "cell_type": "code",
      "source": [
        "scores_train = -clf.score_samples(data_to_train)\n",
        "scores_test = -clf.score_samples(data_to_test)"
      ],
      "metadata": {
        "id": "rXkRIs8rjH9m"
      },
      "execution_count": null,
      "outputs": []
    },
    {
      "cell_type": "code",
      "source": [
        "\n",
        "ytrain = []\n",
        "ytest = []\n",
        "for i in range(len(trainset_tuple)):\n",
        "    ytrain.append(trainset_tuple[i][1])\n",
        "\n",
        "for i in range(len(testset_tuple)):\n",
        "    ytest.append(testset_tuple[i][1])\n"
      ],
      "metadata": {
        "id": "r_DT7Yq7gnit"
      },
      "execution_count": null,
      "outputs": []
    },
    {
      "cell_type": "code",
      "source": [
        "final_th = np.quantile(scores_train, th)\n",
        "pred_train = [int(preds) for preds in scores_train > final_th]\n",
        "pred_test = [int(preds) for preds in scores_test > final_th]\n",
        "\n",
        "\n",
        "final_th"
      ],
      "metadata": {
        "colab": {
          "base_uri": "https://localhost:8080/"
        },
        "id": "VovU4Ys4hZn0",
        "outputId": "79bfa4e4-c460-410b-d0b4-8d2b7e74e6ee"
      },
      "execution_count": null,
      "outputs": [
        {
          "output_type": "execute_result",
          "data": {
            "text/plain": [
              "-285.7750252968998"
            ]
          },
          "metadata": {},
          "execution_count": 26
        }
      ]
    },
    {
      "cell_type": "code",
      "source": [
        "print('train')\n",
        "print(\"F1: {:.2f}  AUC: {:.2f}  Average precision: {:.2f}\".format(f1(pred_train, trainset_tuple), auc(pred_train, trainset_tuple), average_precision(pred_train, trainset_tuple)))\n",
        "print('test')\n",
        "print(\"F1: {:.2f}  AUC: {:.2f}  Average precision: {:.2f}\".format(f1(pred_test, testset_tuple), auc(pred_test, testset_tuple), average_precision(pred_test, testset_tuple)))"
      ],
      "metadata": {
        "colab": {
          "base_uri": "https://localhost:8080/"
        },
        "id": "TucysI5vjnXE",
        "outputId": "77f30896-6580-4dae-9745-3bc174fe2957"
      },
      "execution_count": null,
      "outputs": [
        {
          "output_type": "stream",
          "name": "stdout",
          "text": [
            "train\n",
            "F1: 0.13  AUC: 0.50  Average precision: 0.09\n",
            "test\n",
            "F1: 0.11  AUC: 0.49  Average precision: 0.09\n"
          ]
        }
      ]
    }
  ]
}